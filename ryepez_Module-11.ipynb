{
 "cells": [
  {
   "cell_type": "markdown",
   "metadata": {},
   "source": [
    "# What drives the price of a car?"
   ]
  },
  {
   "cell_type": "markdown",
   "metadata": {},
   "source": [
    "## Overview\n",
    "\n",
    "In this practical application of the Machine Learning and Artificial Intelligence certification at UC Berkeley, a dataset from kaggle will be used. The original dataset contained information on 3 million used cars but the dataset will be limited to the information on 426K cars to ensure speed of processing.  The goal is to understand what factors make a car more or less expensive.  As a result of the analysis, clear recommendations should be provided to the client ( a used car dealership ) as to what consumers value in a used car."
   ]
  },
  {
   "cell_type": "code",
   "execution_count": 258,
   "metadata": {},
   "outputs": [],
   "source": [
    "from IPython.display import display, HTML\n",
    "#display(HTML(\"<style>.container { width:75% !important; }</style>\"))\n",
    "import warnings\n",
    "warnings.filterwarnings('ignore')"
   ]
  },
  {
   "cell_type": "markdown",
   "metadata": {},
   "source": [
    "## Business Understanding\n",
    "\n",
    "From a business perspective, the task is to identify the key drivers for used car prices.  In the CRISP-DM overview, the recommendation is to convert this business framing to a data problem definition. The business task is reframed as a data task below using appropriate technical vocabulary."
   ]
  },
  {
   "cell_type": "markdown",
   "metadata": {},
   "source": [
    "**1. The objective is to identify how the different features of a used car ( independent variables ) affect the price ( dependent variable )**"
   ]
  },
  {
   "cell_type": "markdown",
   "metadata": {},
   "source": [
    "**2. Since the dependent variable is continuous, meaning the price value can be any number, this is considered a Regression analysis**"
   ]
  },
  {
   "cell_type": "markdown",
   "metadata": {},
   "source": [
    "**3. Also, given there is a specific well-known dependent variable, this is will be a Supervised learning process**"
   ]
  },
  {
   "cell_type": "markdown",
   "metadata": {},
   "source": [
    "**4. Lastly, as the ultimate goal is to maximize the price, this ML exercise is Exploitative in nature**"
   ]
  },
  {
   "cell_type": "markdown",
   "metadata": {},
   "source": [
    "## Data Understanding\n",
    "\n",
    "After considering the business understanding, the next step is to get familiar with the data. Following is the description of the steps taken to analyze the dataset and identify any quality issues within. The objective is to get to know the dataset and explore what information it contains and how this could be used to enhance the business understanding."
   ]
  },
  {
   "cell_type": "code",
   "execution_count": 2,
   "metadata": {},
   "outputs": [],
   "source": [
    "import numpy as np\n",
    "import pandas as pd\n",
    "import matplotlib.pyplot as plt\n",
    "import seaborn as sns\n",
    "import plotly.express as px"
   ]
  },
  {
   "cell_type": "markdown",
   "metadata": {},
   "source": [
    "### 1. Initial analysis"
   ]
  },
  {
   "cell_type": "markdown",
   "metadata": {},
   "source": [
    "Load dataset"
   ]
  },
  {
   "cell_type": "code",
   "execution_count": 3,
   "metadata": {},
   "outputs": [],
   "source": [
    "df = pd.read_csv('./data/vehicles.csv')"
   ]
  },
  {
   "cell_type": "markdown",
   "metadata": {},
   "source": [
    "Check the contents of the dataframe"
   ]
  },
  {
   "cell_type": "code",
   "execution_count": 4,
   "metadata": {},
   "outputs": [
    {
     "name": "stdout",
     "output_type": "stream",
     "text": [
      "<class 'pandas.core.frame.DataFrame'>\n",
      "RangeIndex: 426880 entries, 0 to 426879\n",
      "Data columns (total 18 columns):\n",
      " #   Column        Non-Null Count   Dtype  \n",
      "---  ------        --------------   -----  \n",
      " 0   id            426880 non-null  int64  \n",
      " 1   region        426880 non-null  object \n",
      " 2   price         426880 non-null  int64  \n",
      " 3   year          425675 non-null  float64\n",
      " 4   manufacturer  409234 non-null  object \n",
      " 5   model         421603 non-null  object \n",
      " 6   condition     252776 non-null  object \n",
      " 7   cylinders     249202 non-null  object \n",
      " 8   fuel          423867 non-null  object \n",
      " 9   odometer      422480 non-null  float64\n",
      " 10  title_status  418638 non-null  object \n",
      " 11  transmission  424324 non-null  object \n",
      " 12  VIN           265838 non-null  object \n",
      " 13  drive         296313 non-null  object \n",
      " 14  size          120519 non-null  object \n",
      " 15  type          334022 non-null  object \n",
      " 16  paint_color   296677 non-null  object \n",
      " 17  state         426880 non-null  object \n",
      "dtypes: float64(2), int64(2), object(14)\n",
      "memory usage: 58.6+ MB\n"
     ]
    }
   ],
   "source": [
    "df.info()"
   ]
  },
  {
   "cell_type": "markdown",
   "metadata": {},
   "source": [
    "**Initial Observations**\n",
    "* Most of the dependent variables are discrete\n",
    "* Several features (columns) have incomplete indexes (rows)\n",
    "* A few columns should be irrelevant (i.e. id, VIN)"
   ]
  },
  {
   "cell_type": "markdown",
   "metadata": {},
   "source": [
    "Evaluating missing data for each feature"
   ]
  },
  {
   "cell_type": "code",
   "execution_count": 5,
   "metadata": {},
   "outputs": [
    {
     "name": "stdout",
     "output_type": "stream",
     "text": [
      "id \t\t 0.0 %\n",
      "region \t\t 0.0 %\n",
      "price \t\t 0.0 %\n",
      "year \t\t 0.28 %\n",
      "manufacturer : \t 4.13 %\n",
      "model \t\t 1.24 %\n",
      "condition : \t 40.79 %\n",
      "cylinders : \t 41.62 %\n",
      "fuel \t\t 0.71 %\n",
      "odometer : \t 1.03 %\n",
      "title_status : \t 1.93 %\n",
      "transmission : \t 0.6 %\n",
      "VIN \t\t 37.73 %\n",
      "drive \t\t 30.59 %\n",
      "size \t\t 71.77 %\n",
      "type \t\t 21.75 %\n",
      "paint_color : \t 30.5 %\n",
      "state \t\t 0.0 %\n"
     ]
    }
   ],
   "source": [
    "for i in df.columns:\n",
    "    print(i,': \\t' if len(i) > 7 else '\\t\\t',round((df[i].isna().sum()/len(df))*100,2),'%')"
   ]
  },
  {
   "cell_type": "markdown",
   "metadata": {},
   "source": [
    "### 2. Evaluating Categorical Features"
   ]
  },
  {
   "cell_type": "markdown",
   "metadata": {},
   "source": [
    "Check option values on the different categorical features"
   ]
  },
  {
   "cell_type": "markdown",
   "metadata": {},
   "source": [
    "**REGION**"
   ]
  },
  {
   "cell_type": "code",
   "execution_count": 6,
   "metadata": {},
   "outputs": [
    {
     "data": {
      "text/plain": [
       "region\n",
       "columbus                   3608\n",
       "jacksonville               3562\n",
       "spokane / coeur d'alene    2988\n",
       "eugene                     2985\n",
       "fresno / madera            2983\n",
       "                           ... \n",
       "meridian                     28\n",
       "southwest MS                 14\n",
       "kansas city                  11\n",
       "fort smith, AR                9\n",
       "west virginia (old)           8\n",
       "Name: count, Length: 404, dtype: int64"
      ]
     },
     "execution_count": 6,
     "metadata": {},
     "output_type": "execute_result"
    }
   ],
   "source": [
    "df['region'].value_counts()"
   ]
  },
  {
   "cell_type": "markdown",
   "metadata": {},
   "source": [
    "This is a very large and convoluted classification where multiple cities are merged into a single option. Also this feature should be only relevant to each state individually. Given this includes data for the entire US, It may be best to rely on the 'state' feature to assess the effect of the car's location in the price"
   ]
  },
  {
   "cell_type": "markdown",
   "metadata": {},
   "source": [
    "**MANUFACTURER**"
   ]
  },
  {
   "cell_type": "code",
   "execution_count": 7,
   "metadata": {},
   "outputs": [
    {
     "data": {
      "text/plain": [
       "manufacturer\n",
       "ford               70985\n",
       "chevrolet          55064\n",
       "toyota             34202\n",
       "honda              21269\n",
       "nissan             19067\n",
       "jeep               19014\n",
       "ram                18342\n",
       "gmc                16785\n",
       "bmw                14699\n",
       "dodge              13707\n",
       "mercedes-benz      11817\n",
       "hyundai            10338\n",
       "subaru              9495\n",
       "volkswagen          9345\n",
       "kia                 8457\n",
       "lexus               8200\n",
       "audi                7573\n",
       "cadillac            6953\n",
       "chrysler            6031\n",
       "acura               5978\n",
       "buick               5501\n",
       "mazda               5427\n",
       "infiniti            4802\n",
       "lincoln             4220\n",
       "volvo               3374\n",
       "mitsubishi          3292\n",
       "mini                2376\n",
       "pontiac             2288\n",
       "rover               2113\n",
       "jaguar              1946\n",
       "porsche             1384\n",
       "mercury             1184\n",
       "saturn              1090\n",
       "alfa-romeo           897\n",
       "tesla                868\n",
       "fiat                 792\n",
       "harley-davidson      153\n",
       "ferrari               95\n",
       "datsun                63\n",
       "aston-martin          24\n",
       "land rover            21\n",
       "morgan                 3\n",
       "Name: count, dtype: int64"
      ]
     },
     "execution_count": 7,
     "metadata": {},
     "output_type": "execute_result"
    }
   ],
   "source": [
    "df['manufacturer'].value_counts()"
   ]
  },
  {
   "cell_type": "markdown",
   "metadata": {},
   "source": [
    "This is a very detailed classification with too many value options. It may be best to reclassify this as European, American, Japanese, Korean. Also, noticed Harley-Davidson manufacturer, which only manufactured utility cars (i.e golf carts) hence this dataset may include motorcycles, which would be a complete different dynamic when assessing the price. This feature has 5% missing data which should be imputable without major concern for introducing strong bias"
   ]
  },
  {
   "cell_type": "markdown",
   "metadata": {},
   "source": [
    "**MODEL**"
   ]
  },
  {
   "cell_type": "code",
   "execution_count": 8,
   "metadata": {},
   "outputs": [
    {
     "data": {
      "text/plain": [
       "model\n",
       "f-150                      8009\n",
       "silverado 1500             5140\n",
       "1500                       4211\n",
       "camry                      3135\n",
       "silverado                  3023\n",
       "                           ... \n",
       "plymouth fury 1               1\n",
       "f550 box truck delivery       1\n",
       "duramax 2500hd                1\n",
       "3 s sport                     1\n",
       "Paige Glenbrook Touring       1\n",
       "Name: count, Length: 29649, dtype: int64"
      ]
     },
     "execution_count": 8,
     "metadata": {},
     "output_type": "execute_result"
    }
   ],
   "source": [
    "df['model'].value_counts()"
   ]
  },
  {
   "cell_type": "markdown",
   "metadata": {},
   "source": [
    "The 'model' is also a very specific classification mostly relevant within the same brand and it should not have strong correlation across brands for a fair comparison. Using body 'type' would be more effective (i.e. truck, SUV, sedan, etc.). There is 2% missing data for this feature but most likely it will be ignored."
   ]
  },
  {
   "cell_type": "markdown",
   "metadata": {},
   "source": [
    "**CONDITION**"
   ]
  },
  {
   "cell_type": "code",
   "execution_count": 9,
   "metadata": {},
   "outputs": [
    {
     "data": {
      "text/plain": [
       "condition\n",
       "good         121456\n",
       "excellent    101467\n",
       "like new      21178\n",
       "fair           6769\n",
       "new            1305\n",
       "salvage         601\n",
       "Name: count, dtype: int64"
      ]
     },
     "execution_count": 9,
     "metadata": {},
     "output_type": "execute_result"
    }
   ],
   "source": [
    "df['condition'].value_counts()"
   ]
  },
  {
   "cell_type": "markdown",
   "metadata": {},
   "source": [
    "This feature is expected to have a high positive correlation with price and it should be possible to transform it using Ordinal Encoding. The main concern is that there is 40% of missing data for this feature, which is a high percentage to be imputed. It may be necessary to run Multiple Imputation"
   ]
  },
  {
   "cell_type": "markdown",
   "metadata": {},
   "source": [
    "**CYLINDERS**"
   ]
  },
  {
   "cell_type": "code",
   "execution_count": 10,
   "metadata": {},
   "outputs": [
    {
     "data": {
      "text/plain": [
       "cylinders\n",
       "6 cylinders     94169\n",
       "4 cylinders     77642\n",
       "8 cylinders     72062\n",
       "5 cylinders      1712\n",
       "10 cylinders     1455\n",
       "other            1298\n",
       "3 cylinders       655\n",
       "12 cylinders      209\n",
       "Name: count, dtype: int64"
      ]
     },
     "execution_count": 10,
     "metadata": {},
     "output_type": "execute_result"
    }
   ],
   "source": [
    "df['cylinders'].value_counts()"
   ]
  },
  {
   "cell_type": "markdown",
   "metadata": {},
   "source": [
    "Given the number of value options, this feature may just increase the complexity of the model, specially if using Polynomial Transformation, and not provide a strong correlation, either negative or positive, to the price. Also, since there is 41% missing data for this feature, it should likely be ignored to reduce the Multiple Imputation process and the model's complexity"
   ]
  },
  {
   "cell_type": "markdown",
   "metadata": {},
   "source": [
    "**FUEL**"
   ]
  },
  {
   "cell_type": "code",
   "execution_count": 11,
   "metadata": {},
   "outputs": [
    {
     "data": {
      "text/plain": [
       "fuel\n",
       "gas         356209\n",
       "other        30728\n",
       "diesel       30062\n",
       "hybrid        5170\n",
       "electric      1698\n",
       "Name: count, dtype: int64"
      ]
     },
     "execution_count": 11,
     "metadata": {},
     "output_type": "execute_result"
    }
   ],
   "source": [
    "df['fuel'].value_counts()"
   ]
  },
  {
   "cell_type": "markdown",
   "metadata": {},
   "source": [
    "This feature is also expected to have a strong correlation to the price. There is < 1% missing data for this feature so there should be no problem to impute it without any concern for introducing strong bias"
   ]
  },
  {
   "cell_type": "markdown",
   "metadata": {},
   "source": [
    "**TITLE STATUS**"
   ]
  },
  {
   "cell_type": "code",
   "execution_count": 12,
   "metadata": {},
   "outputs": [
    {
     "data": {
      "text/plain": [
       "title_status\n",
       "clean         405117\n",
       "rebuilt         7219\n",
       "salvage         3868\n",
       "lien            1422\n",
       "missing          814\n",
       "parts only       198\n",
       "Name: count, dtype: int64"
      ]
     },
     "execution_count": 12,
     "metadata": {},
     "output_type": "execute_result"
    }
   ],
   "source": [
    "df['title_status'].value_counts()"
   ]
  },
  {
   "cell_type": "markdown",
   "metadata": {},
   "source": [
    "This feature should also be strongly correlated with the price. There is 2% missing data for this feature so there should be no problem to impute it without any concern for introducing strong bias. The feature can be renamed for simplicity if using Polynomial Features"
   ]
  },
  {
   "cell_type": "markdown",
   "metadata": {},
   "source": [
    "**TRANSMISSION**"
   ]
  },
  {
   "cell_type": "code",
   "execution_count": 13,
   "metadata": {},
   "outputs": [
    {
     "data": {
      "text/plain": [
       "transmission\n",
       "automatic    336524\n",
       "other         62682\n",
       "manual        25118\n",
       "Name: count, dtype: int64"
      ]
     },
     "execution_count": 13,
     "metadata": {},
     "output_type": "execute_result"
    }
   ],
   "source": [
    "df['transmission'].value_counts()"
   ]
  },
  {
   "cell_type": "markdown",
   "metadata": {},
   "source": [
    "This feature should have some positive correlation with the price. There is < 1% missing data for this feature so there should be no problem to impute it without any concern for introducing strong bias"
   ]
  },
  {
   "cell_type": "markdown",
   "metadata": {},
   "source": [
    "**DRIVE**"
   ]
  },
  {
   "cell_type": "code",
   "execution_count": 14,
   "metadata": {},
   "outputs": [
    {
     "data": {
      "text/plain": [
       "drive\n",
       "4wd    131904\n",
       "fwd    105517\n",
       "rwd     58892\n",
       "Name: count, dtype: int64"
      ]
     },
     "execution_count": 14,
     "metadata": {},
     "output_type": "execute_result"
    }
   ],
   "source": [
    "df['drive'].value_counts()"
   ]
  },
  {
   "cell_type": "markdown",
   "metadata": {},
   "source": [
    "This feature should have some positive correlation with the price. Given there is 31% missing data for this feature, it should likely be ignored to reduce the Multiple Imputation process"
   ]
  },
  {
   "cell_type": "markdown",
   "metadata": {},
   "source": [
    "**SIZE**"
   ]
  },
  {
   "cell_type": "code",
   "execution_count": 15,
   "metadata": {},
   "outputs": [
    {
     "data": {
      "text/plain": [
       "size\n",
       "full-size      63465\n",
       "mid-size       34476\n",
       "compact        19384\n",
       "sub-compact     3194\n",
       "Name: count, dtype: int64"
      ]
     },
     "execution_count": 15,
     "metadata": {},
     "output_type": "execute_result"
    }
   ],
   "source": [
    "df['size'].value_counts()"
   ]
  },
  {
   "cell_type": "markdown",
   "metadata": {},
   "source": [
    "This feature should have strong positive correlation with the price. Despite the expected importance, there is 72% missing data therefore this feature should be ignored"
   ]
  },
  {
   "cell_type": "markdown",
   "metadata": {},
   "source": [
    "**TYPE**"
   ]
  },
  {
   "cell_type": "code",
   "execution_count": 16,
   "metadata": {},
   "outputs": [
    {
     "data": {
      "text/plain": [
       "type\n",
       "sedan          87056\n",
       "SUV            77284\n",
       "pickup         43510\n",
       "truck          35279\n",
       "other          22110\n",
       "coupe          19204\n",
       "hatchback      16598\n",
       "wagon          10751\n",
       "van             8548\n",
       "convertible     7731\n",
       "mini-van        4825\n",
       "offroad          609\n",
       "bus              517\n",
       "Name: count, dtype: int64"
      ]
     },
     "execution_count": 16,
     "metadata": {},
     "output_type": "execute_result"
    }
   ],
   "source": [
    "df['type'].value_counts()"
   ]
  },
  {
   "cell_type": "markdown",
   "metadata": {},
   "source": [
    "This feature should also be highly correlated with the price. The main concern is that there is 22% of missing data for this feature, which is a high percentage to be imputed. It may be necessary to run Multiple Imputation Also, the effect of other features ('size' & 'model') that will likely be ignored may be correlated with this feature"
   ]
  },
  {
   "cell_type": "markdown",
   "metadata": {},
   "source": [
    "**PAINT COLOR**"
   ]
  },
  {
   "cell_type": "code",
   "execution_count": 17,
   "metadata": {},
   "outputs": [
    {
     "data": {
      "text/plain": [
       "paint_color\n",
       "white     79285\n",
       "black     62861\n",
       "silver    42970\n",
       "blue      31223\n",
       "red       30473\n",
       "grey      24416\n",
       "green      7343\n",
       "custom     6700\n",
       "brown      6593\n",
       "yellow     2142\n",
       "orange     1984\n",
       "purple      687\n",
       "Name: count, dtype: int64"
      ]
     },
     "execution_count": 17,
     "metadata": {},
     "output_type": "execute_result"
    }
   ],
   "source": [
    "df['paint_color'].value_counts()"
   ]
  },
  {
   "cell_type": "markdown",
   "metadata": {},
   "source": [
    "This feature is expected to have some correlation with the price. Given there is 31% missing data for this feature, it should likely be ignored to reduce the Multiple Imputation process"
   ]
  },
  {
   "cell_type": "markdown",
   "metadata": {},
   "source": [
    "**STATE**"
   ]
  },
  {
   "cell_type": "code",
   "execution_count": 18,
   "metadata": {},
   "outputs": [
    {
     "data": {
      "text/plain": [
       "state\n",
       "ca    50614\n",
       "fl    28511\n",
       "tx    22945\n",
       "ny    19386\n",
       "oh    17696\n",
       "or    17104\n",
       "mi    16900\n",
       "nc    15277\n",
       "wa    13861\n",
       "pa    13753\n",
       "wi    11398\n",
       "co    11088\n",
       "tn    11066\n",
       "va    10732\n",
       "il    10387\n",
       "nj     9742\n",
       "id     8961\n",
       "az     8679\n",
       "ia     8632\n",
       "ma     8174\n",
       "mn     7716\n",
       "ga     7003\n",
       "ok     6792\n",
       "sc     6327\n",
       "mt     6294\n",
       "ks     6209\n",
       "in     5704\n",
       "ct     5188\n",
       "al     4955\n",
       "md     4778\n",
       "nm     4425\n",
       "mo     4293\n",
       "ky     4149\n",
       "ar     4038\n",
       "ak     3474\n",
       "la     3196\n",
       "nv     3194\n",
       "nh     2981\n",
       "dc     2970\n",
       "me     2966\n",
       "hi     2964\n",
       "vt     2513\n",
       "ri     2320\n",
       "sd     1302\n",
       "ut     1150\n",
       "wv     1052\n",
       "ne     1036\n",
       "ms     1016\n",
       "de      949\n",
       "wy      610\n",
       "nd      410\n",
       "Name: count, dtype: int64"
      ]
     },
     "execution_count": 18,
     "metadata": {},
     "output_type": "execute_result"
    }
   ],
   "source": [
    "df['state'].value_counts()"
   ]
  },
  {
   "cell_type": "markdown",
   "metadata": {},
   "source": [
    "The state is expected to have a strong correlation with the price but given the large number of value options, this feature would increase significantly the complexity of any model therefore it may be evaluated separately. It should be dropped for the initial modeling"
   ]
  },
  {
   "cell_type": "markdown",
   "metadata": {},
   "source": [
    "**'VIN'** will be ignored as that is a unique identifier for the vehicle so it should be irrelevant to the price. The information encoded in the VIN number can be inferred from other features like 'year', 'model', 'manufacturer', etc."
   ]
  },
  {
   "cell_type": "markdown",
   "metadata": {},
   "source": [
    "### 3. Evaluating Numerical Features"
   ]
  },
  {
   "cell_type": "markdown",
   "metadata": {},
   "source": [
    "**'id'** will be ignored as that is an additional index for every entry so it should be irrelevant to the price"
   ]
  },
  {
   "cell_type": "markdown",
   "metadata": {},
   "source": [
    "Evaluating value distribution for numerical features"
   ]
  },
  {
   "cell_type": "markdown",
   "metadata": {},
   "source": [
    "**YEAR**"
   ]
  },
  {
   "cell_type": "code",
   "execution_count": 19,
   "metadata": {},
   "outputs": [
    {
     "data": {
      "text/plain": [
       "year\n",
       "1909.0        1\n",
       "1918.0        1\n",
       "1943.0        1\n",
       "1905.0        1\n",
       "1902.0        1\n",
       "          ...  \n",
       "2016.0    30434\n",
       "2013.0    30794\n",
       "2015.0    31538\n",
       "2018.0    36369\n",
       "2017.0    36420\n",
       "Name: count, Length: 114, dtype: int64"
      ]
     },
     "execution_count": 19,
     "metadata": {},
     "output_type": "execute_result"
    }
   ],
   "source": [
    "df['year'].value_counts().sort_values()"
   ]
  },
  {
   "cell_type": "markdown",
   "metadata": {},
   "source": [
    "There are no negative or 0 values so there should be no problem applying logarithmic transformation"
   ]
  },
  {
   "cell_type": "code",
   "execution_count": 20,
   "metadata": {},
   "outputs": [
    {
     "data": {
      "text/plain": [
       "count    425675.000000\n",
       "mean       2011.235191\n",
       "std           9.452120\n",
       "min        1900.000000\n",
       "25%        2008.000000\n",
       "50%        2013.000000\n",
       "75%        2017.000000\n",
       "max        2022.000000\n",
       "Name: year, dtype: float64"
      ]
     },
     "execution_count": 20,
     "metadata": {},
     "output_type": "execute_result"
    }
   ],
   "source": [
    "df['year'].describe()"
   ]
  },
  {
   "cell_type": "code",
   "execution_count": 21,
   "metadata": {},
   "outputs": [
    {
     "data": {
      "text/plain": [
       "<seaborn.axisgrid.FacetGrid at 0x1040bfd90>"
      ]
     },
     "execution_count": 21,
     "metadata": {},
     "output_type": "execute_result"
    },
    {
     "data": {
      "image/png": "[encoded data removed]",
      "text/plain": [
       "<Figure size 500x500 with 1 Axes>"
      ]
     },
     "metadata": {},
     "output_type": "display_data"
    }
   ],
   "source": [
    "sns.displot(df['year']).set(title='Year Distribution', xlabel='Year Model', ylabel='Number of Cars')"
   ]
  },
  {
   "cell_type": "markdown",
   "metadata": {},
   "source": [
    "The year model should be more appropriate as an integer and it may be bes to reclassify this as the 'age' of the car to have a better scaling with relation to other values. Also, there is 1% missing values for this feature which should be imputable without major concern for introducing strong bias"
   ]
  },
  {
   "cell_type": "code",
   "execution_count": 22,
   "metadata": {},
   "outputs": [
    {
     "data": {
      "text/plain": [
       "count    425675.000000\n",
       "mean          1.030006\n",
       "std           0.244319\n",
       "min           0.301030\n",
       "25%           0.845098\n",
       "50%           1.041393\n",
       "75%           1.204120\n",
       "max           2.093422\n",
       "Name: year, dtype: float64"
      ]
     },
     "execution_count": 22,
     "metadata": {},
     "output_type": "execute_result"
    }
   ],
   "source": [
    "np.log10(2024 - df['year']).describe()"
   ]
  },
  {
   "cell_type": "code",
   "execution_count": 259,
   "metadata": {},
   "outputs": [
    {
     "data": {
      "text/plain": [
       "<seaborn.axisgrid.FacetGrid at 0xb79cc4290>"
      ]
     },
     "execution_count": 259,
     "metadata": {},
     "output_type": "execute_result"
    },
    {
     "data": {
      "image/png": "[encoded data removed]",
      "text/plain": [
       "<Figure size 500x500 with 1 Axes>"
      ]
     },
     "metadata": {},
     "output_type": "display_data"
    }
   ],
   "source": [
    "sns.displot(np.log10(2024 - df['year'])).\\\n",
    "set(title='Car Age Logarithmic Distribution', xlabel='Age', ylabel='Number of Cars')"
   ]
  },
  {
   "cell_type": "markdown",
   "metadata": {},
   "source": [
    "**ODOMETER**"
   ]
  },
  {
   "cell_type": "code",
   "execution_count": 24,
   "metadata": {},
   "outputs": [
    {
     "data": {
      "text/plain": [
       "odometer\n",
       "0.0           1965\n",
       "1.0           2246\n",
       "2.0            153\n",
       "3.0             58\n",
       "4.0            138\n",
       "              ... \n",
       "9099999.0        1\n",
       "9750924.0        1\n",
       "9876543.0        1\n",
       "9999999.0       88\n",
       "10000000.0      50\n",
       "Name: count, Length: 104870, dtype: int64"
      ]
     },
     "execution_count": 24,
     "metadata": {},
     "output_type": "execute_result"
    }
   ],
   "source": [
    "df['odometer'].value_counts().sort_index()"
   ]
  },
  {
   "cell_type": "markdown",
   "metadata": {},
   "source": [
    "This feature is also expected to have a high correlation with the price. As this is a continuous variable, it may be used as is otherwise it could be reclassified per milage range (i.e. 25K, 50K, 100K, 150K, 200K+). There is a 1% missing data for this feature so there should be no problem to impute it without any concern for introducing strong bias. There are 0 values which may present a problem if applying logarithmic transformation and those values may have to be reset to 1"
   ]
  },
  {
   "cell_type": "code",
   "execution_count": 25,
   "metadata": {},
   "outputs": [
    {
     "data": {
      "text/plain": [
       "count    4.224800e+05\n",
       "mean     9.804333e+04\n",
       "std      2.138815e+05\n",
       "min      0.000000e+00\n",
       "25%      3.770400e+04\n",
       "50%      8.554800e+04\n",
       "75%      1.335425e+05\n",
       "max      1.000000e+07\n",
       "Name: odometer, dtype: float64"
      ]
     },
     "execution_count": 25,
     "metadata": {},
     "output_type": "execute_result"
    }
   ],
   "source": [
    "df['odometer'].describe()"
   ]
  },
  {
   "cell_type": "code",
   "execution_count": 26,
   "metadata": {},
   "outputs": [
    {
     "data": {
      "text/plain": [
       "<seaborn.axisgrid.FacetGrid at 0x15e056610>"
      ]
     },
     "execution_count": 26,
     "metadata": {},
     "output_type": "execute_result"
    },
    {
     "data": {
      "image/png": "[encoded data removed]",
      "text/plain": [
       "<Figure size 500x500 with 1 Axes>"
      ]
     },
     "metadata": {},
     "output_type": "display_data"
    }
   ],
   "source": [
    "sns.displot(df['odometer']).set(title='Odometer Distribution', xlabel='Odometer', ylabel='Number of Cars')"
   ]
  },
  {
   "cell_type": "markdown",
   "metadata": {},
   "source": [
    "The 'odometer' distribution is very skewed so it may be necessary to remove outliers or apply a logarithmic transformation"
   ]
  },
  {
   "cell_type": "code",
   "execution_count": 27,
   "metadata": {},
   "outputs": [
    {
     "data": {
      "text/plain": [
       "count    4.224800e+05\n",
       "mean             -inf\n",
       "std               NaN\n",
       "min              -inf\n",
       "25%      4.576387e+00\n",
       "50%      4.932210e+00\n",
       "75%      5.125620e+00\n",
       "max      7.000000e+00\n",
       "Name: odometer, dtype: float64"
      ]
     },
     "execution_count": 27,
     "metadata": {},
     "output_type": "execute_result"
    }
   ],
   "source": [
    "np.log10(df['odometer']).describe()"
   ]
  },
  {
   "cell_type": "code",
   "execution_count": 262,
   "metadata": {},
   "outputs": [
    {
     "data": {
      "text/plain": [
       "<seaborn.axisgrid.FacetGrid at 0xb79bfa090>"
      ]
     },
     "execution_count": 262,
     "metadata": {},
     "output_type": "execute_result"
    },
    {
     "data": {
      "image/png": "[encoded data removed]",
      "text/plain": [
       "<Figure size 500x500 with 1 Axes>"
      ]
     },
     "metadata": {},
     "output_type": "display_data"
    }
   ],
   "source": [
    "sns.displot(np.log10(df['odometer'])).\\\n",
    "set(title='Odometer Logarithmic Distribution', xlabel='Odometer', ylabel='Number of Cars')"
   ]
  },
  {
   "cell_type": "markdown",
   "metadata": {},
   "source": [
    "Evaluating correlation plot between numeric features and target variable"
   ]
  },
  {
   "cell_type": "code",
   "execution_count": 100,
   "metadata": {},
   "outputs": [
    {
     "data": {
      "text/plain": [
       "Text(0.5, 1.02, 'Correlation Numeric Features')"
      ]
     },
     "execution_count": 100,
     "metadata": {},
     "output_type": "execute_result"
    },
    {
     "data": {
      "image/png": "[encoded data removed]",
      "text/plain": [
       "<Figure size 750x750 with 12 Axes>"
      ]
     },
     "metadata": {},
     "output_type": "display_data"
    }
   ],
   "source": [
    "df_plot = pd.DataFrame({'log10_price':np.log10(df['price']),\\\n",
    "                        'year':df['year'],\\\n",
    "                        'log10_odometer':np.log10(df['odometer'])})\n",
    "df_fig = sns.pairplot(df_plot)\n",
    "df_fig.fig.suptitle('Correlation Numeric Features', y=1.02)"
   ]
  },
  {
   "cell_type": "markdown",
   "metadata": {},
   "source": [
    "Evaluating the implication of dropping NaN values for multiple features that could be considered critical"
   ]
  },
  {
   "cell_type": "code",
   "execution_count": 29,
   "metadata": {},
   "outputs": [
    {
     "name": "stdout",
     "output_type": "stream",
     "text": [
      "Condition & Type\n",
      "\tCombined missing data: 48.46 %\n"
     ]
    }
   ],
   "source": [
    "condition_type_missing = len(df.query('(condition.isna()) | (condition.notna() & type.isna())'))\n",
    "print('Condition & Type')\n",
    "print('\\tCombined missing data:',round((condition_type_missing)/len(df)*100,2),'%')"
   ]
  },
  {
   "cell_type": "markdown",
   "metadata": {},
   "source": [
    "This is a very high percentage of data loss if wanting to preserve those two features but considering 'condition' alone is 40%, the extra loss preserving 'type' should be less significant. Common sense and industry experts would agree that the condition and the type of vehicle should have a very strong correlation with the price"
   ]
  },
  {
   "cell_type": "markdown",
   "metadata": {},
   "source": [
    "### 3. Evaluating target variable"
   ]
  },
  {
   "cell_type": "code",
   "execution_count": 30,
   "metadata": {},
   "outputs": [
    {
     "data": {
      "text/plain": [
       "price\n",
       "0             32895\n",
       "1              1951\n",
       "2                13\n",
       "3                 9\n",
       "4                 4\n",
       "              ...  \n",
       "1234567890        1\n",
       "1410065407        1\n",
       "3009548743        1\n",
       "3024942282        2\n",
       "3736928711        2\n",
       "Name: count, Length: 15655, dtype: int64"
      ]
     },
     "execution_count": 30,
     "metadata": {},
     "output_type": "execute_result"
    }
   ],
   "source": [
    "df['price'].value_counts().sort_index()"
   ]
  },
  {
   "cell_type": "markdown",
   "metadata": {},
   "source": [
    "The value distribution for the target variable seems skewed and it contains 0 values which may be a problem if applying logarithmic transformation. Those values may need to be reset to 1"
   ]
  },
  {
   "cell_type": "code",
   "execution_count": 31,
   "metadata": {},
   "outputs": [
    {
     "data": {
      "text/plain": [
       "count    4.268800e+05\n",
       "mean     7.519903e+04\n",
       "std      1.218228e+07\n",
       "min      0.000000e+00\n",
       "25%      5.900000e+03\n",
       "50%      1.395000e+04\n",
       "75%      2.648575e+04\n",
       "max      3.736929e+09\n",
       "Name: price, dtype: float64"
      ]
     },
     "execution_count": 31,
     "metadata": {},
     "output_type": "execute_result"
    }
   ],
   "source": [
    "df['price'].describe()"
   ]
  },
  {
   "cell_type": "code",
   "execution_count": 263,
   "metadata": {},
   "outputs": [
    {
     "data": {
      "text/plain": [
       "<seaborn.axisgrid.FacetGrid at 0xb7a069050>"
      ]
     },
     "execution_count": 263,
     "metadata": {},
     "output_type": "execute_result"
    },
    {
     "data": {
      "image/png": "[encoded data removed]",
      "text/plain": [
       "<Figure size 500x500 with 1 Axes>"
      ]
     },
     "metadata": {},
     "output_type": "display_data"
    }
   ],
   "source": [
    "sns.displot(np.log10(df['price'])).\\\n",
    "set(title='Price Logarithmic Distribution', xlabel='Price', ylabel='Number of Cars')"
   ]
  },
  {
   "cell_type": "markdown",
   "metadata": {},
   "source": [
    "## Data Preparation\n",
    "\n",
    "After the initial exploration and fine tuning of the business understanding, it is time to construct the final dataset prior to modeling.  Here, it is important to handle any integrity issues and cleaning, the engineering of new features, any transformations that should happen (scaling, logarithms, normalization, etc.), and general preparation for modeling. "
   ]
  },
  {
   "cell_type": "markdown",
   "metadata": {},
   "source": [
    "### 1. Dataset processing"
   ]
  },
  {
   "cell_type": "code",
   "execution_count": null,
   "metadata": {},
   "outputs": [],
   "source": [
    "from sklearn.compose import make_column_transformer, TransformedTargetRegressor\n",
    "from sklearn.preprocessing import PolynomialFeatures, StandardScaler, OneHotEncoder, OrdinalEncoder"
   ]
  },
  {
   "cell_type": "markdown",
   "metadata": {},
   "source": [
    "Dropping columns deemed unnecessary or inadequate"
   ]
  },
  {
   "cell_type": "code",
   "execution_count": 36,
   "metadata": {},
   "outputs": [],
   "source": [
    "drop_columns = ['id','region','model','cylinders','VIN','drive','size','paint_color','state']\n",
    "df_clean = df.drop(columns=drop_columns)"
   ]
  },
  {
   "cell_type": "markdown",
   "metadata": {},
   "source": [
    "Renaming 'title_status'"
   ]
  },
  {
   "cell_type": "code",
   "execution_count": 37,
   "metadata": {},
   "outputs": [],
   "source": [
    "df_clean.rename(columns={'title_status':'title'}, inplace=True)"
   ]
  },
  {
   "cell_type": "markdown",
   "metadata": {},
   "source": [
    "Dropping NaN values for features considered critical. This would be an initial step for a Multiple Imputation process"
   ]
  },
  {
   "cell_type": "code",
   "execution_count": 38,
   "metadata": {},
   "outputs": [],
   "source": [
    "df_clean.dropna(subset=['condition','type'], inplace=True)"
   ]
  },
  {
   "cell_type": "markdown",
   "metadata": {},
   "source": [
    "Filling in missing values for the remaining features"
   ]
  },
  {
   "cell_type": "code",
   "execution_count": 39,
   "metadata": {},
   "outputs": [
    {
     "name": "stdout",
     "output_type": "stream",
     "text": [
      "<class 'pandas.core.frame.DataFrame'>\n",
      "Index: 220001 entries, 27 to 426879\n",
      "Data columns (total 9 columns):\n",
      " #   Column        Non-Null Count   Dtype  \n",
      "---  ------        --------------   -----  \n",
      " 0   price         220001 non-null  int64  \n",
      " 1   year          220001 non-null  float64\n",
      " 2   manufacturer  220001 non-null  object \n",
      " 3   condition     220001 non-null  object \n",
      " 4   fuel          220001 non-null  object \n",
      " 5   odometer      220001 non-null  float64\n",
      " 6   title         220001 non-null  object \n",
      " 7   transmission  220001 non-null  object \n",
      " 8   type          220001 non-null  object \n",
      "dtypes: float64(2), int64(1), object(6)\n",
      "memory usage: 16.8+ MB\n"
     ]
    }
   ],
   "source": [
    "df_clean.ffill(inplace=True)\n",
    "df_clean.info()"
   ]
  },
  {
   "cell_type": "markdown",
   "metadata": {},
   "source": [
    "Converting 'year' model to 'age'"
   ]
  },
  {
   "cell_type": "code",
   "execution_count": 40,
   "metadata": {},
   "outputs": [],
   "source": [
    "df_clean['age'] = (2024 - df_clean['year']).astype(int)\n",
    "df_clean.drop(columns=['year'], inplace=True)"
   ]
  },
  {
   "cell_type": "markdown",
   "metadata": {},
   "source": [
    "Aggregating 'manufacturer' values into the worlds region where the brand is originally from"
   ]
  },
  {
   "cell_type": "code",
   "execution_count": 41,
   "metadata": {},
   "outputs": [],
   "source": [
    "brand = {'usa':['ford','chevrolet','jeep','gmc','ram','dodge','cadillac','buick','chrysler','lincoln',\\\n",
    "                'pontiac','mercury','tesla','saturn','harley-davidson'],\n",
    "         'jap':['toyota','honda','nissan','lexus','subaru','acura','infiniti','mazda','mitsubishi','datsun'],\n",
    "         'eur':['bmw','mercedes-benz','volkswagen','audi','volvo','jaguar','mini','rover','alfa-romeo',\\\n",
    "                'porsche','fiat','ferrari','aston-martin','land rover','morgan'],\n",
    "         'kor':['hyundai','kia'],}\n",
    "df_clean['brand'] = df_clean['manufacturer'].apply(lambda x: 'usa' if x in brand['usa'] else \\\n",
    "                                                            ('jap' if x in brand['jap'] else \\\n",
    "                                                            ('eur' if x in brand['eur'] else \\\n",
    "                                                            ('kor' if x in brand['kor'] else None))))\n",
    "df_clean.drop(columns='manufacturer', inplace=True)"
   ]
  },
  {
   "cell_type": "markdown",
   "metadata": {},
   "source": [
    "Transforing 'odometer' to logarithmic values"
   ]
  },
  {
   "cell_type": "code",
   "execution_count": 42,
   "metadata": {},
   "outputs": [
    {
     "data": {
      "text/plain": [
       "count    212089.000000\n",
       "mean          4.812925\n",
       "std           0.402387\n",
       "min           3.569374\n",
       "25%           4.542340\n",
       "50%           4.911977\n",
       "75%           5.122949\n",
       "max           6.039811\n",
       "Name: odometer, dtype: float64"
      ]
     },
     "execution_count": 42,
     "metadata": {},
     "output_type": "execute_result"
    }
   ],
   "source": [
    "df_clean['odometer'] = df_clean['odometer'].apply(lambda x: 0 if x <= 1 else np.log10(x))\n",
    "Q1 = df_clean['odometer'].quantile(0.25)\n",
    "Q3 = df_clean['odometer'].quantile(0.75)\n",
    "IQR = Q3 - Q1\n",
    "lower_limit = Q1 - 1.5 * IQR\n",
    "upper_limit = Q3 + 1.5 * IQR\n",
    "df_clean = df_clean.query('(odometer >= @lower_limit) & (odometer <= @upper_limit)')\n",
    "df_clean['odometer'].describe()"
   ]
  },
  {
   "cell_type": "code",
   "execution_count": 43,
   "metadata": {},
   "outputs": [
    {
     "data": {
      "text/plain": [
       "<seaborn.axisgrid.FacetGrid at 0x300408e10>"
      ]
     },
     "execution_count": 43,
     "metadata": {},
     "output_type": "execute_result"
    },
    {
     "data": {
      "image/png": "[encoded data removed]",
      "text/plain": [
       "<Figure size 500x500 with 1 Axes>"
      ]
     },
     "metadata": {},
     "output_type": "display_data"
    }
   ],
   "source": [
    "sns.displot(df_clean['odometer']).\\\n",
    "set(title='Odometer Logarithmic Distribution w/o Outliers', xlabel='Odometer', ylabel='Number of Cars') "
   ]
  },
  {
   "cell_type": "markdown",
   "metadata": {},
   "source": [
    "### 2 . Processing target variable"
   ]
  },
  {
   "cell_type": "markdown",
   "metadata": {},
   "source": [
    "Changing price to integer value"
   ]
  },
  {
   "cell_type": "code",
   "execution_count": 47,
   "metadata": {},
   "outputs": [],
   "source": [
    "df_clean['price'] = df_clean['price'].astype(int)"
   ]
  },
  {
   "cell_type": "markdown",
   "metadata": {},
   "source": [
    "Given the distribution, the target variable will be transformed log10\n",
    "Replacing values 0 for 1 to prevent infinite results with the logarithmic transformation of the target variable"
   ]
  },
  {
   "cell_type": "code",
   "execution_count": 48,
   "metadata": {},
   "outputs": [],
   "source": [
    "df_clean['price'] = df_clean['price'].apply(lambda x: 0 if x <= 1 else np.log10(x))"
   ]
  },
  {
   "cell_type": "markdown",
   "metadata": {},
   "source": [
    "Removing outliers"
   ]
  },
  {
   "cell_type": "code",
   "execution_count": 49,
   "metadata": {},
   "outputs": [
    {
     "data": {
      "text/plain": [
       "count    200056.000000\n",
       "mean          4.148067\n",
       "std           0.362455\n",
       "min           2.951823\n",
       "25%           3.900367\n",
       "50%           4.204066\n",
       "75%           4.447003\n",
       "max           5.311752\n",
       "Name: price, dtype: float64"
      ]
     },
     "execution_count": 49,
     "metadata": {},
     "output_type": "execute_result"
    }
   ],
   "source": [
    "Q1 = df_clean['price'].quantile(0.25)\n",
    "Q3 = df_clean['price'].quantile(0.75)\n",
    "IQR = Q3 - Q1\n",
    "lower_limit = Q1 - 1.5 * IQR\n",
    "upper_limit = Q3 + 1.5 * IQR\n",
    "df_clean = df_clean.query('(price >= @lower_limit) & (price <= @upper_limit)')\n",
    "df_clean['price'].describe()"
   ]
  },
  {
   "cell_type": "markdown",
   "metadata": {},
   "source": [
    "Evaluating target variable transformation"
   ]
  },
  {
   "cell_type": "code",
   "execution_count": 50,
   "metadata": {},
   "outputs": [
    {
     "data": {
      "text/plain": [
       "<seaborn.axisgrid.FacetGrid at 0x300406cd0>"
      ]
     },
     "execution_count": 50,
     "metadata": {},
     "output_type": "execute_result"
    },
    {
     "data": {
      "image/png": "[encoded data removed]",
      "text/plain": [
       "<Figure size 500x500 with 1 Axes>"
      ]
     },
     "metadata": {},
     "output_type": "display_data"
    }
   ],
   "source": [
    "sns.displot(df_clean['price']).\\\n",
    "set(title='Price Logarithmic Distribution', xlabel='Price', ylabel='Number of Cars')"
   ]
  },
  {
   "cell_type": "markdown",
   "metadata": {},
   "source": [
    "### 3. Feature Engineering"
   ]
  },
  {
   "cell_type": "markdown",
   "metadata": {},
   "source": [
    "List of categorical features for Ordinal Encoding"
   ]
  },
  {
   "cell_type": "code",
   "execution_count": 323,
   "metadata": {},
   "outputs": [],
   "source": [
    "ore_features = ['condition']"
   ]
  },
  {
   "cell_type": "markdown",
   "metadata": {},
   "source": [
    "List of remaining categorical features for OneHotEncoding "
   ]
  },
  {
   "cell_type": "code",
   "execution_count": 324,
   "metadata": {},
   "outputs": [],
   "source": [
    "df_clean.rename(columns={'title_status':'title'}, inplace=True)\n",
    "ohe_features = ['brand','fuel','title','transmission','type']"
   ]
  },
  {
   "cell_type": "markdown",
   "metadata": {},
   "source": [
    "List of numeric features for Scaling"
   ]
  },
  {
   "cell_type": "code",
   "execution_count": 325,
   "metadata": {},
   "outputs": [],
   "source": [
    "num_features = ['age','odometer']"
   ]
  },
  {
   "cell_type": "markdown",
   "metadata": {},
   "source": [
    "Instantiating the column transformer for feature engineering"
   ]
  },
  {
   "cell_type": "code",
   "execution_count": 326,
   "metadata": {},
   "outputs": [
    {
     "data": {
      "text/html": [
       "<style>#sk-container-id-15 {color: black;background-color: white;}#sk-container-id-15 pre{padding: 0;}#sk-container-id-15 div.sk-toggleable {background-color: white;}#sk-container-id-15 label.sk-toggleable__label {cursor: pointer;display: block;width: 100%;margin-bottom: 0;padding: 0.3em;box-sizing: border-box;text-align: center;}#sk-container-id-15 label.sk-toggleable__label-arrow:before {content: \"▸\";float: left;margin-right: 0.25em;color: #696969;}#sk-container-id-15 label.sk-toggleable__label-arrow:hover:before {color: black;}#sk-container-id-15 div.sk-estimator:hover label.sk-toggleable__label-arrow:before {color: black;}#sk-container-id-15 div.sk-toggleable__content {max-height: 0;max-width: 0;overflow: hidden;text-align: left;background-color: #f0f8ff;}#sk-container-id-15 div.sk-toggleable__content pre {margin: 0.2em;color: black;border-radius: 0.25em;background-color: #f0f8ff;}#sk-container-id-15 input.sk-toggleable__control:checked~div.sk-toggleable__content {max-height: 200px;max-width: 100%;overflow: auto;}#sk-container-id-15 input.sk-toggleable__control:checked~label.sk-toggleable__label-arrow:before {content: \"▾\";}#sk-container-id-15 div.sk-estimator input.sk-toggleable__control:checked~label.sk-toggleable__label {background-color: #d4ebff;}#sk-container-id-15 div.sk-label input.sk-toggleable__control:checked~label.sk-toggleable__label {background-color: #d4ebff;}#sk-container-id-15 input.sk-hidden--visually {border: 0;clip: rect(1px 1px 1px 1px);clip: rect(1px, 1px, 1px, 1px);height: 1px;margin: -1px;overflow: hidden;padding: 0;position: absolute;width: 1px;}#sk-container-id-15 div.sk-estimator {font-family: monospace;background-color: #f0f8ff;border: 1px dotted black;border-radius: 0.25em;box-sizing: border-box;margin-bottom: 0.5em;}#sk-container-id-15 div.sk-estimator:hover {background-color: #d4ebff;}#sk-container-id-15 div.sk-parallel-item::after {content: \"\";width: 100%;border-bottom: 1px solid gray;flex-grow: 1;}#sk-container-id-15 div.sk-label:hover label.sk-toggleable__label {background-color: #d4ebff;}#sk-container-id-15 div.sk-serial::before {content: \"\";position: absolute;border-left: 1px solid gray;box-sizing: border-box;top: 0;bottom: 0;left: 50%;z-index: 0;}#sk-container-id-15 div.sk-serial {display: flex;flex-direction: column;align-items: center;background-color: white;padding-right: 0.2em;padding-left: 0.2em;position: relative;}#sk-container-id-15 div.sk-item {position: relative;z-index: 1;}#sk-container-id-15 div.sk-parallel {display: flex;align-items: stretch;justify-content: center;background-color: white;position: relative;}#sk-container-id-15 div.sk-item::before, #sk-container-id-15 div.sk-parallel-item::before {content: \"\";position: absolute;border-left: 1px solid gray;box-sizing: border-box;top: 0;bottom: 0;left: 50%;z-index: -1;}#sk-container-id-15 div.sk-parallel-item {display: flex;flex-direction: column;z-index: 1;position: relative;background-color: white;}#sk-container-id-15 div.sk-parallel-item:first-child::after {align-self: flex-end;width: 50%;}#sk-container-id-15 div.sk-parallel-item:last-child::after {align-self: flex-start;width: 50%;}#sk-container-id-15 div.sk-parallel-item:only-child::after {width: 0;}#sk-container-id-15 div.sk-dashed-wrapped {border: 1px dashed gray;margin: 0 0.4em 0.5em 0.4em;box-sizing: border-box;padding-bottom: 0.4em;background-color: white;}#sk-container-id-15 div.sk-label label {font-family: monospace;font-weight: bold;display: inline-block;line-height: 1.2em;}#sk-container-id-15 div.sk-label-container {text-align: center;}#sk-container-id-15 div.sk-container {/* jupyter's `normalize.less` sets `[hidden] { display: none; }` but bootstrap.min.css set `[hidden] { display: none !important; }` so we also need the `!important` here to be able to override the default hidden behavior on the sphinx rendered scikit-learn.org. See: https://github.com/scikit-learn/scikit-learn/issues/21755 */display: inline-block !important;position: relative;}#sk-container-id-15 div.sk-text-repr-fallback {display: none;}</style><div id=\"sk-container-id-15\" class=\"sk-top-container\"><div class=\"sk-text-repr-fallback\"><pre>ColumnTransformer(remainder=&#x27;passthrough&#x27;,\n",
       "                  transformers=[(&#x27;ordinalencoder&#x27;, OrdinalEncoder(),\n",
       "                                 [&#x27;condition&#x27;]),\n",
       "                                (&#x27;onehotencoder&#x27;,\n",
       "                                 OneHotEncoder(drop=&#x27;if_binary&#x27;,\n",
       "                                               sparse_output=False),\n",
       "                                 [&#x27;brand&#x27;, &#x27;fuel&#x27;, &#x27;title&#x27;, &#x27;transmission&#x27;,\n",
       "                                  &#x27;type&#x27;]),\n",
       "                                (&#x27;standardscaler&#x27;, StandardScaler(),\n",
       "                                 [&#x27;age&#x27;, &#x27;odometer&#x27;])],\n",
       "                  verbose_feature_names_out=False)</pre><b>In a Jupyter environment, please rerun this cell to show the HTML representation or trust the notebook. <br />On GitHub, the HTML representation is unable to render, please try loading this page with nbviewer.org.</b></div><div class=\"sk-container\" hidden><div class=\"sk-item sk-dashed-wrapped\"><div class=\"sk-label-container\"><div class=\"sk-label sk-toggleable\"><input class=\"sk-toggleable__control sk-hidden--visually\" id=\"sk-estimator-id-77\" type=\"checkbox\" ><label for=\"sk-estimator-id-77\" class=\"sk-toggleable__label sk-toggleable__label-arrow\">ColumnTransformer</label><div class=\"sk-toggleable__content\"><pre>ColumnTransformer(remainder=&#x27;passthrough&#x27;,\n",
       "                  transformers=[(&#x27;ordinalencoder&#x27;, OrdinalEncoder(),\n",
       "                                 [&#x27;condition&#x27;]),\n",
       "                                (&#x27;onehotencoder&#x27;,\n",
       "                                 OneHotEncoder(drop=&#x27;if_binary&#x27;,\n",
       "                                               sparse_output=False),\n",
       "                                 [&#x27;brand&#x27;, &#x27;fuel&#x27;, &#x27;title&#x27;, &#x27;transmission&#x27;,\n",
       "                                  &#x27;type&#x27;]),\n",
       "                                (&#x27;standardscaler&#x27;, StandardScaler(),\n",
       "                                 [&#x27;age&#x27;, &#x27;odometer&#x27;])],\n",
       "                  verbose_feature_names_out=False)</pre></div></div></div><div class=\"sk-parallel\"><div class=\"sk-parallel-item\"><div class=\"sk-item\"><div class=\"sk-label-container\"><div class=\"sk-label sk-toggleable\"><input class=\"sk-toggleable__control sk-hidden--visually\" id=\"sk-estimator-id-78\" type=\"checkbox\" ><label for=\"sk-estimator-id-78\" class=\"sk-toggleable__label sk-toggleable__label-arrow\">ordinalencoder</label><div class=\"sk-toggleable__content\"><pre>[&#x27;condition&#x27;]</pre></div></div></div><div class=\"sk-serial\"><div class=\"sk-item\"><div class=\"sk-estimator sk-toggleable\"><input class=\"sk-toggleable__control sk-hidden--visually\" id=\"sk-estimator-id-79\" type=\"checkbox\" ><label for=\"sk-estimator-id-79\" class=\"sk-toggleable__label sk-toggleable__label-arrow\">OrdinalEncoder</label><div class=\"sk-toggleable__content\"><pre>OrdinalEncoder()</pre></div></div></div></div></div></div><div class=\"sk-parallel-item\"><div class=\"sk-item\"><div class=\"sk-label-container\"><div class=\"sk-label sk-toggleable\"><input class=\"sk-toggleable__control sk-hidden--visually\" id=\"sk-estimator-id-80\" type=\"checkbox\" ><label for=\"sk-estimator-id-80\" class=\"sk-toggleable__label sk-toggleable__label-arrow\">onehotencoder</label><div class=\"sk-toggleable__content\"><pre>[&#x27;brand&#x27;, &#x27;fuel&#x27;, &#x27;title&#x27;, &#x27;transmission&#x27;, &#x27;type&#x27;]</pre></div></div></div><div class=\"sk-serial\"><div class=\"sk-item\"><div class=\"sk-estimator sk-toggleable\"><input class=\"sk-toggleable__control sk-hidden--visually\" id=\"sk-estimator-id-81\" type=\"checkbox\" ><label for=\"sk-estimator-id-81\" class=\"sk-toggleable__label sk-toggleable__label-arrow\">OneHotEncoder</label><div class=\"sk-toggleable__content\"><pre>OneHotEncoder(drop=&#x27;if_binary&#x27;, sparse_output=False)</pre></div></div></div></div></div></div><div class=\"sk-parallel-item\"><div class=\"sk-item\"><div class=\"sk-label-container\"><div class=\"sk-label sk-toggleable\"><input class=\"sk-toggleable__control sk-hidden--visually\" id=\"sk-estimator-id-82\" type=\"checkbox\" ><label for=\"sk-estimator-id-82\" class=\"sk-toggleable__label sk-toggleable__label-arrow\">standardscaler</label><div class=\"sk-toggleable__content\"><pre>[&#x27;age&#x27;, &#x27;odometer&#x27;]</pre></div></div></div><div class=\"sk-serial\"><div class=\"sk-item\"><div class=\"sk-estimator sk-toggleable\"><input class=\"sk-toggleable__control sk-hidden--visually\" id=\"sk-estimator-id-83\" type=\"checkbox\" ><label for=\"sk-estimator-id-83\" class=\"sk-toggleable__label sk-toggleable__label-arrow\">StandardScaler</label><div class=\"sk-toggleable__content\"><pre>StandardScaler()</pre></div></div></div></div></div></div><div class=\"sk-parallel-item\"><div class=\"sk-item\"><div class=\"sk-label-container\"><div class=\"sk-label sk-toggleable\"><input class=\"sk-toggleable__control sk-hidden--visually\" id=\"sk-estimator-id-84\" type=\"checkbox\" ><label for=\"sk-estimator-id-84\" class=\"sk-toggleable__label sk-toggleable__label-arrow\">remainder</label><div class=\"sk-toggleable__content\"><pre></pre></div></div></div><div class=\"sk-serial\"><div class=\"sk-item\"><div class=\"sk-estimator sk-toggleable\"><input class=\"sk-toggleable__control sk-hidden--visually\" id=\"sk-estimator-id-85\" type=\"checkbox\" ><label for=\"sk-estimator-id-85\" class=\"sk-toggleable__label sk-toggleable__label-arrow\">passthrough</label><div class=\"sk-toggleable__content\"><pre>passthrough</pre></div></div></div></div></div></div></div></div></div></div>"
      ],
      "text/plain": [
       "ColumnTransformer(remainder='passthrough',\n",
       "                  transformers=[('ordinalencoder', OrdinalEncoder(),\n",
       "                                 ['condition']),\n",
       "                                ('onehotencoder',\n",
       "                                 OneHotEncoder(drop='if_binary',\n",
       "                                               sparse_output=False),\n",
       "                                 ['brand', 'fuel', 'title', 'transmission',\n",
       "                                  'type']),\n",
       "                                ('standardscaler', StandardScaler(),\n",
       "                                 ['age', 'odometer'])],\n",
       "                  verbose_feature_names_out=False)"
      ]
     },
     "execution_count": 326,
     "metadata": {},
     "output_type": "execute_result"
    }
   ],
   "source": [
    "FeatureEngineering = make_column_transformer(\n",
    "    (OrdinalEncoder(), ore_features),\n",
    "    (OneHotEncoder(sparse_output=False, drop=\"if_binary\"), ohe_features),\n",
    "    (StandardScaler(), num_features),\n",
    "    remainder=\"passthrough\",\n",
    "    verbose_feature_names_out=False,\n",
    ")\n",
    "FeatureEngineering"
   ]
  },
  {
   "cell_type": "markdown",
   "metadata": {},
   "source": [
    "Evaluating column transformer"
   ]
  },
  {
   "cell_type": "code",
   "execution_count": 327,
   "metadata": {},
   "outputs": [
    {
     "data": {
      "text/html": [
       "<div>\n",
       "<style scoped>\n",
       "    .dataframe tbody tr th:only-of-type {\n",
       "        vertical-align: middle;\n",
       "    }\n",
       "\n",
       "    .dataframe tbody tr th {\n",
       "        vertical-align: top;\n",
       "    }\n",
       "\n",
       "    .dataframe thead th {\n",
       "        text-align: right;\n",
       "    }\n",
       "</style>\n",
       "<table border=\"1\" class=\"dataframe\">\n",
       "  <thead>\n",
       "    <tr style=\"text-align: right;\">\n",
       "      <th></th>\n",
       "      <th>condition</th>\n",
       "      <th>brand_eur</th>\n",
       "      <th>brand_jap</th>\n",
       "      <th>brand_kor</th>\n",
       "      <th>brand_usa</th>\n",
       "      <th>fuel_diesel</th>\n",
       "      <th>fuel_electric</th>\n",
       "      <th>fuel_gas</th>\n",
       "      <th>fuel_hybrid</th>\n",
       "      <th>fuel_other</th>\n",
       "      <th>...</th>\n",
       "      <th>type_offroad</th>\n",
       "      <th>type_other</th>\n",
       "      <th>type_pickup</th>\n",
       "      <th>type_sedan</th>\n",
       "      <th>type_truck</th>\n",
       "      <th>type_van</th>\n",
       "      <th>type_wagon</th>\n",
       "      <th>age</th>\n",
       "      <th>odometer</th>\n",
       "      <th>price</th>\n",
       "    </tr>\n",
       "  </thead>\n",
       "  <tbody>\n",
       "    <tr>\n",
       "      <th>0</th>\n",
       "      <td>2.0</td>\n",
       "      <td>0.0</td>\n",
       "      <td>0.0</td>\n",
       "      <td>0.0</td>\n",
       "      <td>1.0</td>\n",
       "      <td>0.0</td>\n",
       "      <td>0.0</td>\n",
       "      <td>1.0</td>\n",
       "      <td>0.0</td>\n",
       "      <td>0.0</td>\n",
       "      <td>...</td>\n",
       "      <td>0.0</td>\n",
       "      <td>0.0</td>\n",
       "      <td>1.0</td>\n",
       "      <td>0.0</td>\n",
       "      <td>0.0</td>\n",
       "      <td>0.0</td>\n",
       "      <td>0.0</td>\n",
       "      <td>-0.314525</td>\n",
       "      <td>-0.121738</td>\n",
       "      <td>4.526210</td>\n",
       "    </tr>\n",
       "    <tr>\n",
       "      <th>1</th>\n",
       "      <td>2.0</td>\n",
       "      <td>0.0</td>\n",
       "      <td>0.0</td>\n",
       "      <td>0.0</td>\n",
       "      <td>1.0</td>\n",
       "      <td>0.0</td>\n",
       "      <td>0.0</td>\n",
       "      <td>1.0</td>\n",
       "      <td>0.0</td>\n",
       "      <td>0.0</td>\n",
       "      <td>...</td>\n",
       "      <td>0.0</td>\n",
       "      <td>0.0</td>\n",
       "      <td>1.0</td>\n",
       "      <td>0.0</td>\n",
       "      <td>0.0</td>\n",
       "      <td>0.0</td>\n",
       "      <td>0.0</td>\n",
       "      <td>0.133314</td>\n",
       "      <td>0.099677</td>\n",
       "      <td>4.353916</td>\n",
       "    </tr>\n",
       "    <tr>\n",
       "      <th>2</th>\n",
       "      <td>2.0</td>\n",
       "      <td>0.0</td>\n",
       "      <td>0.0</td>\n",
       "      <td>0.0</td>\n",
       "      <td>1.0</td>\n",
       "      <td>0.0</td>\n",
       "      <td>0.0</td>\n",
       "      <td>1.0</td>\n",
       "      <td>0.0</td>\n",
       "      <td>0.0</td>\n",
       "      <td>...</td>\n",
       "      <td>0.0</td>\n",
       "      <td>0.0</td>\n",
       "      <td>1.0</td>\n",
       "      <td>0.0</td>\n",
       "      <td>0.0</td>\n",
       "      <td>0.0</td>\n",
       "      <td>0.0</td>\n",
       "      <td>-0.986282</td>\n",
       "      <td>-1.306296</td>\n",
       "      <td>4.597586</td>\n",
       "    </tr>\n",
       "    <tr>\n",
       "      <th>3</th>\n",
       "      <td>2.0</td>\n",
       "      <td>0.0</td>\n",
       "      <td>1.0</td>\n",
       "      <td>0.0</td>\n",
       "      <td>0.0</td>\n",
       "      <td>0.0</td>\n",
       "      <td>0.0</td>\n",
       "      <td>1.0</td>\n",
       "      <td>0.0</td>\n",
       "      <td>0.0</td>\n",
       "      <td>...</td>\n",
       "      <td>0.0</td>\n",
       "      <td>0.0</td>\n",
       "      <td>1.0</td>\n",
       "      <td>0.0</td>\n",
       "      <td>0.0</td>\n",
       "      <td>0.0</td>\n",
       "      <td>0.0</td>\n",
       "      <td>-0.650403</td>\n",
       "      <td>-0.488494</td>\n",
       "      <td>4.491222</td>\n",
       "    </tr>\n",
       "    <tr>\n",
       "      <th>4</th>\n",
       "      <td>0.0</td>\n",
       "      <td>0.0</td>\n",
       "      <td>0.0</td>\n",
       "      <td>0.0</td>\n",
       "      <td>1.0</td>\n",
       "      <td>0.0</td>\n",
       "      <td>0.0</td>\n",
       "      <td>1.0</td>\n",
       "      <td>0.0</td>\n",
       "      <td>0.0</td>\n",
       "      <td>...</td>\n",
       "      <td>0.0</td>\n",
       "      <td>0.0</td>\n",
       "      <td>0.0</td>\n",
       "      <td>0.0</td>\n",
       "      <td>1.0</td>\n",
       "      <td>0.0</td>\n",
       "      <td>0.0</td>\n",
       "      <td>-0.202565</td>\n",
       "      <td>0.727275</td>\n",
       "      <td>4.176091</td>\n",
       "    </tr>\n",
       "  </tbody>\n",
       "</table>\n",
       "<p>5 rows × 35 columns</p>\n",
       "</div>"
      ],
      "text/plain": [
       "   condition  brand_eur  brand_jap  brand_kor  brand_usa  fuel_diesel  \\\n",
       "0        2.0        0.0        0.0        0.0        1.0          0.0   \n",
       "1        2.0        0.0        0.0        0.0        1.0          0.0   \n",
       "2        2.0        0.0        0.0        0.0        1.0          0.0   \n",
       "3        2.0        0.0        1.0        0.0        0.0          0.0   \n",
       "4        0.0        0.0        0.0        0.0        1.0          0.0   \n",
       "\n",
       "   fuel_electric  fuel_gas  fuel_hybrid  fuel_other  ...  type_offroad  \\\n",
       "0            0.0       1.0          0.0         0.0  ...           0.0   \n",
       "1            0.0       1.0          0.0         0.0  ...           0.0   \n",
       "2            0.0       1.0          0.0         0.0  ...           0.0   \n",
       "3            0.0       1.0          0.0         0.0  ...           0.0   \n",
       "4            0.0       1.0          0.0         0.0  ...           0.0   \n",
       "\n",
       "   type_other  type_pickup  type_sedan  type_truck  type_van  type_wagon  \\\n",
       "0         0.0          1.0         0.0         0.0       0.0         0.0   \n",
       "1         0.0          1.0         0.0         0.0       0.0         0.0   \n",
       "2         0.0          1.0         0.0         0.0       0.0         0.0   \n",
       "3         0.0          1.0         0.0         0.0       0.0         0.0   \n",
       "4         0.0          0.0         0.0         1.0       0.0         0.0   \n",
       "\n",
       "        age  odometer     price  \n",
       "0 -0.314525 -0.121738  4.526210  \n",
       "1  0.133314  0.099677  4.353916  \n",
       "2 -0.986282 -1.306296  4.597586  \n",
       "3 -0.650403 -0.488494  4.491222  \n",
       "4 -0.202565  0.727275  4.176091  \n",
       "\n",
       "[5 rows x 35 columns]"
      ]
     },
     "execution_count": 327,
     "metadata": {},
     "output_type": "execute_result"
    }
   ],
   "source": [
    "df_transformed = pd.DataFrame(FeatureEngineering.fit_transform(df_clean), \\\n",
    "                              columns=FeatureEngineering.get_feature_names_out())\n",
    "df_transformed.head()"
   ]
  },
  {
   "cell_type": "markdown",
   "metadata": {},
   "source": [
    "Evaluating **Correlation Matrix** with all features transformed"
   ]
  },
  {
   "cell_type": "code",
   "execution_count": 328,
   "metadata": {},
   "outputs": [
    {
     "data": {
      "text/plain": [
       "price                     1.000000\n",
       "transmission_other        0.479568\n",
       "fuel_other                0.252768\n",
       "type_pickup               0.211810\n",
       "type_other                0.190891\n",
       "condition                 0.149177\n",
       "fuel_diesel               0.135049\n",
       "brand_eur                 0.104901\n",
       "type_truck                0.087653\n",
       "title_clean               0.084534\n",
       "fuel_electric             0.042494\n",
       "type_coupe                0.038574\n",
       "brand_usa                 0.038185\n",
       "title_lien                0.015325\n",
       "type_bus                 -0.003450\n",
       "type_convertible         -0.004304\n",
       "type_offroad             -0.006318\n",
       "type_van                 -0.009362\n",
       "fuel_hybrid              -0.013404\n",
       "title_parts only         -0.028753\n",
       "type_hatchback           -0.034389\n",
       "type_wagon               -0.042864\n",
       "title_rebuilt            -0.050235\n",
       "title_missing            -0.058536\n",
       "brand_kor                -0.071120\n",
       "type_SUV                 -0.072389\n",
       "title_salvage            -0.076535\n",
       "brand_jap                -0.094230\n",
       "type_mini-van            -0.116112\n",
       "transmission_manual      -0.118792\n",
       "type_sedan               -0.202441\n",
       "fuel_gas                 -0.283205\n",
       "transmission_automatic   -0.395303\n",
       "age                      -0.478436\n",
       "odometer                 -0.630467\n",
       "Name: price, dtype: float64"
      ]
     },
     "execution_count": 328,
     "metadata": {},
     "output_type": "execute_result"
    }
   ],
   "source": [
    "df_transformed.corr()['price'].sort_values(ascending=False)"
   ]
  },
  {
   "cell_type": "markdown",
   "metadata": {},
   "source": [
    "Evaluating **Heatmap** with all the features transformed"
   ]
  },
  {
   "cell_type": "code",
   "execution_count": 329,
   "metadata": {},
   "outputs": [
    {
     "data": {
      "text/plain": [
       "[Text(0.5, 1.0, 'Heatmap after Feature Engineering')]"
      ]
     },
     "execution_count": 329,
     "metadata": {},
     "output_type": "execute_result"
    },
    {
     "data": {
      "image/png": "[encoded data removed]",
      "text/plain": [
       "<Figure size 640x480 with 2 Axes>"
      ]
     },
     "metadata": {},
     "output_type": "display_data"
    }
   ],
   "source": [
    "sns.heatmap(df_transformed.corr()).set(title='Heatmap after Feature Engineering')"
   ]
  },
  {
   "cell_type": "markdown",
   "metadata": {},
   "source": [
    "Evaluating distribution for all the features transformed"
   ]
  },
  {
   "cell_type": "code",
   "execution_count": 330,
   "metadata": {},
   "outputs": [
    {
     "data": {
      "text/html": [
       "<div>\n",
       "<style scoped>\n",
       "    .dataframe tbody tr th:only-of-type {\n",
       "        vertical-align: middle;\n",
       "    }\n",
       "\n",
       "    .dataframe tbody tr th {\n",
       "        vertical-align: top;\n",
       "    }\n",
       "\n",
       "    .dataframe thead th {\n",
       "        text-align: right;\n",
       "    }\n",
       "</style>\n",
       "<table border=\"1\" class=\"dataframe\">\n",
       "  <thead>\n",
       "    <tr style=\"text-align: right;\">\n",
       "      <th></th>\n",
       "      <th>condition</th>\n",
       "      <th>brand_eur</th>\n",
       "      <th>brand_jap</th>\n",
       "      <th>brand_kor</th>\n",
       "      <th>brand_usa</th>\n",
       "      <th>fuel_diesel</th>\n",
       "      <th>fuel_electric</th>\n",
       "      <th>fuel_gas</th>\n",
       "      <th>fuel_hybrid</th>\n",
       "      <th>fuel_other</th>\n",
       "      <th>...</th>\n",
       "      <th>type_offroad</th>\n",
       "      <th>type_other</th>\n",
       "      <th>type_pickup</th>\n",
       "      <th>type_sedan</th>\n",
       "      <th>type_truck</th>\n",
       "      <th>type_van</th>\n",
       "      <th>type_wagon</th>\n",
       "      <th>age</th>\n",
       "      <th>odometer</th>\n",
       "      <th>price</th>\n",
       "    </tr>\n",
       "  </thead>\n",
       "  <tbody>\n",
       "    <tr>\n",
       "      <th>count</th>\n",
       "      <td>200056.000000</td>\n",
       "      <td>200056.000000</td>\n",
       "      <td>200056.000000</td>\n",
       "      <td>200056.000000</td>\n",
       "      <td>200056.000000</td>\n",
       "      <td>200056.000000</td>\n",
       "      <td>200056.000000</td>\n",
       "      <td>200056.000000</td>\n",
       "      <td>200056.000000</td>\n",
       "      <td>200056.000000</td>\n",
       "      <td>...</td>\n",
       "      <td>200056.000000</td>\n",
       "      <td>200056.000000</td>\n",
       "      <td>200056.000000</td>\n",
       "      <td>200056.000000</td>\n",
       "      <td>200056.000000</td>\n",
       "      <td>200056.000000</td>\n",
       "      <td>200056.000000</td>\n",
       "      <td>2.000560e+05</td>\n",
       "      <td>2.000560e+05</td>\n",
       "      <td>200056.000000</td>\n",
       "    </tr>\n",
       "    <tr>\n",
       "      <th>mean</th>\n",
       "      <td>1.300541</td>\n",
       "      <td>0.161160</td>\n",
       "      <td>0.292013</td>\n",
       "      <td>0.045472</td>\n",
       "      <td>0.501355</td>\n",
       "      <td>0.049331</td>\n",
       "      <td>0.005169</td>\n",
       "      <td>0.835831</td>\n",
       "      <td>0.014396</td>\n",
       "      <td>0.095273</td>\n",
       "      <td>...</td>\n",
       "      <td>0.002649</td>\n",
       "      <td>0.064052</td>\n",
       "      <td>0.127909</td>\n",
       "      <td>0.271259</td>\n",
       "      <td>0.095883</td>\n",
       "      <td>0.023468</td>\n",
       "      <td>0.028412</td>\n",
       "      <td>2.891099e-17</td>\n",
       "      <td>-2.639638e-15</td>\n",
       "      <td>4.148067</td>\n",
       "    </tr>\n",
       "    <tr>\n",
       "      <th>std</th>\n",
       "      <td>1.071811</td>\n",
       "      <td>0.367679</td>\n",
       "      <td>0.454689</td>\n",
       "      <td>0.208338</td>\n",
       "      <td>0.499999</td>\n",
       "      <td>0.216559</td>\n",
       "      <td>0.071707</td>\n",
       "      <td>0.370430</td>\n",
       "      <td>0.119117</td>\n",
       "      <td>0.293593</td>\n",
       "      <td>...</td>\n",
       "      <td>0.051403</td>\n",
       "      <td>0.244846</td>\n",
       "      <td>0.333989</td>\n",
       "      <td>0.444611</td>\n",
       "      <td>0.294432</td>\n",
       "      <td>0.151386</td>\n",
       "      <td>0.166147</td>\n",
       "      <td>1.000002e+00</td>\n",
       "      <td>1.000002e+00</td>\n",
       "      <td>0.362455</td>\n",
       "    </tr>\n",
       "    <tr>\n",
       "      <th>min</th>\n",
       "      <td>0.000000</td>\n",
       "      <td>0.000000</td>\n",
       "      <td>0.000000</td>\n",
       "      <td>0.000000</td>\n",
       "      <td>0.000000</td>\n",
       "      <td>0.000000</td>\n",
       "      <td>0.000000</td>\n",
       "      <td>0.000000</td>\n",
       "      <td>0.000000</td>\n",
       "      <td>0.000000</td>\n",
       "      <td>...</td>\n",
       "      <td>0.000000</td>\n",
       "      <td>0.000000</td>\n",
       "      <td>0.000000</td>\n",
       "      <td>0.000000</td>\n",
       "      <td>0.000000</td>\n",
       "      <td>0.000000</td>\n",
       "      <td>0.000000</td>\n",
       "      <td>-1.210201e+00</td>\n",
       "      <td>-3.064243e+00</td>\n",
       "      <td>2.951823</td>\n",
       "    </tr>\n",
       "    <tr>\n",
       "      <th>25%</th>\n",
       "      <td>0.000000</td>\n",
       "      <td>0.000000</td>\n",
       "      <td>0.000000</td>\n",
       "      <td>0.000000</td>\n",
       "      <td>0.000000</td>\n",
       "      <td>0.000000</td>\n",
       "      <td>0.000000</td>\n",
       "      <td>1.000000</td>\n",
       "      <td>0.000000</td>\n",
       "      <td>0.000000</td>\n",
       "      <td>...</td>\n",
       "      <td>0.000000</td>\n",
       "      <td>0.000000</td>\n",
       "      <td>0.000000</td>\n",
       "      <td>0.000000</td>\n",
       "      <td>0.000000</td>\n",
       "      <td>0.000000</td>\n",
       "      <td>0.000000</td>\n",
       "      <td>-6.504033e-01</td>\n",
       "      <td>-6.763350e-01</td>\n",
       "      <td>3.900367</td>\n",
       "    </tr>\n",
       "    <tr>\n",
       "      <th>50%</th>\n",
       "      <td>2.000000</td>\n",
       "      <td>0.000000</td>\n",
       "      <td>0.000000</td>\n",
       "      <td>0.000000</td>\n",
       "      <td>1.000000</td>\n",
       "      <td>0.000000</td>\n",
       "      <td>0.000000</td>\n",
       "      <td>1.000000</td>\n",
       "      <td>0.000000</td>\n",
       "      <td>0.000000</td>\n",
       "      <td>...</td>\n",
       "      <td>0.000000</td>\n",
       "      <td>0.000000</td>\n",
       "      <td>0.000000</td>\n",
       "      <td>0.000000</td>\n",
       "      <td>0.000000</td>\n",
       "      <td>0.000000</td>\n",
       "      <td>0.000000</td>\n",
       "      <td>-2.025650e-01</td>\n",
       "      <td>2.504587e-01</td>\n",
       "      <td>4.204066</td>\n",
       "    </tr>\n",
       "    <tr>\n",
       "      <th>75%</th>\n",
       "      <td>2.000000</td>\n",
       "      <td>0.000000</td>\n",
       "      <td>1.000000</td>\n",
       "      <td>0.000000</td>\n",
       "      <td>1.000000</td>\n",
       "      <td>0.000000</td>\n",
       "      <td>0.000000</td>\n",
       "      <td>1.000000</td>\n",
       "      <td>0.000000</td>\n",
       "      <td>0.000000</td>\n",
       "      <td>...</td>\n",
       "      <td>0.000000</td>\n",
       "      <td>0.000000</td>\n",
       "      <td>0.000000</td>\n",
       "      <td>1.000000</td>\n",
       "      <td>0.000000</td>\n",
       "      <td>0.000000</td>\n",
       "      <td>0.000000</td>\n",
       "      <td>3.572330e-01</td>\n",
       "      <td>7.740794e-01</td>\n",
       "      <td>4.447003</td>\n",
       "    </tr>\n",
       "    <tr>\n",
       "      <th>max</th>\n",
       "      <td>5.000000</td>\n",
       "      <td>1.000000</td>\n",
       "      <td>1.000000</td>\n",
       "      <td>1.000000</td>\n",
       "      <td>1.000000</td>\n",
       "      <td>1.000000</td>\n",
       "      <td>1.000000</td>\n",
       "      <td>1.000000</td>\n",
       "      <td>1.000000</td>\n",
       "      <td>1.000000</td>\n",
       "      <td>...</td>\n",
       "      <td>1.000000</td>\n",
       "      <td>1.000000</td>\n",
       "      <td>1.000000</td>\n",
       "      <td>1.000000</td>\n",
       "      <td>1.000000</td>\n",
       "      <td>1.000000</td>\n",
       "      <td>1.000000</td>\n",
       "      <td>1.244887e+01</td>\n",
       "      <td>3.026591e+00</td>\n",
       "      <td>5.311752</td>\n",
       "    </tr>\n",
       "  </tbody>\n",
       "</table>\n",
       "<p>8 rows × 35 columns</p>\n",
       "</div>"
      ],
      "text/plain": [
       "           condition      brand_eur      brand_jap      brand_kor  \\\n",
       "count  200056.000000  200056.000000  200056.000000  200056.000000   \n",
       "mean        1.300541       0.161160       0.292013       0.045472   \n",
       "std         1.071811       0.367679       0.454689       0.208338   \n",
       "min         0.000000       0.000000       0.000000       0.000000   \n",
       "25%         0.000000       0.000000       0.000000       0.000000   \n",
       "50%         2.000000       0.000000       0.000000       0.000000   \n",
       "75%         2.000000       0.000000       1.000000       0.000000   \n",
       "max         5.000000       1.000000       1.000000       1.000000   \n",
       "\n",
       "           brand_usa    fuel_diesel  fuel_electric       fuel_gas  \\\n",
       "count  200056.000000  200056.000000  200056.000000  200056.000000   \n",
       "mean        0.501355       0.049331       0.005169       0.835831   \n",
       "std         0.499999       0.216559       0.071707       0.370430   \n",
       "min         0.000000       0.000000       0.000000       0.000000   \n",
       "25%         0.000000       0.000000       0.000000       1.000000   \n",
       "50%         1.000000       0.000000       0.000000       1.000000   \n",
       "75%         1.000000       0.000000       0.000000       1.000000   \n",
       "max         1.000000       1.000000       1.000000       1.000000   \n",
       "\n",
       "         fuel_hybrid     fuel_other  ...   type_offroad     type_other  \\\n",
       "count  200056.000000  200056.000000  ...  200056.000000  200056.000000   \n",
       "mean        0.014396       0.095273  ...       0.002649       0.064052   \n",
       "std         0.119117       0.293593  ...       0.051403       0.244846   \n",
       "min         0.000000       0.000000  ...       0.000000       0.000000   \n",
       "25%         0.000000       0.000000  ...       0.000000       0.000000   \n",
       "50%         0.000000       0.000000  ...       0.000000       0.000000   \n",
       "75%         0.000000       0.000000  ...       0.000000       0.000000   \n",
       "max         1.000000       1.000000  ...       1.000000       1.000000   \n",
       "\n",
       "         type_pickup     type_sedan     type_truck       type_van  \\\n",
       "count  200056.000000  200056.000000  200056.000000  200056.000000   \n",
       "mean        0.127909       0.271259       0.095883       0.023468   \n",
       "std         0.333989       0.444611       0.294432       0.151386   \n",
       "min         0.000000       0.000000       0.000000       0.000000   \n",
       "25%         0.000000       0.000000       0.000000       0.000000   \n",
       "50%         0.000000       0.000000       0.000000       0.000000   \n",
       "75%         0.000000       1.000000       0.000000       0.000000   \n",
       "max         1.000000       1.000000       1.000000       1.000000   \n",
       "\n",
       "          type_wagon           age      odometer          price  \n",
       "count  200056.000000  2.000560e+05  2.000560e+05  200056.000000  \n",
       "mean        0.028412  2.891099e-17 -2.639638e-15       4.148067  \n",
       "std         0.166147  1.000002e+00  1.000002e+00       0.362455  \n",
       "min         0.000000 -1.210201e+00 -3.064243e+00       2.951823  \n",
       "25%         0.000000 -6.504033e-01 -6.763350e-01       3.900367  \n",
       "50%         0.000000 -2.025650e-01  2.504587e-01       4.204066  \n",
       "75%         0.000000  3.572330e-01  7.740794e-01       4.447003  \n",
       "max         1.000000  1.244887e+01  3.026591e+00       5.311752  \n",
       "\n",
       "[8 rows x 35 columns]"
      ]
     },
     "execution_count": 330,
     "metadata": {},
     "output_type": "execute_result"
    }
   ],
   "source": [
    "df_transformed.describe()"
   ]
  },
  {
   "cell_type": "markdown",
   "metadata": {},
   "source": [
    "Evaluating a pair plot between all the transformed variables as numeric was not possible due to the magnitude of the feature set after engineering"
   ]
  },
  {
   "cell_type": "markdown",
   "metadata": {},
   "source": [
    "## Modeling\n",
    "\n",
    "With a clean dataset, it is time to build and test some models. A number of different regression models should be evaluated with the price as the target.  In building the models, different hyperparameters should tested and the findings should be cross-validate."
   ]
  },
  {
   "cell_type": "code",
   "execution_count": 51,
   "metadata": {},
   "outputs": [],
   "source": [
    "from sklearn.pipeline import Pipeline\n",
    "from sklearn.model_selection import GridSearchCV, ShuffleSplit, KFold, LeaveOneOut, train_test_split\n",
    "from sklearn.linear_model import LinearRegression, Ridge, Lasso\n",
    "from sklearn.inspection import permutation_importance\n",
    "from sklearn.feature_selection import SequentialFeatureSelector, RFE\n",
    "from sklearn.metrics import mean_squared_error, mean_absolute_error\n",
    "import scipy as sp"
   ]
  },
  {
   "cell_type": "markdown",
   "metadata": {},
   "source": [
    "### 1. Train / Test data separation"
   ]
  },
  {
   "cell_type": "markdown",
   "metadata": {},
   "source": [
    "Splitting cleaned dataset for modeling when FeatureEngineering (FE) and TransformedTargetRegressor (TTR) is included in the model's pipeline but due to extended processing time during grid search, pre-transformed dataset was used and FE and TTR omitted from the models' pipelines"
   ]
  },
  {
   "cell_type": "code",
   "execution_count": 101,
   "metadata": {},
   "outputs": [],
   "source": [
    "#X = df_clean.drop(columns=['price'])\n",
    "#y = df_clean['price']\n",
    "#X_train, X_test, y_train, y_test = train_test_split(X, y, train_size=0.8, random_state=42, shuffle=True)"
   ]
  },
  {
   "cell_type": "markdown",
   "metadata": {},
   "source": [
    "Splitting transformed cleaned dataset with FeatureEngineering column transformed when not using TransformedTargetRegressor"
   ]
  },
  {
   "cell_type": "code",
   "execution_count": 106,
   "metadata": {},
   "outputs": [],
   "source": [
    "X = df_transformed.drop(columns=['price'])\n",
    "y = df_transformed['price']\n",
    "X_train, X_test, y_train, y_test = train_test_split(X, y, random_state=42, shuffle=True)"
   ]
  },
  {
   "cell_type": "markdown",
   "metadata": {},
   "source": [
    "### 2. Linear Regression Modeling"
   ]
  },
  {
   "cell_type": "markdown",
   "metadata": {},
   "source": [
    "Instantiating Linear Regression model pipeline. FeatureEngineering and TransformedTargetRegressor were omitted and pre-run on the data set due to lengthy processing time"
   ]
  },
  {
   "cell_type": "code",
   "execution_count": 120,
   "metadata": {},
   "outputs": [],
   "source": [
    "#lnreg_pipe = Pipeline([\n",
    "#                        ('feateng',FeatureEngineering),\n",
    "#                        ('polyfeat',PolynomialFeatures(include_bias=False)),                        \n",
    "#                        ('lnreg',TransformedTargetRegressor(\\\n",
    "#                                                             regressor=LinearRegression(),\n",
    "#                                                             func=np.log10,\n",
    "#                                                             inverse_func=sp.special.exp10),)\n",
    "#                       ])\n",
    "\n",
    "lnreg_pipe = Pipeline([('polyfeat',PolynomialFeatures(include_bias=False)),\n",
    "                       ('lnreg',LinearRegression(),)\n",
    "                      ])"
   ]
  },
  {
   "cell_type": "markdown",
   "metadata": {},
   "source": [
    "Instantiating GridSearch for Linear Regression model"
   ]
  },
  {
   "cell_type": "code",
   "execution_count": 121,
   "metadata": {},
   "outputs": [],
   "source": [
    "params = {'polyfeat__degree':[1,2]}\n",
    "lnreg_selector = GridSearchCV(estimator=lnreg_pipe,\n",
    "                              param_grid=params,\n",
    "                              scoring='neg_mean_squared_error',\n",
    "                              cv=ShuffleSplit(n_splits=2, test_size=0.8, random_state=42))"
   ]
  },
  {
   "cell_type": "markdown",
   "metadata": {},
   "source": [
    "Performing grid search for best model hyperparameters"
   ]
  },
  {
   "cell_type": "code",
   "execution_count": 122,
   "metadata": {},
   "outputs": [
    {
     "data": {
      "text/html": [
       "<style>#sk-container-id-4 {color: black;background-color: white;}#sk-container-id-4 pre{padding: 0;}#sk-container-id-4 div.sk-toggleable {background-color: white;}#sk-container-id-4 label.sk-toggleable__label {cursor: pointer;display: block;width: 100%;margin-bottom: 0;padding: 0.3em;box-sizing: border-box;text-align: center;}#sk-container-id-4 label.sk-toggleable__label-arrow:before {content: \"▸\";float: left;margin-right: 0.25em;color: #696969;}#sk-container-id-4 label.sk-toggleable__label-arrow:hover:before {color: black;}#sk-container-id-4 div.sk-estimator:hover label.sk-toggleable__label-arrow:before {color: black;}#sk-container-id-4 div.sk-toggleable__content {max-height: 0;max-width: 0;overflow: hidden;text-align: left;background-color: #f0f8ff;}#sk-container-id-4 div.sk-toggleable__content pre {margin: 0.2em;color: black;border-radius: 0.25em;background-color: #f0f8ff;}#sk-container-id-4 input.sk-toggleable__control:checked~div.sk-toggleable__content {max-height: 200px;max-width: 100%;overflow: auto;}#sk-container-id-4 input.sk-toggleable__control:checked~label.sk-toggleable__label-arrow:before {content: \"▾\";}#sk-container-id-4 div.sk-estimator input.sk-toggleable__control:checked~label.sk-toggleable__label {background-color: #d4ebff;}#sk-container-id-4 div.sk-label input.sk-toggleable__control:checked~label.sk-toggleable__label {background-color: #d4ebff;}#sk-container-id-4 input.sk-hidden--visually {border: 0;clip: rect(1px 1px 1px 1px);clip: rect(1px, 1px, 1px, 1px);height: 1px;margin: -1px;overflow: hidden;padding: 0;position: absolute;width: 1px;}#sk-container-id-4 div.sk-estimator {font-family: monospace;background-color: #f0f8ff;border: 1px dotted black;border-radius: 0.25em;box-sizing: border-box;margin-bottom: 0.5em;}#sk-container-id-4 div.sk-estimator:hover {background-color: #d4ebff;}#sk-container-id-4 div.sk-parallel-item::after {content: \"\";width: 100%;border-bottom: 1px solid gray;flex-grow: 1;}#sk-container-id-4 div.sk-label:hover label.sk-toggleable__label {background-color: #d4ebff;}#sk-container-id-4 div.sk-serial::before {content: \"\";position: absolute;border-left: 1px solid gray;box-sizing: border-box;top: 0;bottom: 0;left: 50%;z-index: 0;}#sk-container-id-4 div.sk-serial {display: flex;flex-direction: column;align-items: center;background-color: white;padding-right: 0.2em;padding-left: 0.2em;position: relative;}#sk-container-id-4 div.sk-item {position: relative;z-index: 1;}#sk-container-id-4 div.sk-parallel {display: flex;align-items: stretch;justify-content: center;background-color: white;position: relative;}#sk-container-id-4 div.sk-item::before, #sk-container-id-4 div.sk-parallel-item::before {content: \"\";position: absolute;border-left: 1px solid gray;box-sizing: border-box;top: 0;bottom: 0;left: 50%;z-index: -1;}#sk-container-id-4 div.sk-parallel-item {display: flex;flex-direction: column;z-index: 1;position: relative;background-color: white;}#sk-container-id-4 div.sk-parallel-item:first-child::after {align-self: flex-end;width: 50%;}#sk-container-id-4 div.sk-parallel-item:last-child::after {align-self: flex-start;width: 50%;}#sk-container-id-4 div.sk-parallel-item:only-child::after {width: 0;}#sk-container-id-4 div.sk-dashed-wrapped {border: 1px dashed gray;margin: 0 0.4em 0.5em 0.4em;box-sizing: border-box;padding-bottom: 0.4em;background-color: white;}#sk-container-id-4 div.sk-label label {font-family: monospace;font-weight: bold;display: inline-block;line-height: 1.2em;}#sk-container-id-4 div.sk-label-container {text-align: center;}#sk-container-id-4 div.sk-container {/* jupyter's `normalize.less` sets `[hidden] { display: none; }` but bootstrap.min.css set `[hidden] { display: none !important; }` so we also need the `!important` here to be able to override the default hidden behavior on the sphinx rendered scikit-learn.org. See: https://github.com/scikit-learn/scikit-learn/issues/21755 */display: inline-block !important;position: relative;}#sk-container-id-4 div.sk-text-repr-fallback {display: none;}</style><div id=\"sk-container-id-4\" class=\"sk-top-container\"><div class=\"sk-text-repr-fallback\"><pre>GridSearchCV(cv=ShuffleSplit(n_splits=2, random_state=42, test_size=0.8, train_size=None),\n",
       "             estimator=Pipeline(steps=[(&#x27;polyfeat&#x27;,\n",
       "                                        PolynomialFeatures(include_bias=False)),\n",
       "                                       (&#x27;lnreg&#x27;, LinearRegression())]),\n",
       "             param_grid={&#x27;polyfeat__degree&#x27;: [1, 2]},\n",
       "             scoring=&#x27;neg_mean_squared_error&#x27;)</pre><b>In a Jupyter environment, please rerun this cell to show the HTML representation or trust the notebook. <br />On GitHub, the HTML representation is unable to render, please try loading this page with nbviewer.org.</b></div><div class=\"sk-container\" hidden><div class=\"sk-item sk-dashed-wrapped\"><div class=\"sk-label-container\"><div class=\"sk-label sk-toggleable\"><input class=\"sk-toggleable__control sk-hidden--visually\" id=\"sk-estimator-id-18\" type=\"checkbox\" ><label for=\"sk-estimator-id-18\" class=\"sk-toggleable__label sk-toggleable__label-arrow\">GridSearchCV</label><div class=\"sk-toggleable__content\"><pre>GridSearchCV(cv=ShuffleSplit(n_splits=2, random_state=42, test_size=0.8, train_size=None),\n",
       "             estimator=Pipeline(steps=[(&#x27;polyfeat&#x27;,\n",
       "                                        PolynomialFeatures(include_bias=False)),\n",
       "                                       (&#x27;lnreg&#x27;, LinearRegression())]),\n",
       "             param_grid={&#x27;polyfeat__degree&#x27;: [1, 2]},\n",
       "             scoring=&#x27;neg_mean_squared_error&#x27;)</pre></div></div></div><div class=\"sk-parallel\"><div class=\"sk-parallel-item\"><div class=\"sk-item\"><div class=\"sk-label-container\"><div class=\"sk-label sk-toggleable\"><input class=\"sk-toggleable__control sk-hidden--visually\" id=\"sk-estimator-id-19\" type=\"checkbox\" ><label for=\"sk-estimator-id-19\" class=\"sk-toggleable__label sk-toggleable__label-arrow\">estimator: Pipeline</label><div class=\"sk-toggleable__content\"><pre>Pipeline(steps=[(&#x27;polyfeat&#x27;, PolynomialFeatures(include_bias=False)),\n",
       "                (&#x27;lnreg&#x27;, LinearRegression())])</pre></div></div></div><div class=\"sk-serial\"><div class=\"sk-item\"><div class=\"sk-serial\"><div class=\"sk-item\"><div class=\"sk-estimator sk-toggleable\"><input class=\"sk-toggleable__control sk-hidden--visually\" id=\"sk-estimator-id-20\" type=\"checkbox\" ><label for=\"sk-estimator-id-20\" class=\"sk-toggleable__label sk-toggleable__label-arrow\">PolynomialFeatures</label><div class=\"sk-toggleable__content\"><pre>PolynomialFeatures(include_bias=False)</pre></div></div></div><div class=\"sk-item\"><div class=\"sk-estimator sk-toggleable\"><input class=\"sk-toggleable__control sk-hidden--visually\" id=\"sk-estimator-id-21\" type=\"checkbox\" ><label for=\"sk-estimator-id-21\" class=\"sk-toggleable__label sk-toggleable__label-arrow\">LinearRegression</label><div class=\"sk-toggleable__content\"><pre>LinearRegression()</pre></div></div></div></div></div></div></div></div></div></div></div></div>"
      ],
      "text/plain": [
       "GridSearchCV(cv=ShuffleSplit(n_splits=2, random_state=42, test_size=0.8, train_size=None),\n",
       "             estimator=Pipeline(steps=[('polyfeat',\n",
       "                                        PolynomialFeatures(include_bias=False)),\n",
       "                                       ('lnreg', LinearRegression())]),\n",
       "             param_grid={'polyfeat__degree': [1, 2]},\n",
       "             scoring='neg_mean_squared_error')"
      ]
     },
     "execution_count": 122,
     "metadata": {},
     "output_type": "execute_result"
    }
   ],
   "source": [
    "lnreg_selector.fit(X_train, y_train)"
   ]
  },
  {
   "cell_type": "markdown",
   "metadata": {},
   "source": [
    "Selecting best model"
   ]
  },
  {
   "cell_type": "code",
   "execution_count": 125,
   "metadata": {},
   "outputs": [],
   "source": [
    "lnreg_model = lnreg_model_selector.best_estimator_"
   ]
  },
  {
   "cell_type": "markdown",
   "metadata": {},
   "source": [
    "Identifying the best hyperparameters from the grid search"
   ]
  },
  {
   "cell_type": "code",
   "execution_count": 126,
   "metadata": {},
   "outputs": [
    {
     "data": {
      "text/plain": [
       "{'polyfeat__degree': 1}"
      ]
     },
     "execution_count": 126,
     "metadata": {},
     "output_type": "execute_result"
    }
   ],
   "source": [
    "lnreg_params = lnreg_selector.best_params_\n",
    "lnreg_params"
   ]
  },
  {
   "cell_type": "markdown",
   "metadata": {},
   "source": [
    "Getting best model coefficients. Updated for module pipeline without FE & TTR"
   ]
  },
  {
   "cell_type": "code",
   "execution_count": 255,
   "metadata": {},
   "outputs": [
    {
     "data": {
      "text/html": [
       "<div>\n",
       "<style scoped>\n",
       "    .dataframe tbody tr th:only-of-type {\n",
       "        vertical-align: middle;\n",
       "    }\n",
       "\n",
       "    .dataframe tbody tr th {\n",
       "        vertical-align: top;\n",
       "    }\n",
       "\n",
       "    .dataframe thead th {\n",
       "        text-align: right;\n",
       "    }\n",
       "</style>\n",
       "<table border=\"1\" class=\"dataframe\">\n",
       "  <thead>\n",
       "    <tr style=\"text-align: right;\">\n",
       "      <th></th>\n",
       "      <th>COEF</th>\n",
       "    </tr>\n",
       "  </thead>\n",
       "  <tbody>\n",
       "    <tr>\n",
       "      <th>title_lien</th>\n",
       "      <td>7.673991e+08</td>\n",
       "    </tr>\n",
       "    <tr>\n",
       "      <th>title_clean</th>\n",
       "      <td>7.673991e+08</td>\n",
       "    </tr>\n",
       "    <tr>\n",
       "      <th>title_rebuilt</th>\n",
       "      <td>7.673991e+08</td>\n",
       "    </tr>\n",
       "    <tr>\n",
       "      <th>title_salvage</th>\n",
       "      <td>7.673991e+08</td>\n",
       "    </tr>\n",
       "    <tr>\n",
       "      <th>title_missing</th>\n",
       "      <td>7.673991e+08</td>\n",
       "    </tr>\n",
       "    <tr>\n",
       "      <th>title_parts only</th>\n",
       "      <td>7.673991e+08</td>\n",
       "    </tr>\n",
       "    <tr>\n",
       "      <th>transmission_other</th>\n",
       "      <td>6.001005e+08</td>\n",
       "    </tr>\n",
       "    <tr>\n",
       "      <th>transmission_manual</th>\n",
       "      <td>6.001005e+08</td>\n",
       "    </tr>\n",
       "    <tr>\n",
       "      <th>transmission_automatic</th>\n",
       "      <td>6.001005e+08</td>\n",
       "    </tr>\n",
       "    <tr>\n",
       "      <th>type_truck</th>\n",
       "      <td>5.441282e+08</td>\n",
       "    </tr>\n",
       "    <tr>\n",
       "      <th>type_offroad</th>\n",
       "      <td>5.441282e+08</td>\n",
       "    </tr>\n",
       "    <tr>\n",
       "      <th>type_pickup</th>\n",
       "      <td>5.441282e+08</td>\n",
       "    </tr>\n",
       "    <tr>\n",
       "      <th>type_convertible</th>\n",
       "      <td>5.441282e+08</td>\n",
       "    </tr>\n",
       "    <tr>\n",
       "      <th>type_bus</th>\n",
       "      <td>5.441282e+08</td>\n",
       "    </tr>\n",
       "    <tr>\n",
       "      <th>type_other</th>\n",
       "      <td>5.441282e+08</td>\n",
       "    </tr>\n",
       "    <tr>\n",
       "      <th>type_coupe</th>\n",
       "      <td>5.441282e+08</td>\n",
       "    </tr>\n",
       "    <tr>\n",
       "      <th>type_van</th>\n",
       "      <td>5.441282e+08</td>\n",
       "    </tr>\n",
       "    <tr>\n",
       "      <th>type_SUV</th>\n",
       "      <td>5.441282e+08</td>\n",
       "    </tr>\n",
       "    <tr>\n",
       "      <th>type_wagon</th>\n",
       "      <td>5.441282e+08</td>\n",
       "    </tr>\n",
       "    <tr>\n",
       "      <th>type_sedan</th>\n",
       "      <td>5.441282e+08</td>\n",
       "    </tr>\n",
       "    <tr>\n",
       "      <th>type_mini-van</th>\n",
       "      <td>5.441282e+08</td>\n",
       "    </tr>\n",
       "    <tr>\n",
       "      <th>type_hatchback</th>\n",
       "      <td>5.441282e+08</td>\n",
       "    </tr>\n",
       "    <tr>\n",
       "      <th>fuel_diesel</th>\n",
       "      <td>3.984050e+08</td>\n",
       "    </tr>\n",
       "    <tr>\n",
       "      <th>fuel_electric</th>\n",
       "      <td>3.984050e+08</td>\n",
       "    </tr>\n",
       "    <tr>\n",
       "      <th>fuel_other</th>\n",
       "      <td>3.984050e+08</td>\n",
       "    </tr>\n",
       "    <tr>\n",
       "      <th>fuel_hybrid</th>\n",
       "      <td>3.984050e+08</td>\n",
       "    </tr>\n",
       "    <tr>\n",
       "      <th>fuel_gas</th>\n",
       "      <td>3.984050e+08</td>\n",
       "    </tr>\n",
       "    <tr>\n",
       "      <th>condition</th>\n",
       "      <td>-2.369522e-02</td>\n",
       "    </tr>\n",
       "    <tr>\n",
       "      <th>age</th>\n",
       "      <td>-1.011334e-01</td>\n",
       "    </tr>\n",
       "    <tr>\n",
       "      <th>odometer</th>\n",
       "      <td>-1.761424e-01</td>\n",
       "    </tr>\n",
       "    <tr>\n",
       "      <th>brand_eur</th>\n",
       "      <td>-9.592889e+06</td>\n",
       "    </tr>\n",
       "    <tr>\n",
       "      <th>brand_usa</th>\n",
       "      <td>-9.592889e+06</td>\n",
       "    </tr>\n",
       "    <tr>\n",
       "      <th>brand_jap</th>\n",
       "      <td>-9.592889e+06</td>\n",
       "    </tr>\n",
       "    <tr>\n",
       "      <th>brand_kor</th>\n",
       "      <td>-9.592889e+06</td>\n",
       "    </tr>\n",
       "  </tbody>\n",
       "</table>\n",
       "</div>"
      ],
      "text/plain": [
       "                                COEF\n",
       "title_lien              7.673991e+08\n",
       "title_clean             7.673991e+08\n",
       "title_rebuilt           7.673991e+08\n",
       "title_salvage           7.673991e+08\n",
       "title_missing           7.673991e+08\n",
       "title_parts only        7.673991e+08\n",
       "transmission_other      6.001005e+08\n",
       "transmission_manual     6.001005e+08\n",
       "transmission_automatic  6.001005e+08\n",
       "type_truck              5.441282e+08\n",
       "type_offroad            5.441282e+08\n",
       "type_pickup             5.441282e+08\n",
       "type_convertible        5.441282e+08\n",
       "type_bus                5.441282e+08\n",
       "type_other              5.441282e+08\n",
       "type_coupe              5.441282e+08\n",
       "type_van                5.441282e+08\n",
       "type_SUV                5.441282e+08\n",
       "type_wagon              5.441282e+08\n",
       "type_sedan              5.441282e+08\n",
       "type_mini-van           5.441282e+08\n",
       "type_hatchback          5.441282e+08\n",
       "fuel_diesel             3.984050e+08\n",
       "fuel_electric           3.984050e+08\n",
       "fuel_other              3.984050e+08\n",
       "fuel_hybrid             3.984050e+08\n",
       "fuel_gas                3.984050e+08\n",
       "condition              -2.369522e-02\n",
       "age                    -1.011334e-01\n",
       "odometer               -1.761424e-01\n",
       "brand_eur              -9.592889e+06\n",
       "brand_usa              -9.592889e+06\n",
       "brand_jap              -9.592889e+06\n",
       "brand_kor              -9.592889e+06"
      ]
     },
     "execution_count": 255,
     "metadata": {},
     "output_type": "execute_result"
    }
   ],
   "source": [
    "#lnreg_coefs = pd.DataFrame(lnreg_model.named_steps['lnreg'].regressor_.coef_,\n",
    "#                           index=[lnreg_model.named_steps['polyfeat'].get_feature_names_out()],\n",
    "#                           columns=['COEF']).sort_values(by=['COEF'], ascending=False)\n",
    "\n",
    "lnreg_coefs = pd.DataFrame(lnreg_model.named_steps['lnreg'].coef_, \n",
    "                           index=[lnreg_model.named_steps['polyfeat'].get_feature_names_out()],\n",
    "                           columns=['COEF'])\n",
    "lnreg_coefs.sort_values(by=['COEF'], ascending=False)"
   ]
  },
  {
   "cell_type": "markdown",
   "metadata": {},
   "source": [
    "Evaluating the best model **R2 score**"
   ]
  },
  {
   "cell_type": "code",
   "execution_count": 310,
   "metadata": {},
   "outputs": [
    {
     "data": {
      "text/plain": [
       "0.601639542027791"
      ]
     },
     "execution_count": 310,
     "metadata": {},
     "output_type": "execute_result"
    }
   ],
   "source": [
    "lnreg_r2 = lnreg_model.score(X_test,y_test)\n",
    "lnreg_r2"
   ]
  },
  {
   "cell_type": "markdown",
   "metadata": {},
   "source": [
    "Evaluating the best model **RMSE**"
   ]
  },
  {
   "cell_type": "code",
   "execution_count": 232,
   "metadata": {},
   "outputs": [
    {
     "data": {
      "text/plain": [
       "0.22822941295441865"
      ]
     },
     "execution_count": 232,
     "metadata": {},
     "output_type": "execute_result"
    }
   ],
   "source": [
    "lnreg_rmse = np.sqrt(mean_squared_error(y_test,lnreg_best_model.predict(X_test)))\n",
    "lnreg_rmse"
   ]
  },
  {
   "cell_type": "markdown",
   "metadata": {},
   "source": [
    "Evaluating the best model **MAE**"
   ]
  },
  {
   "cell_type": "code",
   "execution_count": 140,
   "metadata": {},
   "outputs": [
    {
     "data": {
      "text/plain": [
       "0.1671305057720717"
      ]
     },
     "execution_count": 140,
     "metadata": {},
     "output_type": "execute_result"
    }
   ],
   "source": [
    "lnreg_mae = mean_absolute_error(y_test,lnreg_best_model.predict(X_test))\n",
    "lnreg_mae"
   ]
  },
  {
   "cell_type": "markdown",
   "metadata": {},
   "source": [
    "Evaluating **Feature Permutation Importance**"
   ]
  },
  {
   "cell_type": "code",
   "execution_count": 141,
   "metadata": {},
   "outputs": [],
   "source": [
    "lnreg_fpi = permutation_importance(lnreg_model, X_train, y_train, n_repeats=25, random_state=42)"
   ]
  },
  {
   "cell_type": "code",
   "execution_count": 317,
   "metadata": {},
   "outputs": [
    {
     "data": {
      "text/html": [
       "<div>\n",
       "<style scoped>\n",
       "    .dataframe tbody tr th:only-of-type {\n",
       "        vertical-align: middle;\n",
       "    }\n",
       "\n",
       "    .dataframe tbody tr th {\n",
       "        vertical-align: top;\n",
       "    }\n",
       "\n",
       "    .dataframe thead th {\n",
       "        text-align: right;\n",
       "    }\n",
       "</style>\n",
       "<table border=\"1\" class=\"dataframe\">\n",
       "  <thead>\n",
       "    <tr style=\"text-align: right;\">\n",
       "      <th></th>\n",
       "      <th>MEAN</th>\n",
       "      <th>STD</th>\n",
       "    </tr>\n",
       "  </thead>\n",
       "  <tbody>\n",
       "    <tr>\n",
       "      <th>transmission_automatic</th>\n",
       "      <td>1.206287e+18</td>\n",
       "      <td>2.896367e+15</td>\n",
       "    </tr>\n",
       "    <tr>\n",
       "      <th>transmission_other</th>\n",
       "      <td>1.081211e+18</td>\n",
       "      <td>2.531740e+15</td>\n",
       "    </tr>\n",
       "    <tr>\n",
       "      <th>type_sedan</th>\n",
       "      <td>8.906442e+17</td>\n",
       "      <td>2.456850e+15</td>\n",
       "    </tr>\n",
       "    <tr>\n",
       "      <th>type_SUV</th>\n",
       "      <td>7.461129e+17</td>\n",
       "      <td>2.003564e+15</td>\n",
       "    </tr>\n",
       "    <tr>\n",
       "      <th>type_pickup</th>\n",
       "      <td>5.011203e+17</td>\n",
       "      <td>9.853185e+14</td>\n",
       "    </tr>\n",
       "    <tr>\n",
       "      <th>type_truck</th>\n",
       "      <td>3.911688e+17</td>\n",
       "      <td>1.182034e+15</td>\n",
       "    </tr>\n",
       "    <tr>\n",
       "      <th>fuel_gas</th>\n",
       "      <td>3.309515e+17</td>\n",
       "      <td>7.734952e+14</td>\n",
       "    </tr>\n",
       "    <tr>\n",
       "      <th>title_clean</th>\n",
       "      <td>3.221836e+17</td>\n",
       "      <td>7.341719e+14</td>\n",
       "    </tr>\n",
       "    <tr>\n",
       "      <th>transmission_manual</th>\n",
       "      <td>2.942404e+17</td>\n",
       "      <td>5.605019e+14</td>\n",
       "    </tr>\n",
       "    <tr>\n",
       "      <th>type_coupe</th>\n",
       "      <td>2.790288e+17</td>\n",
       "      <td>6.464445e+14</td>\n",
       "    </tr>\n",
       "    <tr>\n",
       "      <th>type_other</th>\n",
       "      <td>2.722537e+17</td>\n",
       "      <td>6.014010e+14</td>\n",
       "    </tr>\n",
       "    <tr>\n",
       "      <th>type_hatchback</th>\n",
       "      <td>2.655003e+17</td>\n",
       "      <td>6.440598e+14</td>\n",
       "    </tr>\n",
       "    <tr>\n",
       "      <th>fuel_other</th>\n",
       "      <td>2.079734e+17</td>\n",
       "      <td>4.568631e+14</td>\n",
       "    </tr>\n",
       "    <tr>\n",
       "      <th>title_rebuilt</th>\n",
       "      <td>1.828984e+17</td>\n",
       "      <td>4.545139e+14</td>\n",
       "    </tr>\n",
       "    <tr>\n",
       "      <th>type_wagon</th>\n",
       "      <td>1.236409e+17</td>\n",
       "      <td>3.193141e+14</td>\n",
       "    </tr>\n",
       "    <tr>\n",
       "      <th>type_convertible</th>\n",
       "      <td>1.188994e+17</td>\n",
       "      <td>3.068124e+14</td>\n",
       "    </tr>\n",
       "    <tr>\n",
       "      <th>fuel_diesel</th>\n",
       "      <td>1.129918e+17</td>\n",
       "      <td>2.355069e+14</td>\n",
       "    </tr>\n",
       "    <tr>\n",
       "      <th>type_van</th>\n",
       "      <td>1.029365e+17</td>\n",
       "      <td>2.209528e+14</td>\n",
       "    </tr>\n",
       "    <tr>\n",
       "      <th>title_salvage</th>\n",
       "      <td>8.491175e+16</td>\n",
       "      <td>2.190525e+14</td>\n",
       "    </tr>\n",
       "    <tr>\n",
       "      <th>type_mini-van</th>\n",
       "      <td>7.932386e+16</td>\n",
       "      <td>2.429167e+14</td>\n",
       "    </tr>\n",
       "    <tr>\n",
       "      <th>title_lien</th>\n",
       "      <td>4.851487e+16</td>\n",
       "      <td>1.053792e+14</td>\n",
       "    </tr>\n",
       "    <tr>\n",
       "      <th>fuel_hybrid</th>\n",
       "      <td>3.423418e+16</td>\n",
       "      <td>7.994818e+13</td>\n",
       "    </tr>\n",
       "    <tr>\n",
       "      <th>fuel_electric</th>\n",
       "      <td>1.215772e+16</td>\n",
       "      <td>3.370502e+13</td>\n",
       "    </tr>\n",
       "    <tr>\n",
       "      <th>type_offroad</th>\n",
       "      <td>1.182131e+16</td>\n",
       "      <td>2.295291e+13</td>\n",
       "    </tr>\n",
       "    <tr>\n",
       "      <th>title_missing</th>\n",
       "      <td>1.089616e+16</td>\n",
       "      <td>2.863642e+13</td>\n",
       "    </tr>\n",
       "    <tr>\n",
       "      <th>type_bus</th>\n",
       "      <td>7.545341e+15</td>\n",
       "      <td>2.556379e+13</td>\n",
       "    </tr>\n",
       "    <tr>\n",
       "      <th>title_parts only</th>\n",
       "      <td>2.443641e+15</td>\n",
       "      <td>1.169077e+13</td>\n",
       "    </tr>\n",
       "    <tr>\n",
       "      <th>brand_usa</th>\n",
       "      <td>3.495609e+14</td>\n",
       "      <td>9.213635e+11</td>\n",
       "    </tr>\n",
       "    <tr>\n",
       "      <th>brand_jap</th>\n",
       "      <td>2.894839e+14</td>\n",
       "      <td>8.259694e+11</td>\n",
       "    </tr>\n",
       "    <tr>\n",
       "      <th>brand_eur</th>\n",
       "      <td>1.889330e+14</td>\n",
       "      <td>5.685154e+11</td>\n",
       "    </tr>\n",
       "    <tr>\n",
       "      <th>brand_kor</th>\n",
       "      <td>6.067549e+13</td>\n",
       "      <td>1.812721e+11</td>\n",
       "    </tr>\n",
       "    <tr>\n",
       "      <th>odometer</th>\n",
       "      <td>4.723463e-01</td>\n",
       "      <td>1.527228e-03</td>\n",
       "    </tr>\n",
       "    <tr>\n",
       "      <th>age</th>\n",
       "      <td>1.547608e-01</td>\n",
       "      <td>9.104037e-04</td>\n",
       "    </tr>\n",
       "    <tr>\n",
       "      <th>condition</th>\n",
       "      <td>9.853072e-03</td>\n",
       "      <td>2.272817e-04</td>\n",
       "    </tr>\n",
       "  </tbody>\n",
       "</table>\n",
       "</div>"
      ],
      "text/plain": [
       "                                MEAN           STD\n",
       "transmission_automatic  1.206287e+18  2.896367e+15\n",
       "transmission_other      1.081211e+18  2.531740e+15\n",
       "type_sedan              8.906442e+17  2.456850e+15\n",
       "type_SUV                7.461129e+17  2.003564e+15\n",
       "type_pickup             5.011203e+17  9.853185e+14\n",
       "type_truck              3.911688e+17  1.182034e+15\n",
       "fuel_gas                3.309515e+17  7.734952e+14\n",
       "title_clean             3.221836e+17  7.341719e+14\n",
       "transmission_manual     2.942404e+17  5.605019e+14\n",
       "type_coupe              2.790288e+17  6.464445e+14\n",
       "type_other              2.722537e+17  6.014010e+14\n",
       "type_hatchback          2.655003e+17  6.440598e+14\n",
       "fuel_other              2.079734e+17  4.568631e+14\n",
       "title_rebuilt           1.828984e+17  4.545139e+14\n",
       "type_wagon              1.236409e+17  3.193141e+14\n",
       "type_convertible        1.188994e+17  3.068124e+14\n",
       "fuel_diesel             1.129918e+17  2.355069e+14\n",
       "type_van                1.029365e+17  2.209528e+14\n",
       "title_salvage           8.491175e+16  2.190525e+14\n",
       "type_mini-van           7.932386e+16  2.429167e+14\n",
       "title_lien              4.851487e+16  1.053792e+14\n",
       "fuel_hybrid             3.423418e+16  7.994818e+13\n",
       "fuel_electric           1.215772e+16  3.370502e+13\n",
       "type_offroad            1.182131e+16  2.295291e+13\n",
       "title_missing           1.089616e+16  2.863642e+13\n",
       "type_bus                7.545341e+15  2.556379e+13\n",
       "title_parts only        2.443641e+15  1.169077e+13\n",
       "brand_usa               3.495609e+14  9.213635e+11\n",
       "brand_jap               2.894839e+14  8.259694e+11\n",
       "brand_eur               1.889330e+14  5.685154e+11\n",
       "brand_kor               6.067549e+13  1.812721e+11\n",
       "odometer                4.723463e-01  1.527228e-03\n",
       "age                     1.547608e-01  9.104037e-04\n",
       "condition               9.853072e-03  2.272817e-04"
      ]
     },
     "execution_count": 317,
     "metadata": {},
     "output_type": "execute_result"
    }
   ],
   "source": [
    "lnreg_imp = pd.DataFrame({'MEAN':lnreg_fpi['importances_mean'],'STD':lnreg_fpi['importances_std']}, \n",
    "                              index=X_train.columns)\n",
    "lnreg_imp.sort_values(by=['MEAN'],ascending=False)"
   ]
  },
  {
   "cell_type": "markdown",
   "metadata": {},
   "source": [
    "Instantiating **Recursive Feature Elimination (RFE)** pipeline"
   ]
  },
  {
   "cell_type": "code",
   "execution_count": 160,
   "metadata": {},
   "outputs": [],
   "source": [
    "params = {'selector__n_features_to_select':[5,10,15,20]}\n",
    "lnreg_rfe = Pipeline([('selector', RFE(estimator=LinearRegression())),\n",
    "                      ('model', LinearRegression())])"
   ]
  },
  {
   "cell_type": "markdown",
   "metadata": {},
   "source": [
    "Instantiating grid search for RFE"
   ]
  },
  {
   "cell_type": "code",
   "execution_count": 161,
   "metadata": {},
   "outputs": [],
   "source": [
    "lnreg_rfe_selector = GridSearchCV(estimator=lnreg_rfe, param_grid=params)"
   ]
  },
  {
   "cell_type": "markdown",
   "metadata": {},
   "source": [
    "Performing grid search for RFE"
   ]
  },
  {
   "cell_type": "code",
   "execution_count": 162,
   "metadata": {},
   "outputs": [
    {
     "data": {
      "text/html": [
       "<style>#sk-container-id-6 {color: black;background-color: white;}#sk-container-id-6 pre{padding: 0;}#sk-container-id-6 div.sk-toggleable {background-color: white;}#sk-container-id-6 label.sk-toggleable__label {cursor: pointer;display: block;width: 100%;margin-bottom: 0;padding: 0.3em;box-sizing: border-box;text-align: center;}#sk-container-id-6 label.sk-toggleable__label-arrow:before {content: \"▸\";float: left;margin-right: 0.25em;color: #696969;}#sk-container-id-6 label.sk-toggleable__label-arrow:hover:before {color: black;}#sk-container-id-6 div.sk-estimator:hover label.sk-toggleable__label-arrow:before {color: black;}#sk-container-id-6 div.sk-toggleable__content {max-height: 0;max-width: 0;overflow: hidden;text-align: left;background-color: #f0f8ff;}#sk-container-id-6 div.sk-toggleable__content pre {margin: 0.2em;color: black;border-radius: 0.25em;background-color: #f0f8ff;}#sk-container-id-6 input.sk-toggleable__control:checked~div.sk-toggleable__content {max-height: 200px;max-width: 100%;overflow: auto;}#sk-container-id-6 input.sk-toggleable__control:checked~label.sk-toggleable__label-arrow:before {content: \"▾\";}#sk-container-id-6 div.sk-estimator input.sk-toggleable__control:checked~label.sk-toggleable__label {background-color: #d4ebff;}#sk-container-id-6 div.sk-label input.sk-toggleable__control:checked~label.sk-toggleable__label {background-color: #d4ebff;}#sk-container-id-6 input.sk-hidden--visually {border: 0;clip: rect(1px 1px 1px 1px);clip: rect(1px, 1px, 1px, 1px);height: 1px;margin: -1px;overflow: hidden;padding: 0;position: absolute;width: 1px;}#sk-container-id-6 div.sk-estimator {font-family: monospace;background-color: #f0f8ff;border: 1px dotted black;border-radius: 0.25em;box-sizing: border-box;margin-bottom: 0.5em;}#sk-container-id-6 div.sk-estimator:hover {background-color: #d4ebff;}#sk-container-id-6 div.sk-parallel-item::after {content: \"\";width: 100%;border-bottom: 1px solid gray;flex-grow: 1;}#sk-container-id-6 div.sk-label:hover label.sk-toggleable__label {background-color: #d4ebff;}#sk-container-id-6 div.sk-serial::before {content: \"\";position: absolute;border-left: 1px solid gray;box-sizing: border-box;top: 0;bottom: 0;left: 50%;z-index: 0;}#sk-container-id-6 div.sk-serial {display: flex;flex-direction: column;align-items: center;background-color: white;padding-right: 0.2em;padding-left: 0.2em;position: relative;}#sk-container-id-6 div.sk-item {position: relative;z-index: 1;}#sk-container-id-6 div.sk-parallel {display: flex;align-items: stretch;justify-content: center;background-color: white;position: relative;}#sk-container-id-6 div.sk-item::before, #sk-container-id-6 div.sk-parallel-item::before {content: \"\";position: absolute;border-left: 1px solid gray;box-sizing: border-box;top: 0;bottom: 0;left: 50%;z-index: -1;}#sk-container-id-6 div.sk-parallel-item {display: flex;flex-direction: column;z-index: 1;position: relative;background-color: white;}#sk-container-id-6 div.sk-parallel-item:first-child::after {align-self: flex-end;width: 50%;}#sk-container-id-6 div.sk-parallel-item:last-child::after {align-self: flex-start;width: 50%;}#sk-container-id-6 div.sk-parallel-item:only-child::after {width: 0;}#sk-container-id-6 div.sk-dashed-wrapped {border: 1px dashed gray;margin: 0 0.4em 0.5em 0.4em;box-sizing: border-box;padding-bottom: 0.4em;background-color: white;}#sk-container-id-6 div.sk-label label {font-family: monospace;font-weight: bold;display: inline-block;line-height: 1.2em;}#sk-container-id-6 div.sk-label-container {text-align: center;}#sk-container-id-6 div.sk-container {/* jupyter's `normalize.less` sets `[hidden] { display: none; }` but bootstrap.min.css set `[hidden] { display: none !important; }` so we also need the `!important` here to be able to override the default hidden behavior on the sphinx rendered scikit-learn.org. See: https://github.com/scikit-learn/scikit-learn/issues/21755 */display: inline-block !important;position: relative;}#sk-container-id-6 div.sk-text-repr-fallback {display: none;}</style><div id=\"sk-container-id-6\" class=\"sk-top-container\"><div class=\"sk-text-repr-fallback\"><pre>GridSearchCV(estimator=Pipeline(steps=[(&#x27;selector&#x27;,\n",
       "                                        RFE(estimator=LinearRegression())),\n",
       "                                       (&#x27;model&#x27;, LinearRegression())]),\n",
       "             param_grid={&#x27;selector__n_features_to_select&#x27;: [5, 10, 15, 20]})</pre><b>In a Jupyter environment, please rerun this cell to show the HTML representation or trust the notebook. <br />On GitHub, the HTML representation is unable to render, please try loading this page with nbviewer.org.</b></div><div class=\"sk-container\" hidden><div class=\"sk-item sk-dashed-wrapped\"><div class=\"sk-label-container\"><div class=\"sk-label sk-toggleable\"><input class=\"sk-toggleable__control sk-hidden--visually\" id=\"sk-estimator-id-28\" type=\"checkbox\" ><label for=\"sk-estimator-id-28\" class=\"sk-toggleable__label sk-toggleable__label-arrow\">GridSearchCV</label><div class=\"sk-toggleable__content\"><pre>GridSearchCV(estimator=Pipeline(steps=[(&#x27;selector&#x27;,\n",
       "                                        RFE(estimator=LinearRegression())),\n",
       "                                       (&#x27;model&#x27;, LinearRegression())]),\n",
       "             param_grid={&#x27;selector__n_features_to_select&#x27;: [5, 10, 15, 20]})</pre></div></div></div><div class=\"sk-parallel\"><div class=\"sk-parallel-item\"><div class=\"sk-item\"><div class=\"sk-label-container\"><div class=\"sk-label sk-toggleable\"><input class=\"sk-toggleable__control sk-hidden--visually\" id=\"sk-estimator-id-29\" type=\"checkbox\" ><label for=\"sk-estimator-id-29\" class=\"sk-toggleable__label sk-toggleable__label-arrow\">estimator: Pipeline</label><div class=\"sk-toggleable__content\"><pre>Pipeline(steps=[(&#x27;selector&#x27;, RFE(estimator=LinearRegression())),\n",
       "                (&#x27;model&#x27;, LinearRegression())])</pre></div></div></div><div class=\"sk-serial\"><div class=\"sk-item\"><div class=\"sk-serial\"><div class=\"sk-item sk-dashed-wrapped\"><div class=\"sk-label-container\"><div class=\"sk-label sk-toggleable\"><input class=\"sk-toggleable__control sk-hidden--visually\" id=\"sk-estimator-id-30\" type=\"checkbox\" ><label for=\"sk-estimator-id-30\" class=\"sk-toggleable__label sk-toggleable__label-arrow\">selector: RFE</label><div class=\"sk-toggleable__content\"><pre>RFE(estimator=LinearRegression())</pre></div></div></div><div class=\"sk-parallel\"><div class=\"sk-parallel-item\"><div class=\"sk-item\"><div class=\"sk-label-container\"><div class=\"sk-label sk-toggleable\"><input class=\"sk-toggleable__control sk-hidden--visually\" id=\"sk-estimator-id-31\" type=\"checkbox\" ><label for=\"sk-estimator-id-31\" class=\"sk-toggleable__label sk-toggleable__label-arrow\">estimator: LinearRegression</label><div class=\"sk-toggleable__content\"><pre>LinearRegression()</pre></div></div></div><div class=\"sk-serial\"><div class=\"sk-item\"><div class=\"sk-estimator sk-toggleable\"><input class=\"sk-toggleable__control sk-hidden--visually\" id=\"sk-estimator-id-32\" type=\"checkbox\" ><label for=\"sk-estimator-id-32\" class=\"sk-toggleable__label sk-toggleable__label-arrow\">LinearRegression</label><div class=\"sk-toggleable__content\"><pre>LinearRegression()</pre></div></div></div></div></div></div></div></div><div class=\"sk-item\"><div class=\"sk-estimator sk-toggleable\"><input class=\"sk-toggleable__control sk-hidden--visually\" id=\"sk-estimator-id-33\" type=\"checkbox\" ><label for=\"sk-estimator-id-33\" class=\"sk-toggleable__label sk-toggleable__label-arrow\">LinearRegression</label><div class=\"sk-toggleable__content\"><pre>LinearRegression()</pre></div></div></div></div></div></div></div></div></div></div></div></div>"
      ],
      "text/plain": [
       "GridSearchCV(estimator=Pipeline(steps=[('selector',\n",
       "                                        RFE(estimator=LinearRegression())),\n",
       "                                       ('model', LinearRegression())]),\n",
       "             param_grid={'selector__n_features_to_select': [5, 10, 15, 20]})"
      ]
     },
     "execution_count": 162,
     "metadata": {},
     "output_type": "execute_result"
    }
   ],
   "source": [
    "lnreg_rfe_selector.fit(X_train,y_train)"
   ]
  },
  {
   "cell_type": "markdown",
   "metadata": {},
   "source": [
    "Identifying the best hyperparameters from the grid search"
   ]
  },
  {
   "cell_type": "code",
   "execution_count": 163,
   "metadata": {},
   "outputs": [
    {
     "data": {
      "text/plain": [
       "{'selector__n_features_to_select': 20}"
      ]
     },
     "execution_count": 163,
     "metadata": {},
     "output_type": "execute_result"
    }
   ],
   "source": [
    "lnreg_rfe_selector.best_params_"
   ]
  },
  {
   "cell_type": "markdown",
   "metadata": {},
   "source": [
    "Getting selected features"
   ]
  },
  {
   "cell_type": "code",
   "execution_count": 164,
   "metadata": {},
   "outputs": [
    {
     "data": {
      "text/plain": [
       "['brand_eur',\n",
       " 'brand_jap',\n",
       " 'brand_kor',\n",
       " 'brand_usa',\n",
       " 'fuel_diesel',\n",
       " 'fuel_electric',\n",
       " 'fuel_gas',\n",
       " 'fuel_hybrid',\n",
       " 'fuel_other',\n",
       " 'transmission_automatic',\n",
       " 'transmission_manual',\n",
       " 'transmission_other',\n",
       " 'type_SUV',\n",
       " 'type_convertible',\n",
       " 'type_coupe',\n",
       " 'type_offroad',\n",
       " 'type_other',\n",
       " 'type_pickup',\n",
       " 'type_truck',\n",
       " 'type_van']"
      ]
     },
     "execution_count": 164,
     "metadata": {},
     "output_type": "execute_result"
    }
   ],
   "source": [
    "lnreg_rfe_features = lnreg_rfe_selector.best_estimator_.named_steps['selector'].get_feature_names_out().tolist()\n",
    "lnreg_rfe_features"
   ]
  },
  {
   "cell_type": "markdown",
   "metadata": {},
   "source": [
    "Getting predictions with RFE features for performance evaluation"
   ]
  },
  {
   "cell_type": "code",
   "execution_count": null,
   "metadata": {},
   "outputs": [],
   "source": [
    "lnreg_rfe_pred = LinearRegression().fit(X_train[lnreg_rfe_features],y_train).predict(X_test[lnreg_rfe_features])"
   ]
  },
  {
   "cell_type": "markdown",
   "metadata": {},
   "source": [
    "Evaluating **RMSE** for best model with **RFE** selected features"
   ]
  },
  {
   "cell_type": "code",
   "execution_count": 271,
   "metadata": {},
   "outputs": [
    {
     "name": "stdout",
     "output_type": "stream",
     "text": [
      "RFE: 0.29266143100378705\n",
      "ALL: 0.22822941295441865\n"
     ]
    }
   ],
   "source": [
    "print(f'RFE: {np.sqrt(mean_squared_error(y_test,lnreg_rfe_pred))}\\nALL: {lnreg_rmse}')"
   ]
  },
  {
   "cell_type": "markdown",
   "metadata": {},
   "source": [
    "Evaluating **MAE** for best model with **RFE** selected features"
   ]
  },
  {
   "cell_type": "code",
   "execution_count": 272,
   "metadata": {},
   "outputs": [
    {
     "name": "stdout",
     "output_type": "stream",
     "text": [
      "RFE: 0.22322773783520883\n",
      "ALL: 0.1671305057720717\n"
     ]
    }
   ],
   "source": [
    "print(f'RFE: {mean_absolute_error(y_test,lnreg_rfe_pred)}\\nALL: {lnreg_mae}')"
   ]
  },
  {
   "cell_type": "markdown",
   "metadata": {},
   "source": [
    "Instantiating **Sequential Feature Selection (SFS)** pipeline. Limiting to max 15 features selection due to processing time"
   ]
  },
  {
   "cell_type": "code",
   "execution_count": 168,
   "metadata": {},
   "outputs": [],
   "source": [
    "params = {'selector__n_features_to_select':[5,10,15]}\n",
    "lnreg_sfs = Pipeline([('selector', SequentialFeatureSelector(estimator=LinearRegression())),\n",
    "                      ('model', LinearRegression())])"
   ]
  },
  {
   "cell_type": "markdown",
   "metadata": {},
   "source": [
    "Instantiating grid search for SFS"
   ]
  },
  {
   "cell_type": "code",
   "execution_count": 169,
   "metadata": {},
   "outputs": [],
   "source": [
    "lnreg_sfs_selector = GridSearchCV(estimator=lnreg_sfs,param_grid=params)"
   ]
  },
  {
   "cell_type": "markdown",
   "metadata": {},
   "source": [
    "Performing grid search for SFS"
   ]
  },
  {
   "cell_type": "code",
   "execution_count": 170,
   "metadata": {},
   "outputs": [
    {
     "data": {
      "text/html": [
       "<style>#sk-container-id-7 {color: black;background-color: white;}#sk-container-id-7 pre{padding: 0;}#sk-container-id-7 div.sk-toggleable {background-color: white;}#sk-container-id-7 label.sk-toggleable__label {cursor: pointer;display: block;width: 100%;margin-bottom: 0;padding: 0.3em;box-sizing: border-box;text-align: center;}#sk-container-id-7 label.sk-toggleable__label-arrow:before {content: \"▸\";float: left;margin-right: 0.25em;color: #696969;}#sk-container-id-7 label.sk-toggleable__label-arrow:hover:before {color: black;}#sk-container-id-7 div.sk-estimator:hover label.sk-toggleable__label-arrow:before {color: black;}#sk-container-id-7 div.sk-toggleable__content {max-height: 0;max-width: 0;overflow: hidden;text-align: left;background-color: #f0f8ff;}#sk-container-id-7 div.sk-toggleable__content pre {margin: 0.2em;color: black;border-radius: 0.25em;background-color: #f0f8ff;}#sk-container-id-7 input.sk-toggleable__control:checked~div.sk-toggleable__content {max-height: 200px;max-width: 100%;overflow: auto;}#sk-container-id-7 input.sk-toggleable__control:checked~label.sk-toggleable__label-arrow:before {content: \"▾\";}#sk-container-id-7 div.sk-estimator input.sk-toggleable__control:checked~label.sk-toggleable__label {background-color: #d4ebff;}#sk-container-id-7 div.sk-label input.sk-toggleable__control:checked~label.sk-toggleable__label {background-color: #d4ebff;}#sk-container-id-7 input.sk-hidden--visually {border: 0;clip: rect(1px 1px 1px 1px);clip: rect(1px, 1px, 1px, 1px);height: 1px;margin: -1px;overflow: hidden;padding: 0;position: absolute;width: 1px;}#sk-container-id-7 div.sk-estimator {font-family: monospace;background-color: #f0f8ff;border: 1px dotted black;border-radius: 0.25em;box-sizing: border-box;margin-bottom: 0.5em;}#sk-container-id-7 div.sk-estimator:hover {background-color: #d4ebff;}#sk-container-id-7 div.sk-parallel-item::after {content: \"\";width: 100%;border-bottom: 1px solid gray;flex-grow: 1;}#sk-container-id-7 div.sk-label:hover label.sk-toggleable__label {background-color: #d4ebff;}#sk-container-id-7 div.sk-serial::before {content: \"\";position: absolute;border-left: 1px solid gray;box-sizing: border-box;top: 0;bottom: 0;left: 50%;z-index: 0;}#sk-container-id-7 div.sk-serial {display: flex;flex-direction: column;align-items: center;background-color: white;padding-right: 0.2em;padding-left: 0.2em;position: relative;}#sk-container-id-7 div.sk-item {position: relative;z-index: 1;}#sk-container-id-7 div.sk-parallel {display: flex;align-items: stretch;justify-content: center;background-color: white;position: relative;}#sk-container-id-7 div.sk-item::before, #sk-container-id-7 div.sk-parallel-item::before {content: \"\";position: absolute;border-left: 1px solid gray;box-sizing: border-box;top: 0;bottom: 0;left: 50%;z-index: -1;}#sk-container-id-7 div.sk-parallel-item {display: flex;flex-direction: column;z-index: 1;position: relative;background-color: white;}#sk-container-id-7 div.sk-parallel-item:first-child::after {align-self: flex-end;width: 50%;}#sk-container-id-7 div.sk-parallel-item:last-child::after {align-self: flex-start;width: 50%;}#sk-container-id-7 div.sk-parallel-item:only-child::after {width: 0;}#sk-container-id-7 div.sk-dashed-wrapped {border: 1px dashed gray;margin: 0 0.4em 0.5em 0.4em;box-sizing: border-box;padding-bottom: 0.4em;background-color: white;}#sk-container-id-7 div.sk-label label {font-family: monospace;font-weight: bold;display: inline-block;line-height: 1.2em;}#sk-container-id-7 div.sk-label-container {text-align: center;}#sk-container-id-7 div.sk-container {/* jupyter's `normalize.less` sets `[hidden] { display: none; }` but bootstrap.min.css set `[hidden] { display: none !important; }` so we also need the `!important` here to be able to override the default hidden behavior on the sphinx rendered scikit-learn.org. See: https://github.com/scikit-learn/scikit-learn/issues/21755 */display: inline-block !important;position: relative;}#sk-container-id-7 div.sk-text-repr-fallback {display: none;}</style><div id=\"sk-container-id-7\" class=\"sk-top-container\"><div class=\"sk-text-repr-fallback\"><pre>GridSearchCV(estimator=Pipeline(steps=[(&#x27;selector&#x27;,\n",
       "                                        SequentialFeatureSelector(estimator=LinearRegression())),\n",
       "                                       (&#x27;model&#x27;, LinearRegression())]),\n",
       "             param_grid={&#x27;selector__n_features_to_select&#x27;: [5, 10, 15]})</pre><b>In a Jupyter environment, please rerun this cell to show the HTML representation or trust the notebook. <br />On GitHub, the HTML representation is unable to render, please try loading this page with nbviewer.org.</b></div><div class=\"sk-container\" hidden><div class=\"sk-item sk-dashed-wrapped\"><div class=\"sk-label-container\"><div class=\"sk-label sk-toggleable\"><input class=\"sk-toggleable__control sk-hidden--visually\" id=\"sk-estimator-id-34\" type=\"checkbox\" ><label for=\"sk-estimator-id-34\" class=\"sk-toggleable__label sk-toggleable__label-arrow\">GridSearchCV</label><div class=\"sk-toggleable__content\"><pre>GridSearchCV(estimator=Pipeline(steps=[(&#x27;selector&#x27;,\n",
       "                                        SequentialFeatureSelector(estimator=LinearRegression())),\n",
       "                                       (&#x27;model&#x27;, LinearRegression())]),\n",
       "             param_grid={&#x27;selector__n_features_to_select&#x27;: [5, 10, 15]})</pre></div></div></div><div class=\"sk-parallel\"><div class=\"sk-parallel-item\"><div class=\"sk-item\"><div class=\"sk-label-container\"><div class=\"sk-label sk-toggleable\"><input class=\"sk-toggleable__control sk-hidden--visually\" id=\"sk-estimator-id-35\" type=\"checkbox\" ><label for=\"sk-estimator-id-35\" class=\"sk-toggleable__label sk-toggleable__label-arrow\">estimator: Pipeline</label><div class=\"sk-toggleable__content\"><pre>Pipeline(steps=[(&#x27;selector&#x27;,\n",
       "                 SequentialFeatureSelector(estimator=LinearRegression())),\n",
       "                (&#x27;model&#x27;, LinearRegression())])</pre></div></div></div><div class=\"sk-serial\"><div class=\"sk-item\"><div class=\"sk-serial\"><div class=\"sk-item sk-dashed-wrapped\"><div class=\"sk-label-container\"><div class=\"sk-label sk-toggleable\"><input class=\"sk-toggleable__control sk-hidden--visually\" id=\"sk-estimator-id-36\" type=\"checkbox\" ><label for=\"sk-estimator-id-36\" class=\"sk-toggleable__label sk-toggleable__label-arrow\">selector: SequentialFeatureSelector</label><div class=\"sk-toggleable__content\"><pre>SequentialFeatureSelector(estimator=LinearRegression())</pre></div></div></div><div class=\"sk-parallel\"><div class=\"sk-parallel-item\"><div class=\"sk-item\"><div class=\"sk-label-container\"><div class=\"sk-label sk-toggleable\"><input class=\"sk-toggleable__control sk-hidden--visually\" id=\"sk-estimator-id-37\" type=\"checkbox\" ><label for=\"sk-estimator-id-37\" class=\"sk-toggleable__label sk-toggleable__label-arrow\">estimator: LinearRegression</label><div class=\"sk-toggleable__content\"><pre>LinearRegression()</pre></div></div></div><div class=\"sk-serial\"><div class=\"sk-item\"><div class=\"sk-estimator sk-toggleable\"><input class=\"sk-toggleable__control sk-hidden--visually\" id=\"sk-estimator-id-38\" type=\"checkbox\" ><label for=\"sk-estimator-id-38\" class=\"sk-toggleable__label sk-toggleable__label-arrow\">LinearRegression</label><div class=\"sk-toggleable__content\"><pre>LinearRegression()</pre></div></div></div></div></div></div></div></div><div class=\"sk-item\"><div class=\"sk-estimator sk-toggleable\"><input class=\"sk-toggleable__control sk-hidden--visually\" id=\"sk-estimator-id-39\" type=\"checkbox\" ><label for=\"sk-estimator-id-39\" class=\"sk-toggleable__label sk-toggleable__label-arrow\">LinearRegression</label><div class=\"sk-toggleable__content\"><pre>LinearRegression()</pre></div></div></div></div></div></div></div></div></div></div></div></div>"
      ],
      "text/plain": [
       "GridSearchCV(estimator=Pipeline(steps=[('selector',\n",
       "                                        SequentialFeatureSelector(estimator=LinearRegression())),\n",
       "                                       ('model', LinearRegression())]),\n",
       "             param_grid={'selector__n_features_to_select': [5, 10, 15]})"
      ]
     },
     "execution_count": 170,
     "metadata": {},
     "output_type": "execute_result"
    }
   ],
   "source": [
    "lnreg_sfs_selector.fit(X_train,y_train)"
   ]
  },
  {
   "cell_type": "markdown",
   "metadata": {},
   "source": [
    "Identifying the best hyperparameters from the grid search"
   ]
  },
  {
   "cell_type": "code",
   "execution_count": 177,
   "metadata": {},
   "outputs": [
    {
     "data": {
      "text/plain": [
       "{'selector__n_features_to_select': 15}"
      ]
     },
     "execution_count": 177,
     "metadata": {},
     "output_type": "execute_result"
    }
   ],
   "source": [
    "lnreg_sfs_selector.best_params_"
   ]
  },
  {
   "cell_type": "markdown",
   "metadata": {},
   "source": [
    "Getting selected features"
   ]
  },
  {
   "cell_type": "code",
   "execution_count": 178,
   "metadata": {},
   "outputs": [
    {
     "data": {
      "text/plain": [
       "['condition',\n",
       " 'brand_eur',\n",
       " 'brand_kor',\n",
       " 'fuel_diesel',\n",
       " 'fuel_gas',\n",
       " 'title_clean',\n",
       " 'transmission_other',\n",
       " 'type_hatchback',\n",
       " 'type_mini-van',\n",
       " 'type_pickup',\n",
       " 'type_sedan',\n",
       " 'type_truck',\n",
       " 'type_wagon',\n",
       " 'age',\n",
       " 'odometer']"
      ]
     },
     "execution_count": 178,
     "metadata": {},
     "output_type": "execute_result"
    }
   ],
   "source": [
    "lnreg_sfs_features = lnreg_sfs_selector.best_estimator_.named_steps['selector'].get_feature_names_out().tolist()\n",
    "lnreg_sfs_features"
   ]
  },
  {
   "cell_type": "markdown",
   "metadata": {},
   "source": [
    "Getting predictions with SFS features for performance evaluation"
   ]
  },
  {
   "cell_type": "code",
   "execution_count": 273,
   "metadata": {},
   "outputs": [],
   "source": [
    "lnreg_sfs_pred = LinearRegression().fit(X_train[lnreg_sfs_features],y_train).predict(X_test[lnreg_sfs_features])"
   ]
  },
  {
   "cell_type": "markdown",
   "metadata": {},
   "source": [
    "Evaluating **RMSE** for best model with **SFS** selected features"
   ]
  },
  {
   "cell_type": "code",
   "execution_count": 277,
   "metadata": {},
   "outputs": [
    {
     "name": "stdout",
     "output_type": "stream",
     "text": [
      "SFS: 0.2289922933454857\n",
      "ALL: 0.22822941295441865\n"
     ]
    }
   ],
   "source": [
    "print(f'SFS: {np.sqrt(mean_squared_error(y_test,lnreg_sfs_pred))}\\nALL: {lnreg_rmse}')"
   ]
  },
  {
   "cell_type": "markdown",
   "metadata": {},
   "source": [
    "Evaluating **MAE** for best model with **SFS** selected features"
   ]
  },
  {
   "cell_type": "code",
   "execution_count": 278,
   "metadata": {},
   "outputs": [
    {
     "name": "stdout",
     "output_type": "stream",
     "text": [
      "SFS: 0.1679528992604797\n",
      "ALL: 0.1671305057720717\n"
     ]
    }
   ],
   "source": [
    "print(f'SFS: {mean_absolute_error(y_test,lnreg_sfs_pred)}\\nALL: {lnreg_mae}')"
   ]
  },
  {
   "cell_type": "markdown",
   "metadata": {},
   "source": [
    "### 3. Ridge Regression Modeling"
   ]
  },
  {
   "cell_type": "markdown",
   "metadata": {},
   "source": [
    "Instantiating Ridge Regression model pipeline. FeatureEngineering and TransformedTargetRegressor were omitted and pre-run on the data set due to lengthy processing time"
   ]
  },
  {
   "cell_type": "code",
   "execution_count": 189,
   "metadata": {},
   "outputs": [],
   "source": [
    "#ridge_model = Pipeline([('feateng',FeatureEngineering),\n",
    "#                        ('polyfeat',PolynomialFeatures(include_bias=False)),\n",
    "#                        ('ridge',TransformedTargetRegressor(\\\n",
    "#                                                            regressor=Ridge(),\n",
    "#                                                            func=np.log10, \n",
    "#                                                            inverse_func=sp.special.exp10),\n",
    "#                        ('ridge',Ridge()),\n",
    "#                       ])\n",
    "\n",
    "ridge_pipe = Pipeline([('polyfeat',PolynomialFeatures(include_bias=False)),\n",
    "                       ('ridge',Ridge()),\n",
    "                      ])"
   ]
  },
  {
   "cell_type": "markdown",
   "metadata": {},
   "source": [
    "Instantiating GridSearch for Ridge Regression model"
   ]
  },
  {
   "cell_type": "code",
   "execution_count": 298,
   "metadata": {},
   "outputs": [],
   "source": [
    "params = {'polyfeat__degree':[1,2],'ridge__alpha':[0.001, 0.01, 0.1, 1, 10, 100, 1000]}\n",
    "ridge_selector = GridSearchCV(estimator=ridge_pipe,\n",
    "                                    param_grid=params,\n",
    "                                    scoring='neg_mean_squared_error',\n",
    "                                    cv=ShuffleSplit(n_splits=2, test_size=0.8, random_state=42))"
   ]
  },
  {
   "cell_type": "markdown",
   "metadata": {},
   "source": [
    "Performing grid search for the best model hyperparameters"
   ]
  },
  {
   "cell_type": "code",
   "execution_count": 299,
   "metadata": {},
   "outputs": [
    {
     "data": {
      "text/html": [
       "<style>#sk-container-id-13 {color: black;background-color: white;}#sk-container-id-13 pre{padding: 0;}#sk-container-id-13 div.sk-toggleable {background-color: white;}#sk-container-id-13 label.sk-toggleable__label {cursor: pointer;display: block;width: 100%;margin-bottom: 0;padding: 0.3em;box-sizing: border-box;text-align: center;}#sk-container-id-13 label.sk-toggleable__label-arrow:before {content: \"▸\";float: left;margin-right: 0.25em;color: #696969;}#sk-container-id-13 label.sk-toggleable__label-arrow:hover:before {color: black;}#sk-container-id-13 div.sk-estimator:hover label.sk-toggleable__label-arrow:before {color: black;}#sk-container-id-13 div.sk-toggleable__content {max-height: 0;max-width: 0;overflow: hidden;text-align: left;background-color: #f0f8ff;}#sk-container-id-13 div.sk-toggleable__content pre {margin: 0.2em;color: black;border-radius: 0.25em;background-color: #f0f8ff;}#sk-container-id-13 input.sk-toggleable__control:checked~div.sk-toggleable__content {max-height: 200px;max-width: 100%;overflow: auto;}#sk-container-id-13 input.sk-toggleable__control:checked~label.sk-toggleable__label-arrow:before {content: \"▾\";}#sk-container-id-13 div.sk-estimator input.sk-toggleable__control:checked~label.sk-toggleable__label {background-color: #d4ebff;}#sk-container-id-13 div.sk-label input.sk-toggleable__control:checked~label.sk-toggleable__label {background-color: #d4ebff;}#sk-container-id-13 input.sk-hidden--visually {border: 0;clip: rect(1px 1px 1px 1px);clip: rect(1px, 1px, 1px, 1px);height: 1px;margin: -1px;overflow: hidden;padding: 0;position: absolute;width: 1px;}#sk-container-id-13 div.sk-estimator {font-family: monospace;background-color: #f0f8ff;border: 1px dotted black;border-radius: 0.25em;box-sizing: border-box;margin-bottom: 0.5em;}#sk-container-id-13 div.sk-estimator:hover {background-color: #d4ebff;}#sk-container-id-13 div.sk-parallel-item::after {content: \"\";width: 100%;border-bottom: 1px solid gray;flex-grow: 1;}#sk-container-id-13 div.sk-label:hover label.sk-toggleable__label {background-color: #d4ebff;}#sk-container-id-13 div.sk-serial::before {content: \"\";position: absolute;border-left: 1px solid gray;box-sizing: border-box;top: 0;bottom: 0;left: 50%;z-index: 0;}#sk-container-id-13 div.sk-serial {display: flex;flex-direction: column;align-items: center;background-color: white;padding-right: 0.2em;padding-left: 0.2em;position: relative;}#sk-container-id-13 div.sk-item {position: relative;z-index: 1;}#sk-container-id-13 div.sk-parallel {display: flex;align-items: stretch;justify-content: center;background-color: white;position: relative;}#sk-container-id-13 div.sk-item::before, #sk-container-id-13 div.sk-parallel-item::before {content: \"\";position: absolute;border-left: 1px solid gray;box-sizing: border-box;top: 0;bottom: 0;left: 50%;z-index: -1;}#sk-container-id-13 div.sk-parallel-item {display: flex;flex-direction: column;z-index: 1;position: relative;background-color: white;}#sk-container-id-13 div.sk-parallel-item:first-child::after {align-self: flex-end;width: 50%;}#sk-container-id-13 div.sk-parallel-item:last-child::after {align-self: flex-start;width: 50%;}#sk-container-id-13 div.sk-parallel-item:only-child::after {width: 0;}#sk-container-id-13 div.sk-dashed-wrapped {border: 1px dashed gray;margin: 0 0.4em 0.5em 0.4em;box-sizing: border-box;padding-bottom: 0.4em;background-color: white;}#sk-container-id-13 div.sk-label label {font-family: monospace;font-weight: bold;display: inline-block;line-height: 1.2em;}#sk-container-id-13 div.sk-label-container {text-align: center;}#sk-container-id-13 div.sk-container {/* jupyter's `normalize.less` sets `[hidden] { display: none; }` but bootstrap.min.css set `[hidden] { display: none !important; }` so we also need the `!important` here to be able to override the default hidden behavior on the sphinx rendered scikit-learn.org. See: https://github.com/scikit-learn/scikit-learn/issues/21755 */display: inline-block !important;position: relative;}#sk-container-id-13 div.sk-text-repr-fallback {display: none;}</style><div id=\"sk-container-id-13\" class=\"sk-top-container\"><div class=\"sk-text-repr-fallback\"><pre>GridSearchCV(cv=ShuffleSplit(n_splits=2, random_state=42, test_size=0.8, train_size=None),\n",
       "             estimator=Pipeline(steps=[(&#x27;polyfeat&#x27;,\n",
       "                                        PolynomialFeatures(include_bias=False)),\n",
       "                                       (&#x27;ridge&#x27;, Ridge())]),\n",
       "             param_grid={&#x27;polyfeat__degree&#x27;: [1, 2],\n",
       "                         &#x27;ridge__alpha&#x27;: [0.001, 0.01, 0.1, 1, 10, 100, 1000]},\n",
       "             scoring=&#x27;neg_mean_squared_error&#x27;)</pre><b>In a Jupyter environment, please rerun this cell to show the HTML representation or trust the notebook. <br />On GitHub, the HTML representation is unable to render, please try loading this page with nbviewer.org.</b></div><div class=\"sk-container\" hidden><div class=\"sk-item sk-dashed-wrapped\"><div class=\"sk-label-container\"><div class=\"sk-label sk-toggleable\"><input class=\"sk-toggleable__control sk-hidden--visually\" id=\"sk-estimator-id-64\" type=\"checkbox\" ><label for=\"sk-estimator-id-64\" class=\"sk-toggleable__label sk-toggleable__label-arrow\">GridSearchCV</label><div class=\"sk-toggleable__content\"><pre>GridSearchCV(cv=ShuffleSplit(n_splits=2, random_state=42, test_size=0.8, train_size=None),\n",
       "             estimator=Pipeline(steps=[(&#x27;polyfeat&#x27;,\n",
       "                                        PolynomialFeatures(include_bias=False)),\n",
       "                                       (&#x27;ridge&#x27;, Ridge())]),\n",
       "             param_grid={&#x27;polyfeat__degree&#x27;: [1, 2],\n",
       "                         &#x27;ridge__alpha&#x27;: [0.001, 0.01, 0.1, 1, 10, 100, 1000]},\n",
       "             scoring=&#x27;neg_mean_squared_error&#x27;)</pre></div></div></div><div class=\"sk-parallel\"><div class=\"sk-parallel-item\"><div class=\"sk-item\"><div class=\"sk-label-container\"><div class=\"sk-label sk-toggleable\"><input class=\"sk-toggleable__control sk-hidden--visually\" id=\"sk-estimator-id-65\" type=\"checkbox\" ><label for=\"sk-estimator-id-65\" class=\"sk-toggleable__label sk-toggleable__label-arrow\">estimator: Pipeline</label><div class=\"sk-toggleable__content\"><pre>Pipeline(steps=[(&#x27;polyfeat&#x27;, PolynomialFeatures(include_bias=False)),\n",
       "                (&#x27;ridge&#x27;, Ridge())])</pre></div></div></div><div class=\"sk-serial\"><div class=\"sk-item\"><div class=\"sk-serial\"><div class=\"sk-item\"><div class=\"sk-estimator sk-toggleable\"><input class=\"sk-toggleable__control sk-hidden--visually\" id=\"sk-estimator-id-66\" type=\"checkbox\" ><label for=\"sk-estimator-id-66\" class=\"sk-toggleable__label sk-toggleable__label-arrow\">PolynomialFeatures</label><div class=\"sk-toggleable__content\"><pre>PolynomialFeatures(include_bias=False)</pre></div></div></div><div class=\"sk-item\"><div class=\"sk-estimator sk-toggleable\"><input class=\"sk-toggleable__control sk-hidden--visually\" id=\"sk-estimator-id-67\" type=\"checkbox\" ><label for=\"sk-estimator-id-67\" class=\"sk-toggleable__label sk-toggleable__label-arrow\">Ridge</label><div class=\"sk-toggleable__content\"><pre>Ridge()</pre></div></div></div></div></div></div></div></div></div></div></div></div>"
      ],
      "text/plain": [
       "GridSearchCV(cv=ShuffleSplit(n_splits=2, random_state=42, test_size=0.8, train_size=None),\n",
       "             estimator=Pipeline(steps=[('polyfeat',\n",
       "                                        PolynomialFeatures(include_bias=False)),\n",
       "                                       ('ridge', Ridge())]),\n",
       "             param_grid={'polyfeat__degree': [1, 2],\n",
       "                         'ridge__alpha': [0.001, 0.01, 0.1, 1, 10, 100, 1000]},\n",
       "             scoring='neg_mean_squared_error')"
      ]
     },
     "execution_count": 299,
     "metadata": {},
     "output_type": "execute_result"
    }
   ],
   "source": [
    "ridge_selector.fit(X_train, y_train)"
   ]
  },
  {
   "cell_type": "markdown",
   "metadata": {},
   "source": [
    "Selecting best model"
   ]
  },
  {
   "cell_type": "code",
   "execution_count": 300,
   "metadata": {},
   "outputs": [],
   "source": [
    "ridge_model = ridge_selector.best_estimator_"
   ]
  },
  {
   "cell_type": "markdown",
   "metadata": {},
   "source": [
    "Identifying the best hyperparameters from the grid search"
   ]
  },
  {
   "cell_type": "code",
   "execution_count": 301,
   "metadata": {},
   "outputs": [
    {
     "data": {
      "text/plain": [
       "{'polyfeat__degree': 2, 'ridge__alpha': 10}"
      ]
     },
     "execution_count": 301,
     "metadata": {},
     "output_type": "execute_result"
    }
   ],
   "source": [
    "ridge_params = ridge_selector.best_params_\n",
    "ridge_params"
   ]
  },
  {
   "cell_type": "markdown",
   "metadata": {},
   "source": [
    "Getting best model coefficients. Updated for module pipeline without FE & TTR"
   ]
  },
  {
   "cell_type": "code",
   "execution_count": 314,
   "metadata": {},
   "outputs": [
    {
     "data": {
      "text/html": [
       "<div>\n",
       "<style scoped>\n",
       "    .dataframe tbody tr th:only-of-type {\n",
       "        vertical-align: middle;\n",
       "    }\n",
       "\n",
       "    .dataframe tbody tr th {\n",
       "        vertical-align: top;\n",
       "    }\n",
       "\n",
       "    .dataframe thead th {\n",
       "        text-align: right;\n",
       "    }\n",
       "</style>\n",
       "<table border=\"1\" class=\"dataframe\">\n",
       "  <thead>\n",
       "    <tr style=\"text-align: right;\">\n",
       "      <th></th>\n",
       "      <th>COEF</th>\n",
       "    </tr>\n",
       "  </thead>\n",
       "  <tbody>\n",
       "    <tr>\n",
       "      <th>transmission_manual type_van</th>\n",
       "      <td>0.177918</td>\n",
       "    </tr>\n",
       "    <tr>\n",
       "      <th>brand_eur type_bus</th>\n",
       "      <td>0.145549</td>\n",
       "    </tr>\n",
       "    <tr>\n",
       "      <th>fuel_diesel type_mini-van</th>\n",
       "      <td>0.135854</td>\n",
       "    </tr>\n",
       "    <tr>\n",
       "      <th>fuel_other title_clean</th>\n",
       "      <td>0.119895</td>\n",
       "    </tr>\n",
       "    <tr>\n",
       "      <th>fuel_diesel title_missing</th>\n",
       "      <td>0.113540</td>\n",
       "    </tr>\n",
       "    <tr>\n",
       "      <th>fuel_electric type_sedan</th>\n",
       "      <td>0.110930</td>\n",
       "    </tr>\n",
       "    <tr>\n",
       "      <th>fuel_electric type_SUV</th>\n",
       "      <td>0.095762</td>\n",
       "    </tr>\n",
       "    <tr>\n",
       "      <th>fuel_gas type_bus</th>\n",
       "      <td>0.090110</td>\n",
       "    </tr>\n",
       "    <tr>\n",
       "      <th>fuel_diesel type_van</th>\n",
       "      <td>0.087377</td>\n",
       "    </tr>\n",
       "    <tr>\n",
       "      <th>brand_usa fuel_electric</th>\n",
       "      <td>0.085733</td>\n",
       "    </tr>\n",
       "    <tr>\n",
       "      <th>fuel_diesel transmission_manual</th>\n",
       "      <td>0.085079</td>\n",
       "    </tr>\n",
       "    <tr>\n",
       "      <th>fuel_other type_coupe</th>\n",
       "      <td>0.084807</td>\n",
       "    </tr>\n",
       "    <tr>\n",
       "      <th>fuel_hybrid type_convertible</th>\n",
       "      <td>0.084029</td>\n",
       "    </tr>\n",
       "    <tr>\n",
       "      <th>brand_eur type_van</th>\n",
       "      <td>0.079017</td>\n",
       "    </tr>\n",
       "    <tr>\n",
       "      <th>title_clean type_other</th>\n",
       "      <td>0.076102</td>\n",
       "    </tr>\n",
       "    <tr>\n",
       "      <th>title_clean transmission_other</th>\n",
       "      <td>0.075061</td>\n",
       "    </tr>\n",
       "    <tr>\n",
       "      <th>transmission_automatic type_truck</th>\n",
       "      <td>0.073435</td>\n",
       "    </tr>\n",
       "    <tr>\n",
       "      <th>fuel_gas type_coupe</th>\n",
       "      <td>0.072186</td>\n",
       "    </tr>\n",
       "    <tr>\n",
       "      <th>fuel_electric title_rebuilt</th>\n",
       "      <td>0.070629</td>\n",
       "    </tr>\n",
       "    <tr>\n",
       "      <th>transmission_automatic type_pickup</th>\n",
       "      <td>0.070214</td>\n",
       "    </tr>\n",
       "  </tbody>\n",
       "</table>\n",
       "</div>"
      ],
      "text/plain": [
       "                                        COEF\n",
       "transmission_manual type_van        0.177918\n",
       "brand_eur type_bus                  0.145549\n",
       "fuel_diesel type_mini-van           0.135854\n",
       "fuel_other title_clean              0.119895\n",
       "fuel_diesel title_missing           0.113540\n",
       "fuel_electric type_sedan            0.110930\n",
       "fuel_electric type_SUV              0.095762\n",
       "fuel_gas type_bus                   0.090110\n",
       "fuel_diesel type_van                0.087377\n",
       "brand_usa fuel_electric             0.085733\n",
       "fuel_diesel transmission_manual     0.085079\n",
       "fuel_other type_coupe               0.084807\n",
       "fuel_hybrid type_convertible        0.084029\n",
       "brand_eur type_van                  0.079017\n",
       "title_clean type_other              0.076102\n",
       "title_clean transmission_other      0.075061\n",
       "transmission_automatic type_truck   0.073435\n",
       "fuel_gas type_coupe                 0.072186\n",
       "fuel_electric title_rebuilt         0.070629\n",
       "transmission_automatic type_pickup  0.070214"
      ]
     },
     "execution_count": 314,
     "metadata": {},
     "output_type": "execute_result"
    }
   ],
   "source": [
    "#ridge_coefs = pd.DataFrame(ridge_model.named_steps['ridge'].regressor_.coef_,\n",
    "#                           index=[ridge_model.named_steps['polyfeat'].get_feature_names_out()],\n",
    "#                           columns=['COEF']).sort_values(by=['COEF'], ascending=False)\n",
    "\n",
    "ridge_coefs = pd.DataFrame(ridge_model.named_steps['ridge'].coef_, \n",
    "                           index=[ridge_model.named_steps['polyfeat'].get_feature_names_out()],\n",
    "                           columns=['COEF'])\n",
    "ridge_coefs.sort_values(by=['COEF'], ascending=False).head(20)"
   ]
  },
  {
   "cell_type": "markdown",
   "metadata": {},
   "source": [
    "Evaluating the best model **R2 score**"
   ]
  },
  {
   "cell_type": "code",
   "execution_count": 311,
   "metadata": {},
   "outputs": [
    {
     "data": {
      "text/plain": [
       "0.7300297300189158"
      ]
     },
     "execution_count": 311,
     "metadata": {},
     "output_type": "execute_result"
    }
   ],
   "source": [
    "ridge_r2 = ridge_model.score(X_test, y_test)\n",
    "ridge_r2"
   ]
  },
  {
   "cell_type": "markdown",
   "metadata": {},
   "source": [
    "Evaluating the best model **RMSE**"
   ]
  },
  {
   "cell_type": "code",
   "execution_count": 304,
   "metadata": {},
   "outputs": [
    {
     "data": {
      "text/plain": [
       "0.18788472441678095"
      ]
     },
     "execution_count": 304,
     "metadata": {},
     "output_type": "execute_result"
    }
   ],
   "source": [
    "ridge_rmse = np.sqrt(mean_squared_error(y_test,ridge_model.predict(X_test)))\n",
    "ridge_rmse"
   ]
  },
  {
   "cell_type": "markdown",
   "metadata": {},
   "source": [
    "Evaluating the best model **MAE**"
   ]
  },
  {
   "cell_type": "code",
   "execution_count": 305,
   "metadata": {},
   "outputs": [
    {
     "data": {
      "text/plain": [
       "0.12957812951092512"
      ]
     },
     "execution_count": 305,
     "metadata": {},
     "output_type": "execute_result"
    }
   ],
   "source": [
    "ridge_mae = mean_absolute_error(y_test,ridge_model.predict(X_test))\n",
    "ridge_mae"
   ]
  },
  {
   "cell_type": "markdown",
   "metadata": {},
   "source": [
    "Evaluating **Feature Permutation Importance**"
   ]
  },
  {
   "cell_type": "code",
   "execution_count": 307,
   "metadata": {},
   "outputs": [],
   "source": [
    "ridge_fpi = permutation_importance(ridge_model, X_train, y_train, n_repeats=25, random_state=42)"
   ]
  },
  {
   "cell_type": "code",
   "execution_count": 308,
   "metadata": {},
   "outputs": [
    {
     "data": {
      "text/html": [
       "<div>\n",
       "<style scoped>\n",
       "    .dataframe tbody tr th:only-of-type {\n",
       "        vertical-align: middle;\n",
       "    }\n",
       "\n",
       "    .dataframe tbody tr th {\n",
       "        vertical-align: top;\n",
       "    }\n",
       "\n",
       "    .dataframe thead th {\n",
       "        text-align: right;\n",
       "    }\n",
       "</style>\n",
       "<table border=\"1\" class=\"dataframe\">\n",
       "  <thead>\n",
       "    <tr style=\"text-align: right;\">\n",
       "      <th></th>\n",
       "      <th>MEAN</th>\n",
       "      <th>STD</th>\n",
       "    </tr>\n",
       "  </thead>\n",
       "  <tbody>\n",
       "    <tr>\n",
       "      <th>age</th>\n",
       "      <td>0.357171</td>\n",
       "      <td>0.001574</td>\n",
       "    </tr>\n",
       "    <tr>\n",
       "      <th>odometer</th>\n",
       "      <td>0.271830</td>\n",
       "      <td>0.001227</td>\n",
       "    </tr>\n",
       "    <tr>\n",
       "      <th>type_sedan</th>\n",
       "      <td>0.080343</td>\n",
       "      <td>0.000691</td>\n",
       "    </tr>\n",
       "    <tr>\n",
       "      <th>type_truck</th>\n",
       "      <td>0.049666</td>\n",
       "      <td>0.000385</td>\n",
       "    </tr>\n",
       "    <tr>\n",
       "      <th>type_hatchback</th>\n",
       "      <td>0.033371</td>\n",
       "      <td>0.000311</td>\n",
       "    </tr>\n",
       "    <tr>\n",
       "      <th>transmission_automatic</th>\n",
       "      <td>0.029586</td>\n",
       "      <td>0.000601</td>\n",
       "    </tr>\n",
       "    <tr>\n",
       "      <th>type_pickup</th>\n",
       "      <td>0.029300</td>\n",
       "      <td>0.000401</td>\n",
       "    </tr>\n",
       "    <tr>\n",
       "      <th>condition</th>\n",
       "      <td>0.020377</td>\n",
       "      <td>0.000285</td>\n",
       "    </tr>\n",
       "    <tr>\n",
       "      <th>title_clean</th>\n",
       "      <td>0.019242</td>\n",
       "      <td>0.000291</td>\n",
       "    </tr>\n",
       "    <tr>\n",
       "      <th>fuel_diesel</th>\n",
       "      <td>0.017042</td>\n",
       "      <td>0.000204</td>\n",
       "    </tr>\n",
       "    <tr>\n",
       "      <th>fuel_gas</th>\n",
       "      <td>0.015317</td>\n",
       "      <td>0.000334</td>\n",
       "    </tr>\n",
       "    <tr>\n",
       "      <th>brand_eur</th>\n",
       "      <td>0.014438</td>\n",
       "      <td>0.000231</td>\n",
       "    </tr>\n",
       "    <tr>\n",
       "      <th>transmission_manual</th>\n",
       "      <td>0.011899</td>\n",
       "      <td>0.000244</td>\n",
       "    </tr>\n",
       "    <tr>\n",
       "      <th>transmission_other</th>\n",
       "      <td>0.011309</td>\n",
       "      <td>0.000202</td>\n",
       "    </tr>\n",
       "    <tr>\n",
       "      <th>type_coupe</th>\n",
       "      <td>0.010468</td>\n",
       "      <td>0.000254</td>\n",
       "    </tr>\n",
       "    <tr>\n",
       "      <th>brand_usa</th>\n",
       "      <td>0.009881</td>\n",
       "      <td>0.000203</td>\n",
       "    </tr>\n",
       "    <tr>\n",
       "      <th>type_mini-van</th>\n",
       "      <td>0.008826</td>\n",
       "      <td>0.000435</td>\n",
       "    </tr>\n",
       "    <tr>\n",
       "      <th>brand_kor</th>\n",
       "      <td>0.008600</td>\n",
       "      <td>0.000277</td>\n",
       "    </tr>\n",
       "    <tr>\n",
       "      <th>type_wagon</th>\n",
       "      <td>0.004299</td>\n",
       "      <td>0.000121</td>\n",
       "    </tr>\n",
       "    <tr>\n",
       "      <th>type_SUV</th>\n",
       "      <td>0.003692</td>\n",
       "      <td>0.000180</td>\n",
       "    </tr>\n",
       "    <tr>\n",
       "      <th>fuel_other</th>\n",
       "      <td>0.003319</td>\n",
       "      <td>0.000162</td>\n",
       "    </tr>\n",
       "    <tr>\n",
       "      <th>brand_jap</th>\n",
       "      <td>0.003267</td>\n",
       "      <td>0.000165</td>\n",
       "    </tr>\n",
       "    <tr>\n",
       "      <th>type_convertible</th>\n",
       "      <td>0.003013</td>\n",
       "      <td>0.000145</td>\n",
       "    </tr>\n",
       "    <tr>\n",
       "      <th>fuel_hybrid</th>\n",
       "      <td>0.002934</td>\n",
       "      <td>0.000220</td>\n",
       "    </tr>\n",
       "    <tr>\n",
       "      <th>title_lien</th>\n",
       "      <td>0.002345</td>\n",
       "      <td>0.000089</td>\n",
       "    </tr>\n",
       "    <tr>\n",
       "      <th>type_other</th>\n",
       "      <td>0.002168</td>\n",
       "      <td>0.000110</td>\n",
       "    </tr>\n",
       "    <tr>\n",
       "      <th>type_van</th>\n",
       "      <td>0.001600</td>\n",
       "      <td>0.000166</td>\n",
       "    </tr>\n",
       "    <tr>\n",
       "      <th>title_missing</th>\n",
       "      <td>0.001452</td>\n",
       "      <td>0.000071</td>\n",
       "    </tr>\n",
       "    <tr>\n",
       "      <th>title_rebuilt</th>\n",
       "      <td>0.001361</td>\n",
       "      <td>0.000055</td>\n",
       "    </tr>\n",
       "    <tr>\n",
       "      <th>fuel_electric</th>\n",
       "      <td>0.001276</td>\n",
       "      <td>0.000068</td>\n",
       "    </tr>\n",
       "    <tr>\n",
       "      <th>type_offroad</th>\n",
       "      <td>0.001247</td>\n",
       "      <td>0.000085</td>\n",
       "    </tr>\n",
       "    <tr>\n",
       "      <th>type_bus</th>\n",
       "      <td>0.000527</td>\n",
       "      <td>0.000047</td>\n",
       "    </tr>\n",
       "    <tr>\n",
       "      <th>title_parts only</th>\n",
       "      <td>0.000443</td>\n",
       "      <td>0.000031</td>\n",
       "    </tr>\n",
       "    <tr>\n",
       "      <th>title_salvage</th>\n",
       "      <td>0.000254</td>\n",
       "      <td>0.000034</td>\n",
       "    </tr>\n",
       "  </tbody>\n",
       "</table>\n",
       "</div>"
      ],
      "text/plain": [
       "                            MEAN       STD\n",
       "age                     0.357171  0.001574\n",
       "odometer                0.271830  0.001227\n",
       "type_sedan              0.080343  0.000691\n",
       "type_truck              0.049666  0.000385\n",
       "type_hatchback          0.033371  0.000311\n",
       "transmission_automatic  0.029586  0.000601\n",
       "type_pickup             0.029300  0.000401\n",
       "condition               0.020377  0.000285\n",
       "title_clean             0.019242  0.000291\n",
       "fuel_diesel             0.017042  0.000204\n",
       "fuel_gas                0.015317  0.000334\n",
       "brand_eur               0.014438  0.000231\n",
       "transmission_manual     0.011899  0.000244\n",
       "transmission_other      0.011309  0.000202\n",
       "type_coupe              0.010468  0.000254\n",
       "brand_usa               0.009881  0.000203\n",
       "type_mini-van           0.008826  0.000435\n",
       "brand_kor               0.008600  0.000277\n",
       "type_wagon              0.004299  0.000121\n",
       "type_SUV                0.003692  0.000180\n",
       "fuel_other              0.003319  0.000162\n",
       "brand_jap               0.003267  0.000165\n",
       "type_convertible        0.003013  0.000145\n",
       "fuel_hybrid             0.002934  0.000220\n",
       "title_lien              0.002345  0.000089\n",
       "type_other              0.002168  0.000110\n",
       "type_van                0.001600  0.000166\n",
       "title_missing           0.001452  0.000071\n",
       "title_rebuilt           0.001361  0.000055\n",
       "fuel_electric           0.001276  0.000068\n",
       "type_offroad            0.001247  0.000085\n",
       "type_bus                0.000527  0.000047\n",
       "title_parts only        0.000443  0.000031\n",
       "title_salvage           0.000254  0.000034"
      ]
     },
     "execution_count": 308,
     "metadata": {},
     "output_type": "execute_result"
    }
   ],
   "source": [
    "ridge_imp = pd.DataFrame({'MEAN':ridge_fpi['importances_mean'],'STD':ridge_fpi['importances_std']},\n",
    "                         index=X_train.columns)\n",
    "ridge_imp.sort_values(by=['MEAN'],ascending=False)"
   ]
  },
  {
   "cell_type": "markdown",
   "metadata": {},
   "source": [
    "Instantiating **Recursive Feature Elimination (RFE)** pipeline"
   ]
  },
  {
   "cell_type": "code",
   "execution_count": 214,
   "metadata": {},
   "outputs": [],
   "source": [
    "params = {'selector__n_features_to_select':[5,10,15,20]}\n",
    "ridge_rfe = Pipeline([('selector', RFE(estimator=Ridge(alpha=10))),\n",
    "                      ('model', Ridge(alpha=10))])"
   ]
  },
  {
   "cell_type": "markdown",
   "metadata": {},
   "source": [
    "Instantiating grid search for RFE"
   ]
  },
  {
   "cell_type": "code",
   "execution_count": 215,
   "metadata": {},
   "outputs": [],
   "source": [
    "ridge_rfe_selector = GridSearchCV(estimator=ridge_rfe,param_grid=params)"
   ]
  },
  {
   "cell_type": "markdown",
   "metadata": {},
   "source": [
    "Performing grid search for RFE"
   ]
  },
  {
   "cell_type": "code",
   "execution_count": 216,
   "metadata": {},
   "outputs": [
    {
     "data": {
      "text/html": [
       "<style>#sk-container-id-9 {color: black;background-color: white;}#sk-container-id-9 pre{padding: 0;}#sk-container-id-9 div.sk-toggleable {background-color: white;}#sk-container-id-9 label.sk-toggleable__label {cursor: pointer;display: block;width: 100%;margin-bottom: 0;padding: 0.3em;box-sizing: border-box;text-align: center;}#sk-container-id-9 label.sk-toggleable__label-arrow:before {content: \"▸\";float: left;margin-right: 0.25em;color: #696969;}#sk-container-id-9 label.sk-toggleable__label-arrow:hover:before {color: black;}#sk-container-id-9 div.sk-estimator:hover label.sk-toggleable__label-arrow:before {color: black;}#sk-container-id-9 div.sk-toggleable__content {max-height: 0;max-width: 0;overflow: hidden;text-align: left;background-color: #f0f8ff;}#sk-container-id-9 div.sk-toggleable__content pre {margin: 0.2em;color: black;border-radius: 0.25em;background-color: #f0f8ff;}#sk-container-id-9 input.sk-toggleable__control:checked~div.sk-toggleable__content {max-height: 200px;max-width: 100%;overflow: auto;}#sk-container-id-9 input.sk-toggleable__control:checked~label.sk-toggleable__label-arrow:before {content: \"▾\";}#sk-container-id-9 div.sk-estimator input.sk-toggleable__control:checked~label.sk-toggleable__label {background-color: #d4ebff;}#sk-container-id-9 div.sk-label input.sk-toggleable__control:checked~label.sk-toggleable__label {background-color: #d4ebff;}#sk-container-id-9 input.sk-hidden--visually {border: 0;clip: rect(1px 1px 1px 1px);clip: rect(1px, 1px, 1px, 1px);height: 1px;margin: -1px;overflow: hidden;padding: 0;position: absolute;width: 1px;}#sk-container-id-9 div.sk-estimator {font-family: monospace;background-color: #f0f8ff;border: 1px dotted black;border-radius: 0.25em;box-sizing: border-box;margin-bottom: 0.5em;}#sk-container-id-9 div.sk-estimator:hover {background-color: #d4ebff;}#sk-container-id-9 div.sk-parallel-item::after {content: \"\";width: 100%;border-bottom: 1px solid gray;flex-grow: 1;}#sk-container-id-9 div.sk-label:hover label.sk-toggleable__label {background-color: #d4ebff;}#sk-container-id-9 div.sk-serial::before {content: \"\";position: absolute;border-left: 1px solid gray;box-sizing: border-box;top: 0;bottom: 0;left: 50%;z-index: 0;}#sk-container-id-9 div.sk-serial {display: flex;flex-direction: column;align-items: center;background-color: white;padding-right: 0.2em;padding-left: 0.2em;position: relative;}#sk-container-id-9 div.sk-item {position: relative;z-index: 1;}#sk-container-id-9 div.sk-parallel {display: flex;align-items: stretch;justify-content: center;background-color: white;position: relative;}#sk-container-id-9 div.sk-item::before, #sk-container-id-9 div.sk-parallel-item::before {content: \"\";position: absolute;border-left: 1px solid gray;box-sizing: border-box;top: 0;bottom: 0;left: 50%;z-index: -1;}#sk-container-id-9 div.sk-parallel-item {display: flex;flex-direction: column;z-index: 1;position: relative;background-color: white;}#sk-container-id-9 div.sk-parallel-item:first-child::after {align-self: flex-end;width: 50%;}#sk-container-id-9 div.sk-parallel-item:last-child::after {align-self: flex-start;width: 50%;}#sk-container-id-9 div.sk-parallel-item:only-child::after {width: 0;}#sk-container-id-9 div.sk-dashed-wrapped {border: 1px dashed gray;margin: 0 0.4em 0.5em 0.4em;box-sizing: border-box;padding-bottom: 0.4em;background-color: white;}#sk-container-id-9 div.sk-label label {font-family: monospace;font-weight: bold;display: inline-block;line-height: 1.2em;}#sk-container-id-9 div.sk-label-container {text-align: center;}#sk-container-id-9 div.sk-container {/* jupyter's `normalize.less` sets `[hidden] { display: none; }` but bootstrap.min.css set `[hidden] { display: none !important; }` so we also need the `!important` here to be able to override the default hidden behavior on the sphinx rendered scikit-learn.org. See: https://github.com/scikit-learn/scikit-learn/issues/21755 */display: inline-block !important;position: relative;}#sk-container-id-9 div.sk-text-repr-fallback {display: none;}</style><div id=\"sk-container-id-9\" class=\"sk-top-container\"><div class=\"sk-text-repr-fallback\"><pre>GridSearchCV(estimator=Pipeline(steps=[(&#x27;selector&#x27;,\n",
       "                                        RFE(estimator=Ridge(alpha=10))),\n",
       "                                       (&#x27;model&#x27;, Ridge(alpha=10))]),\n",
       "             param_grid={&#x27;selector__n_features_to_select&#x27;: [5, 10, 15, 20]})</pre><b>In a Jupyter environment, please rerun this cell to show the HTML representation or trust the notebook. <br />On GitHub, the HTML representation is unable to render, please try loading this page with nbviewer.org.</b></div><div class=\"sk-container\" hidden><div class=\"sk-item sk-dashed-wrapped\"><div class=\"sk-label-container\"><div class=\"sk-label sk-toggleable\"><input class=\"sk-toggleable__control sk-hidden--visually\" id=\"sk-estimator-id-44\" type=\"checkbox\" ><label for=\"sk-estimator-id-44\" class=\"sk-toggleable__label sk-toggleable__label-arrow\">GridSearchCV</label><div class=\"sk-toggleable__content\"><pre>GridSearchCV(estimator=Pipeline(steps=[(&#x27;selector&#x27;,\n",
       "                                        RFE(estimator=Ridge(alpha=10))),\n",
       "                                       (&#x27;model&#x27;, Ridge(alpha=10))]),\n",
       "             param_grid={&#x27;selector__n_features_to_select&#x27;: [5, 10, 15, 20]})</pre></div></div></div><div class=\"sk-parallel\"><div class=\"sk-parallel-item\"><div class=\"sk-item\"><div class=\"sk-label-container\"><div class=\"sk-label sk-toggleable\"><input class=\"sk-toggleable__control sk-hidden--visually\" id=\"sk-estimator-id-45\" type=\"checkbox\" ><label for=\"sk-estimator-id-45\" class=\"sk-toggleable__label sk-toggleable__label-arrow\">estimator: Pipeline</label><div class=\"sk-toggleable__content\"><pre>Pipeline(steps=[(&#x27;selector&#x27;, RFE(estimator=Ridge(alpha=10))),\n",
       "                (&#x27;model&#x27;, Ridge(alpha=10))])</pre></div></div></div><div class=\"sk-serial\"><div class=\"sk-item\"><div class=\"sk-serial\"><div class=\"sk-item sk-dashed-wrapped\"><div class=\"sk-label-container\"><div class=\"sk-label sk-toggleable\"><input class=\"sk-toggleable__control sk-hidden--visually\" id=\"sk-estimator-id-46\" type=\"checkbox\" ><label for=\"sk-estimator-id-46\" class=\"sk-toggleable__label sk-toggleable__label-arrow\">selector: RFE</label><div class=\"sk-toggleable__content\"><pre>RFE(estimator=Ridge(alpha=10))</pre></div></div></div><div class=\"sk-parallel\"><div class=\"sk-parallel-item\"><div class=\"sk-item\"><div class=\"sk-label-container\"><div class=\"sk-label sk-toggleable\"><input class=\"sk-toggleable__control sk-hidden--visually\" id=\"sk-estimator-id-47\" type=\"checkbox\" ><label for=\"sk-estimator-id-47\" class=\"sk-toggleable__label sk-toggleable__label-arrow\">estimator: Ridge</label><div class=\"sk-toggleable__content\"><pre>Ridge(alpha=10)</pre></div></div></div><div class=\"sk-serial\"><div class=\"sk-item\"><div class=\"sk-estimator sk-toggleable\"><input class=\"sk-toggleable__control sk-hidden--visually\" id=\"sk-estimator-id-48\" type=\"checkbox\" ><label for=\"sk-estimator-id-48\" class=\"sk-toggleable__label sk-toggleable__label-arrow\">Ridge</label><div class=\"sk-toggleable__content\"><pre>Ridge(alpha=10)</pre></div></div></div></div></div></div></div></div><div class=\"sk-item\"><div class=\"sk-estimator sk-toggleable\"><input class=\"sk-toggleable__control sk-hidden--visually\" id=\"sk-estimator-id-49\" type=\"checkbox\" ><label for=\"sk-estimator-id-49\" class=\"sk-toggleable__label sk-toggleable__label-arrow\">Ridge</label><div class=\"sk-toggleable__content\"><pre>Ridge(alpha=10)</pre></div></div></div></div></div></div></div></div></div></div></div></div>"
      ],
      "text/plain": [
       "GridSearchCV(estimator=Pipeline(steps=[('selector',\n",
       "                                        RFE(estimator=Ridge(alpha=10))),\n",
       "                                       ('model', Ridge(alpha=10))]),\n",
       "             param_grid={'selector__n_features_to_select': [5, 10, 15, 20]})"
      ]
     },
     "execution_count": 216,
     "metadata": {},
     "output_type": "execute_result"
    }
   ],
   "source": [
    "ridge_rfe_selector.fit(X_train,y_train)"
   ]
  },
  {
   "cell_type": "markdown",
   "metadata": {},
   "source": [
    "Identifying the best hyperparameters from the grid search"
   ]
  },
  {
   "cell_type": "code",
   "execution_count": 219,
   "metadata": {},
   "outputs": [
    {
     "data": {
      "text/plain": [
       "{'selector__n_features_to_select': 20}"
      ]
     },
     "execution_count": 219,
     "metadata": {},
     "output_type": "execute_result"
    }
   ],
   "source": [
    "ridge_rfe_selector.best_params_"
   ]
  },
  {
   "cell_type": "markdown",
   "metadata": {},
   "source": [
    "Getting selected features"
   ]
  },
  {
   "cell_type": "code",
   "execution_count": 218,
   "metadata": {},
   "outputs": [
    {
     "data": {
      "text/plain": [
       "['brand_eur',\n",
       " 'brand_kor',\n",
       " 'fuel_diesel',\n",
       " 'fuel_gas',\n",
       " 'fuel_hybrid',\n",
       " 'title_clean',\n",
       " 'title_lien',\n",
       " 'title_missing',\n",
       " 'title_parts only',\n",
       " 'title_rebuilt',\n",
       " 'transmission_other',\n",
       " 'type_hatchback',\n",
       " 'type_mini-van',\n",
       " 'type_offroad',\n",
       " 'type_pickup',\n",
       " 'type_sedan',\n",
       " 'type_truck',\n",
       " 'type_wagon',\n",
       " 'age',\n",
       " 'odometer']"
      ]
     },
     "execution_count": 218,
     "metadata": {},
     "output_type": "execute_result"
    }
   ],
   "source": [
    "ridge_rfe_features = ridge_rfe_selector.best_estimator_.named_steps['selector'].get_feature_names_out().tolist()\n",
    "ridge_rfe_features"
   ]
  },
  {
   "cell_type": "markdown",
   "metadata": {},
   "source": [
    "Getting predictions with RFE features for performance evaluation"
   ]
  },
  {
   "cell_type": "code",
   "execution_count": 279,
   "metadata": {},
   "outputs": [],
   "source": [
    "ridge_rfe_pred = Ridge(alpha=10).fit(X_train[ridge_rfe_features],y_train).predict(X_test[ridge_rfe_features])"
   ]
  },
  {
   "cell_type": "markdown",
   "metadata": {},
   "source": [
    "Evaluating **RMSE** for best model with **RFE** selected features"
   ]
  },
  {
   "cell_type": "code",
   "execution_count": 280,
   "metadata": {},
   "outputs": [
    {
     "name": "stdout",
     "output_type": "stream",
     "text": [
      "RFE: 0.22953741621991938\n",
      "ALL: 0.18788472441678095\n"
     ]
    }
   ],
   "source": [
    "print(f'RFE: {np.sqrt(mean_squared_error(y_test,ridge_rfe_pred))}\\nALL: {ridge_rmse}')"
   ]
  },
  {
   "cell_type": "markdown",
   "metadata": {},
   "source": [
    "Evaluating **MAE** for best model with **RFE** selected features"
   ]
  },
  {
   "cell_type": "code",
   "execution_count": 281,
   "metadata": {},
   "outputs": [
    {
     "name": "stdout",
     "output_type": "stream",
     "text": [
      "RFE: 0.16773153771783728\n",
      "ALL: 0.12957812951092512\n"
     ]
    }
   ],
   "source": [
    "print(f'RFE: {mean_absolute_error(y_test,ridge_rfe_pred)}\\nALL: {ridge_mae}')"
   ]
  },
  {
   "cell_type": "markdown",
   "metadata": {},
   "source": [
    "Instantiating **Sequential Feature Selection (SFS)** pipeline. Limiting to max 15 features selection due to processing time"
   ]
  },
  {
   "cell_type": "code",
   "execution_count": 222,
   "metadata": {},
   "outputs": [],
   "source": [
    "params = {'selector__n_features_to_select':[5,10,15]}\n",
    "ridge_sfs = Pipeline([('selector', SequentialFeatureSelector(estimator=Ridge(alpha=10))),\n",
    "                      ('model', Ridge(alpha=10))])"
   ]
  },
  {
   "cell_type": "markdown",
   "metadata": {},
   "source": [
    "Instantiating grid search for SFS"
   ]
  },
  {
   "cell_type": "code",
   "execution_count": 223,
   "metadata": {},
   "outputs": [],
   "source": [
    "ridge_sfs_selector = GridSearchCV(estimator=ridge_sfs,param_grid=params)"
   ]
  },
  {
   "cell_type": "markdown",
   "metadata": {},
   "source": [
    "Performing grid search for SFS"
   ]
  },
  {
   "cell_type": "code",
   "execution_count": 224,
   "metadata": {},
   "outputs": [
    {
     "data": {
      "text/html": [
       "<style>#sk-container-id-10 {color: black;background-color: white;}#sk-container-id-10 pre{padding: 0;}#sk-container-id-10 div.sk-toggleable {background-color: white;}#sk-container-id-10 label.sk-toggleable__label {cursor: pointer;display: block;width: 100%;margin-bottom: 0;padding: 0.3em;box-sizing: border-box;text-align: center;}#sk-container-id-10 label.sk-toggleable__label-arrow:before {content: \"▸\";float: left;margin-right: 0.25em;color: #696969;}#sk-container-id-10 label.sk-toggleable__label-arrow:hover:before {color: black;}#sk-container-id-10 div.sk-estimator:hover label.sk-toggleable__label-arrow:before {color: black;}#sk-container-id-10 div.sk-toggleable__content {max-height: 0;max-width: 0;overflow: hidden;text-align: left;background-color: #f0f8ff;}#sk-container-id-10 div.sk-toggleable__content pre {margin: 0.2em;color: black;border-radius: 0.25em;background-color: #f0f8ff;}#sk-container-id-10 input.sk-toggleable__control:checked~div.sk-toggleable__content {max-height: 200px;max-width: 100%;overflow: auto;}#sk-container-id-10 input.sk-toggleable__control:checked~label.sk-toggleable__label-arrow:before {content: \"▾\";}#sk-container-id-10 div.sk-estimator input.sk-toggleable__control:checked~label.sk-toggleable__label {background-color: #d4ebff;}#sk-container-id-10 div.sk-label input.sk-toggleable__control:checked~label.sk-toggleable__label {background-color: #d4ebff;}#sk-container-id-10 input.sk-hidden--visually {border: 0;clip: rect(1px 1px 1px 1px);clip: rect(1px, 1px, 1px, 1px);height: 1px;margin: -1px;overflow: hidden;padding: 0;position: absolute;width: 1px;}#sk-container-id-10 div.sk-estimator {font-family: monospace;background-color: #f0f8ff;border: 1px dotted black;border-radius: 0.25em;box-sizing: border-box;margin-bottom: 0.5em;}#sk-container-id-10 div.sk-estimator:hover {background-color: #d4ebff;}#sk-container-id-10 div.sk-parallel-item::after {content: \"\";width: 100%;border-bottom: 1px solid gray;flex-grow: 1;}#sk-container-id-10 div.sk-label:hover label.sk-toggleable__label {background-color: #d4ebff;}#sk-container-id-10 div.sk-serial::before {content: \"\";position: absolute;border-left: 1px solid gray;box-sizing: border-box;top: 0;bottom: 0;left: 50%;z-index: 0;}#sk-container-id-10 div.sk-serial {display: flex;flex-direction: column;align-items: center;background-color: white;padding-right: 0.2em;padding-left: 0.2em;position: relative;}#sk-container-id-10 div.sk-item {position: relative;z-index: 1;}#sk-container-id-10 div.sk-parallel {display: flex;align-items: stretch;justify-content: center;background-color: white;position: relative;}#sk-container-id-10 div.sk-item::before, #sk-container-id-10 div.sk-parallel-item::before {content: \"\";position: absolute;border-left: 1px solid gray;box-sizing: border-box;top: 0;bottom: 0;left: 50%;z-index: -1;}#sk-container-id-10 div.sk-parallel-item {display: flex;flex-direction: column;z-index: 1;position: relative;background-color: white;}#sk-container-id-10 div.sk-parallel-item:first-child::after {align-self: flex-end;width: 50%;}#sk-container-id-10 div.sk-parallel-item:last-child::after {align-self: flex-start;width: 50%;}#sk-container-id-10 div.sk-parallel-item:only-child::after {width: 0;}#sk-container-id-10 div.sk-dashed-wrapped {border: 1px dashed gray;margin: 0 0.4em 0.5em 0.4em;box-sizing: border-box;padding-bottom: 0.4em;background-color: white;}#sk-container-id-10 div.sk-label label {font-family: monospace;font-weight: bold;display: inline-block;line-height: 1.2em;}#sk-container-id-10 div.sk-label-container {text-align: center;}#sk-container-id-10 div.sk-container {/* jupyter's `normalize.less` sets `[hidden] { display: none; }` but bootstrap.min.css set `[hidden] { display: none !important; }` so we also need the `!important` here to be able to override the default hidden behavior on the sphinx rendered scikit-learn.org. See: https://github.com/scikit-learn/scikit-learn/issues/21755 */display: inline-block !important;position: relative;}#sk-container-id-10 div.sk-text-repr-fallback {display: none;}</style><div id=\"sk-container-id-10\" class=\"sk-top-container\"><div class=\"sk-text-repr-fallback\"><pre>GridSearchCV(estimator=Pipeline(steps=[(&#x27;selector&#x27;,\n",
       "                                        SequentialFeatureSelector(estimator=Ridge(alpha=10))),\n",
       "                                       (&#x27;model&#x27;, Ridge(alpha=10))]),\n",
       "             param_grid={&#x27;selector__n_features_to_select&#x27;: [5, 10, 15]})</pre><b>In a Jupyter environment, please rerun this cell to show the HTML representation or trust the notebook. <br />On GitHub, the HTML representation is unable to render, please try loading this page with nbviewer.org.</b></div><div class=\"sk-container\" hidden><div class=\"sk-item sk-dashed-wrapped\"><div class=\"sk-label-container\"><div class=\"sk-label sk-toggleable\"><input class=\"sk-toggleable__control sk-hidden--visually\" id=\"sk-estimator-id-50\" type=\"checkbox\" ><label for=\"sk-estimator-id-50\" class=\"sk-toggleable__label sk-toggleable__label-arrow\">GridSearchCV</label><div class=\"sk-toggleable__content\"><pre>GridSearchCV(estimator=Pipeline(steps=[(&#x27;selector&#x27;,\n",
       "                                        SequentialFeatureSelector(estimator=Ridge(alpha=10))),\n",
       "                                       (&#x27;model&#x27;, Ridge(alpha=10))]),\n",
       "             param_grid={&#x27;selector__n_features_to_select&#x27;: [5, 10, 15]})</pre></div></div></div><div class=\"sk-parallel\"><div class=\"sk-parallel-item\"><div class=\"sk-item\"><div class=\"sk-label-container\"><div class=\"sk-label sk-toggleable\"><input class=\"sk-toggleable__control sk-hidden--visually\" id=\"sk-estimator-id-51\" type=\"checkbox\" ><label for=\"sk-estimator-id-51\" class=\"sk-toggleable__label sk-toggleable__label-arrow\">estimator: Pipeline</label><div class=\"sk-toggleable__content\"><pre>Pipeline(steps=[(&#x27;selector&#x27;,\n",
       "                 SequentialFeatureSelector(estimator=Ridge(alpha=10))),\n",
       "                (&#x27;model&#x27;, Ridge(alpha=10))])</pre></div></div></div><div class=\"sk-serial\"><div class=\"sk-item\"><div class=\"sk-serial\"><div class=\"sk-item sk-dashed-wrapped\"><div class=\"sk-label-container\"><div class=\"sk-label sk-toggleable\"><input class=\"sk-toggleable__control sk-hidden--visually\" id=\"sk-estimator-id-52\" type=\"checkbox\" ><label for=\"sk-estimator-id-52\" class=\"sk-toggleable__label sk-toggleable__label-arrow\">selector: SequentialFeatureSelector</label><div class=\"sk-toggleable__content\"><pre>SequentialFeatureSelector(estimator=Ridge(alpha=10))</pre></div></div></div><div class=\"sk-parallel\"><div class=\"sk-parallel-item\"><div class=\"sk-item\"><div class=\"sk-label-container\"><div class=\"sk-label sk-toggleable\"><input class=\"sk-toggleable__control sk-hidden--visually\" id=\"sk-estimator-id-53\" type=\"checkbox\" ><label for=\"sk-estimator-id-53\" class=\"sk-toggleable__label sk-toggleable__label-arrow\">estimator: Ridge</label><div class=\"sk-toggleable__content\"><pre>Ridge(alpha=10)</pre></div></div></div><div class=\"sk-serial\"><div class=\"sk-item\"><div class=\"sk-estimator sk-toggleable\"><input class=\"sk-toggleable__control sk-hidden--visually\" id=\"sk-estimator-id-54\" type=\"checkbox\" ><label for=\"sk-estimator-id-54\" class=\"sk-toggleable__label sk-toggleable__label-arrow\">Ridge</label><div class=\"sk-toggleable__content\"><pre>Ridge(alpha=10)</pre></div></div></div></div></div></div></div></div><div class=\"sk-item\"><div class=\"sk-estimator sk-toggleable\"><input class=\"sk-toggleable__control sk-hidden--visually\" id=\"sk-estimator-id-55\" type=\"checkbox\" ><label for=\"sk-estimator-id-55\" class=\"sk-toggleable__label sk-toggleable__label-arrow\">Ridge</label><div class=\"sk-toggleable__content\"><pre>Ridge(alpha=10)</pre></div></div></div></div></div></div></div></div></div></div></div></div>"
      ],
      "text/plain": [
       "GridSearchCV(estimator=Pipeline(steps=[('selector',\n",
       "                                        SequentialFeatureSelector(estimator=Ridge(alpha=10))),\n",
       "                                       ('model', Ridge(alpha=10))]),\n",
       "             param_grid={'selector__n_features_to_select': [5, 10, 15]})"
      ]
     },
     "execution_count": 224,
     "metadata": {},
     "output_type": "execute_result"
    }
   ],
   "source": [
    "ridge_sfs_selector.fit(X_trans,y_trans)"
   ]
  },
  {
   "cell_type": "markdown",
   "metadata": {},
   "source": [
    "Identifying the best hyperparameters from the grid search"
   ]
  },
  {
   "cell_type": "code",
   "execution_count": 225,
   "metadata": {},
   "outputs": [
    {
     "data": {
      "text/plain": [
       "{'selector__n_features_to_select': 15}"
      ]
     },
     "execution_count": 225,
     "metadata": {},
     "output_type": "execute_result"
    }
   ],
   "source": [
    "ridge_sfs_selector.best_params_"
   ]
  },
  {
   "cell_type": "markdown",
   "metadata": {},
   "source": [
    "Getting selected features"
   ]
  },
  {
   "cell_type": "code",
   "execution_count": 226,
   "metadata": {},
   "outputs": [
    {
     "data": {
      "text/plain": [
       "['condition',\n",
       " 'brand_eur',\n",
       " 'brand_kor',\n",
       " 'fuel_diesel',\n",
       " 'fuel_gas',\n",
       " 'title_clean',\n",
       " 'transmission_other',\n",
       " 'type_hatchback',\n",
       " 'type_mini-van',\n",
       " 'type_pickup',\n",
       " 'type_sedan',\n",
       " 'type_truck',\n",
       " 'type_wagon',\n",
       " 'age',\n",
       " 'odometer']"
      ]
     },
     "execution_count": 226,
     "metadata": {},
     "output_type": "execute_result"
    }
   ],
   "source": [
    "ridge_sfs_features = ridge_sfs_selector.best_estimator_.named_steps['selector'].get_feature_names_out().tolist()\n",
    "ridge_sfs_features"
   ]
  },
  {
   "cell_type": "markdown",
   "metadata": {},
   "source": [
    "Getting predictions with SFS features for performance evaluation"
   ]
  },
  {
   "cell_type": "code",
   "execution_count": 283,
   "metadata": {},
   "outputs": [],
   "source": [
    "ridge_sfs_pred = Ridge(alpha=10).fit(X_train[ridge_sfs_features],y_train).predict(X_test[ridge_sfs_features])"
   ]
  },
  {
   "cell_type": "markdown",
   "metadata": {},
   "source": [
    "Evaluating **RMSE** for best model with **SFS** selected features"
   ]
  },
  {
   "cell_type": "code",
   "execution_count": 284,
   "metadata": {},
   "outputs": [
    {
     "name": "stdout",
     "output_type": "stream",
     "text": [
      "SFS: 0.22899261381499791\n",
      "ALL: 0.18788472441678095\n"
     ]
    }
   ],
   "source": [
    "print(f'SFS: {np.sqrt(mean_squared_error(y_test,ridge_sfs_pred))}\\nALL: {ridge_rmse}')"
   ]
  },
  {
   "cell_type": "markdown",
   "metadata": {},
   "source": [
    "Evaluating **MAE** for best model with **SFS** selected features"
   ]
  },
  {
   "cell_type": "code",
   "execution_count": 285,
   "metadata": {},
   "outputs": [
    {
     "name": "stdout",
     "output_type": "stream",
     "text": [
      "SFS: 0.16795458404603114\n",
      "ALL: 0.12957812951092512\n"
     ]
    }
   ],
   "source": [
    "print(f'SFS: {mean_absolute_error(y_test, ridge_sfs_pred)}\\nALL: {ridge_mae}')"
   ]
  },
  {
   "cell_type": "markdown",
   "metadata": {},
   "source": [
    "### 4. Lasso Modeling"
   ]
  },
  {
   "cell_type": "markdown",
   "metadata": {},
   "source": [
    "Instantiating Lasso Regression model pipeline. FeatureEngineering and TransformedTargetRegressor were omitted and pre-run on the data set due to lengthy processing time"
   ]
  },
  {
   "cell_type": "code",
   "execution_count": 234,
   "metadata": {},
   "outputs": [],
   "source": [
    "#lasso_pipe = Pipeline([('feateng',FeatureEngineering),\n",
    "#                       ('polyfeat',PolynomialFeatures(include_bias=False)),\n",
    "#                       ('lasso',TransformedTargetRegressor(\\\n",
    "#                                                           regressor=Lasso(),\n",
    "#                                                           func=np.log10, \n",
    "#                                                           inverse_func=sp.special.exp10),\n",
    "#                      ])\n",
    "\n",
    "lasso_pipe = Pipeline([('polyfeat',PolynomialFeatures(include_bias=False)),\n",
    "                       ('lasso',Lasso())\n",
    "                      ])"
   ]
  },
  {
   "cell_type": "markdown",
   "metadata": {},
   "source": [
    "Instantiating GridSearch for Lasso Regression model"
   ]
  },
  {
   "cell_type": "code",
   "execution_count": 235,
   "metadata": {},
   "outputs": [],
   "source": [
    "params = {'polyfeat__degree':[1,2],'lasso__alpha':[0.001, 0.01, 0.1, 1, 10, 100, 1000]}\n",
    "lasso_selector = GridSearchCV(estimator=lasso_pipe,\n",
    "                                    param_grid=params,\n",
    "                                    scoring='neg_mean_squared_error',\n",
    "                                    cv=ShuffleSplit(n_splits=2, test_size=0.8, random_state=42))"
   ]
  },
  {
   "cell_type": "markdown",
   "metadata": {},
   "source": [
    "Performing grid search for the best model hyperparameters"
   ]
  },
  {
   "cell_type": "code",
   "execution_count": 236,
   "metadata": {},
   "outputs": [
    {
     "data": {
      "text/html": [
       "<style>#sk-container-id-11 {color: black;background-color: white;}#sk-container-id-11 pre{padding: 0;}#sk-container-id-11 div.sk-toggleable {background-color: white;}#sk-container-id-11 label.sk-toggleable__label {cursor: pointer;display: block;width: 100%;margin-bottom: 0;padding: 0.3em;box-sizing: border-box;text-align: center;}#sk-container-id-11 label.sk-toggleable__label-arrow:before {content: \"▸\";float: left;margin-right: 0.25em;color: #696969;}#sk-container-id-11 label.sk-toggleable__label-arrow:hover:before {color: black;}#sk-container-id-11 div.sk-estimator:hover label.sk-toggleable__label-arrow:before {color: black;}#sk-container-id-11 div.sk-toggleable__content {max-height: 0;max-width: 0;overflow: hidden;text-align: left;background-color: #f0f8ff;}#sk-container-id-11 div.sk-toggleable__content pre {margin: 0.2em;color: black;border-radius: 0.25em;background-color: #f0f8ff;}#sk-container-id-11 input.sk-toggleable__control:checked~div.sk-toggleable__content {max-height: 200px;max-width: 100%;overflow: auto;}#sk-container-id-11 input.sk-toggleable__control:checked~label.sk-toggleable__label-arrow:before {content: \"▾\";}#sk-container-id-11 div.sk-estimator input.sk-toggleable__control:checked~label.sk-toggleable__label {background-color: #d4ebff;}#sk-container-id-11 div.sk-label input.sk-toggleable__control:checked~label.sk-toggleable__label {background-color: #d4ebff;}#sk-container-id-11 input.sk-hidden--visually {border: 0;clip: rect(1px 1px 1px 1px);clip: rect(1px, 1px, 1px, 1px);height: 1px;margin: -1px;overflow: hidden;padding: 0;position: absolute;width: 1px;}#sk-container-id-11 div.sk-estimator {font-family: monospace;background-color: #f0f8ff;border: 1px dotted black;border-radius: 0.25em;box-sizing: border-box;margin-bottom: 0.5em;}#sk-container-id-11 div.sk-estimator:hover {background-color: #d4ebff;}#sk-container-id-11 div.sk-parallel-item::after {content: \"\";width: 100%;border-bottom: 1px solid gray;flex-grow: 1;}#sk-container-id-11 div.sk-label:hover label.sk-toggleable__label {background-color: #d4ebff;}#sk-container-id-11 div.sk-serial::before {content: \"\";position: absolute;border-left: 1px solid gray;box-sizing: border-box;top: 0;bottom: 0;left: 50%;z-index: 0;}#sk-container-id-11 div.sk-serial {display: flex;flex-direction: column;align-items: center;background-color: white;padding-right: 0.2em;padding-left: 0.2em;position: relative;}#sk-container-id-11 div.sk-item {position: relative;z-index: 1;}#sk-container-id-11 div.sk-parallel {display: flex;align-items: stretch;justify-content: center;background-color: white;position: relative;}#sk-container-id-11 div.sk-item::before, #sk-container-id-11 div.sk-parallel-item::before {content: \"\";position: absolute;border-left: 1px solid gray;box-sizing: border-box;top: 0;bottom: 0;left: 50%;z-index: -1;}#sk-container-id-11 div.sk-parallel-item {display: flex;flex-direction: column;z-index: 1;position: relative;background-color: white;}#sk-container-id-11 div.sk-parallel-item:first-child::after {align-self: flex-end;width: 50%;}#sk-container-id-11 div.sk-parallel-item:last-child::after {align-self: flex-start;width: 50%;}#sk-container-id-11 div.sk-parallel-item:only-child::after {width: 0;}#sk-container-id-11 div.sk-dashed-wrapped {border: 1px dashed gray;margin: 0 0.4em 0.5em 0.4em;box-sizing: border-box;padding-bottom: 0.4em;background-color: white;}#sk-container-id-11 div.sk-label label {font-family: monospace;font-weight: bold;display: inline-block;line-height: 1.2em;}#sk-container-id-11 div.sk-label-container {text-align: center;}#sk-container-id-11 div.sk-container {/* jupyter's `normalize.less` sets `[hidden] { display: none; }` but bootstrap.min.css set `[hidden] { display: none !important; }` so we also need the `!important` here to be able to override the default hidden behavior on the sphinx rendered scikit-learn.org. See: https://github.com/scikit-learn/scikit-learn/issues/21755 */display: inline-block !important;position: relative;}#sk-container-id-11 div.sk-text-repr-fallback {display: none;}</style><div id=\"sk-container-id-11\" class=\"sk-top-container\"><div class=\"sk-text-repr-fallback\"><pre>GridSearchCV(cv=ShuffleSplit(n_splits=2, random_state=42, test_size=0.8, train_size=None),\n",
       "             estimator=Pipeline(steps=[(&#x27;polyfeat&#x27;,\n",
       "                                        PolynomialFeatures(include_bias=False)),\n",
       "                                       (&#x27;lasso&#x27;, Lasso())]),\n",
       "             param_grid={&#x27;lasso__alpha&#x27;: [0.001, 0.01, 0.1, 1, 10, 100, 1000],\n",
       "                         &#x27;polyfeat__degree&#x27;: [1, 2]},\n",
       "             scoring=&#x27;neg_mean_squared_error&#x27;)</pre><b>In a Jupyter environment, please rerun this cell to show the HTML representation or trust the notebook. <br />On GitHub, the HTML representation is unable to render, please try loading this page with nbviewer.org.</b></div><div class=\"sk-container\" hidden><div class=\"sk-item sk-dashed-wrapped\"><div class=\"sk-label-container\"><div class=\"sk-label sk-toggleable\"><input class=\"sk-toggleable__control sk-hidden--visually\" id=\"sk-estimator-id-56\" type=\"checkbox\" ><label for=\"sk-estimator-id-56\" class=\"sk-toggleable__label sk-toggleable__label-arrow\">GridSearchCV</label><div class=\"sk-toggleable__content\"><pre>GridSearchCV(cv=ShuffleSplit(n_splits=2, random_state=42, test_size=0.8, train_size=None),\n",
       "             estimator=Pipeline(steps=[(&#x27;polyfeat&#x27;,\n",
       "                                        PolynomialFeatures(include_bias=False)),\n",
       "                                       (&#x27;lasso&#x27;, Lasso())]),\n",
       "             param_grid={&#x27;lasso__alpha&#x27;: [0.001, 0.01, 0.1, 1, 10, 100, 1000],\n",
       "                         &#x27;polyfeat__degree&#x27;: [1, 2]},\n",
       "             scoring=&#x27;neg_mean_squared_error&#x27;)</pre></div></div></div><div class=\"sk-parallel\"><div class=\"sk-parallel-item\"><div class=\"sk-item\"><div class=\"sk-label-container\"><div class=\"sk-label sk-toggleable\"><input class=\"sk-toggleable__control sk-hidden--visually\" id=\"sk-estimator-id-57\" type=\"checkbox\" ><label for=\"sk-estimator-id-57\" class=\"sk-toggleable__label sk-toggleable__label-arrow\">estimator: Pipeline</label><div class=\"sk-toggleable__content\"><pre>Pipeline(steps=[(&#x27;polyfeat&#x27;, PolynomialFeatures(include_bias=False)),\n",
       "                (&#x27;lasso&#x27;, Lasso())])</pre></div></div></div><div class=\"sk-serial\"><div class=\"sk-item\"><div class=\"sk-serial\"><div class=\"sk-item\"><div class=\"sk-estimator sk-toggleable\"><input class=\"sk-toggleable__control sk-hidden--visually\" id=\"sk-estimator-id-58\" type=\"checkbox\" ><label for=\"sk-estimator-id-58\" class=\"sk-toggleable__label sk-toggleable__label-arrow\">PolynomialFeatures</label><div class=\"sk-toggleable__content\"><pre>PolynomialFeatures(include_bias=False)</pre></div></div></div><div class=\"sk-item\"><div class=\"sk-estimator sk-toggleable\"><input class=\"sk-toggleable__control sk-hidden--visually\" id=\"sk-estimator-id-59\" type=\"checkbox\" ><label for=\"sk-estimator-id-59\" class=\"sk-toggleable__label sk-toggleable__label-arrow\">Lasso</label><div class=\"sk-toggleable__content\"><pre>Lasso()</pre></div></div></div></div></div></div></div></div></div></div></div></div>"
      ],
      "text/plain": [
       "GridSearchCV(cv=ShuffleSplit(n_splits=2, random_state=42, test_size=0.8, train_size=None),\n",
       "             estimator=Pipeline(steps=[('polyfeat',\n",
       "                                        PolynomialFeatures(include_bias=False)),\n",
       "                                       ('lasso', Lasso())]),\n",
       "             param_grid={'lasso__alpha': [0.001, 0.01, 0.1, 1, 10, 100, 1000],\n",
       "                         'polyfeat__degree': [1, 2]},\n",
       "             scoring='neg_mean_squared_error')"
      ]
     },
     "execution_count": 236,
     "metadata": {},
     "output_type": "execute_result"
    }
   ],
   "source": [
    "lasso_selector.fit(X_train, y_train)"
   ]
  },
  {
   "cell_type": "markdown",
   "metadata": {},
   "source": [
    "Selecting best model"
   ]
  },
  {
   "cell_type": "code",
   "execution_count": 237,
   "metadata": {},
   "outputs": [],
   "source": [
    "lasso_model = lasso_selector.best_estimator_"
   ]
  },
  {
   "cell_type": "markdown",
   "metadata": {},
   "source": [
    "Identifying the best hyperparameters for the grid search"
   ]
  },
  {
   "cell_type": "code",
   "execution_count": 238,
   "metadata": {},
   "outputs": [
    {
     "data": {
      "text/plain": [
       "{'lasso__alpha': 0.001, 'polyfeat__degree': 2}"
      ]
     },
     "execution_count": 238,
     "metadata": {},
     "output_type": "execute_result"
    }
   ],
   "source": [
    "lasso_params = lasso_selector.best_params_\n",
    "lasso_params"
   ]
  },
  {
   "cell_type": "markdown",
   "metadata": {},
   "source": [
    "Getting best model coefficients. Updated for module pipeline without FE & TTR"
   ]
  },
  {
   "cell_type": "code",
   "execution_count": 253,
   "metadata": {},
   "outputs": [
    {
     "data": {
      "text/html": [
       "<div>\n",
       "<style scoped>\n",
       "    .dataframe tbody tr th:only-of-type {\n",
       "        vertical-align: middle;\n",
       "    }\n",
       "\n",
       "    .dataframe tbody tr th {\n",
       "        vertical-align: top;\n",
       "    }\n",
       "\n",
       "    .dataframe thead th {\n",
       "        text-align: right;\n",
       "    }\n",
       "</style>\n",
       "<table border=\"1\" class=\"dataframe\">\n",
       "  <thead>\n",
       "    <tr style=\"text-align: right;\">\n",
       "      <th></th>\n",
       "      <th>COEF</th>\n",
       "    </tr>\n",
       "  </thead>\n",
       "  <tbody>\n",
       "    <tr>\n",
       "      <th>type_truck^2</th>\n",
       "      <td>0.113115</td>\n",
       "    </tr>\n",
       "    <tr>\n",
       "      <th>transmission_automatic type_pickup</th>\n",
       "      <td>0.090225</td>\n",
       "    </tr>\n",
       "    <tr>\n",
       "      <th>brand_usa fuel_diesel</th>\n",
       "      <td>0.061059</td>\n",
       "    </tr>\n",
       "    <tr>\n",
       "      <th>transmission_automatic type_truck</th>\n",
       "      <td>0.041115</td>\n",
       "    </tr>\n",
       "    <tr>\n",
       "      <th>condition transmission_other</th>\n",
       "      <td>0.041109</td>\n",
       "    </tr>\n",
       "    <tr>\n",
       "      <th>...</th>\n",
       "      <td>...</td>\n",
       "    </tr>\n",
       "    <tr>\n",
       "      <th>type_coupe odometer</th>\n",
       "      <td>-0.046695</td>\n",
       "    </tr>\n",
       "    <tr>\n",
       "      <th>title_clean type_mini-van</th>\n",
       "      <td>-0.051453</td>\n",
       "    </tr>\n",
       "    <tr>\n",
       "      <th>type_sedan</th>\n",
       "      <td>-0.077705</td>\n",
       "    </tr>\n",
       "    <tr>\n",
       "      <th>type_hatchback^2</th>\n",
       "      <td>-0.159355</td>\n",
       "    </tr>\n",
       "    <tr>\n",
       "      <th>age</th>\n",
       "      <td>-0.182038</td>\n",
       "    </tr>\n",
       "  </tbody>\n",
       "</table>\n",
       "<p>629 rows × 1 columns</p>\n",
       "</div>"
      ],
      "text/plain": [
       "                                        COEF\n",
       "type_truck^2                        0.113115\n",
       "transmission_automatic type_pickup  0.090225\n",
       "brand_usa fuel_diesel               0.061059\n",
       "transmission_automatic type_truck   0.041115\n",
       "condition transmission_other        0.041109\n",
       "...                                      ...\n",
       "type_coupe odometer                -0.046695\n",
       "title_clean type_mini-van          -0.051453\n",
       "type_sedan                         -0.077705\n",
       "type_hatchback^2                   -0.159355\n",
       "age                                -0.182038\n",
       "\n",
       "[629 rows x 1 columns]"
      ]
     },
     "execution_count": 253,
     "metadata": {},
     "output_type": "execute_result"
    }
   ],
   "source": [
    "#lasso_coefs = pd.DataFrame(lasso_model.named_steps['lasso'].regressor_.coef_, \n",
    "#                           index=[lasso_model.named_steps['polyfeat'].get_feature_names_out()],\n",
    "#                           columns=['COEF']).sort_values(by=['COEF'], ascending=False)\n",
    "\n",
    "lasso_coefs = pd.DataFrame(lasso_model.named_steps['lasso'].coef_, \n",
    "                           index=[lasso_model.named_steps['polyfeat'].get_feature_names_out()],\n",
    "                           columns=['COEF'])\n",
    "lasso_coefs.sort_values(by=['COEF'], ascending=False)"
   ]
  },
  {
   "cell_type": "markdown",
   "metadata": {},
   "source": [
    "Identifying Lasso feature elimination"
   ]
  },
  {
   "cell_type": "code",
   "execution_count": 246,
   "metadata": {},
   "outputs": [
    {
     "data": {
      "text/html": [
       "<div>\n",
       "<style scoped>\n",
       "    .dataframe tbody tr th:only-of-type {\n",
       "        vertical-align: middle;\n",
       "    }\n",
       "\n",
       "    .dataframe tbody tr th {\n",
       "        vertical-align: top;\n",
       "    }\n",
       "\n",
       "    .dataframe thead th {\n",
       "        text-align: right;\n",
       "    }\n",
       "</style>\n",
       "<table border=\"1\" class=\"dataframe\">\n",
       "  <thead>\n",
       "    <tr style=\"text-align: right;\">\n",
       "      <th></th>\n",
       "      <th>COEF</th>\n",
       "    </tr>\n",
       "  </thead>\n",
       "  <tbody>\n",
       "    <tr>\n",
       "      <th>brand_eur</th>\n",
       "      <td>0.0</td>\n",
       "    </tr>\n",
       "    <tr>\n",
       "      <th>brand_jap</th>\n",
       "      <td>-0.0</td>\n",
       "    </tr>\n",
       "    <tr>\n",
       "      <th>brand_usa</th>\n",
       "      <td>0.0</td>\n",
       "    </tr>\n",
       "    <tr>\n",
       "      <th>fuel_electric</th>\n",
       "      <td>0.0</td>\n",
       "    </tr>\n",
       "    <tr>\n",
       "      <th>fuel_hybrid</th>\n",
       "      <td>-0.0</td>\n",
       "    </tr>\n",
       "    <tr>\n",
       "      <th>...</th>\n",
       "      <td>...</td>\n",
       "    </tr>\n",
       "    <tr>\n",
       "      <th>type_van type_wagon</th>\n",
       "      <td>0.0</td>\n",
       "    </tr>\n",
       "    <tr>\n",
       "      <th>type_van age</th>\n",
       "      <td>-0.0</td>\n",
       "    </tr>\n",
       "    <tr>\n",
       "      <th>type_van odometer</th>\n",
       "      <td>0.0</td>\n",
       "    </tr>\n",
       "    <tr>\n",
       "      <th>type_wagon age</th>\n",
       "      <td>0.0</td>\n",
       "    </tr>\n",
       "    <tr>\n",
       "      <th>type_wagon odometer</th>\n",
       "      <td>-0.0</td>\n",
       "    </tr>\n",
       "  </tbody>\n",
       "</table>\n",
       "<p>552 rows × 1 columns</p>\n",
       "</div>"
      ],
      "text/plain": [
       "                     COEF\n",
       "brand_eur             0.0\n",
       "brand_jap            -0.0\n",
       "brand_usa             0.0\n",
       "fuel_electric         0.0\n",
       "fuel_hybrid          -0.0\n",
       "...                   ...\n",
       "type_van type_wagon   0.0\n",
       "type_van age         -0.0\n",
       "type_van odometer     0.0\n",
       "type_wagon age        0.0\n",
       "type_wagon odometer  -0.0\n",
       "\n",
       "[552 rows x 1 columns]"
      ]
     },
     "execution_count": 246,
     "metadata": {},
     "output_type": "execute_result"
    }
   ],
   "source": [
    "lasso_coefs.query('COEF == 0')"
   ]
  },
  {
   "cell_type": "markdown",
   "metadata": {},
   "source": [
    "Evaluating the best model **R2 score**"
   ]
  },
  {
   "cell_type": "code",
   "execution_count": 312,
   "metadata": {},
   "outputs": [
    {
     "data": {
      "text/plain": [
       "0.7151231131369691"
      ]
     },
     "execution_count": 312,
     "metadata": {},
     "output_type": "execute_result"
    }
   ],
   "source": [
    "lasso_r2 = lasso_model.score(X_test,y_test)\n",
    "lasso_r2"
   ]
  },
  {
   "cell_type": "markdown",
   "metadata": {},
   "source": [
    "Evaluating the best model **RMSE**"
   ]
  },
  {
   "cell_type": "code",
   "execution_count": 248,
   "metadata": {},
   "outputs": [
    {
     "data": {
      "text/plain": [
       "0.19300213314391618"
      ]
     },
     "execution_count": 248,
     "metadata": {},
     "output_type": "execute_result"
    }
   ],
   "source": [
    "lasso_rmse = np.sqrt(mean_squared_error(y_test,lasso_model.predict(X_test)))\n",
    "lasso_rmse"
   ]
  },
  {
   "cell_type": "markdown",
   "metadata": {},
   "source": [
    "Evaluating the best model **MAE**"
   ]
  },
  {
   "cell_type": "code",
   "execution_count": 249,
   "metadata": {},
   "outputs": [
    {
     "data": {
      "text/plain": [
       "0.13484710541079808"
      ]
     },
     "execution_count": 249,
     "metadata": {},
     "output_type": "execute_result"
    }
   ],
   "source": [
    "lasso_mae = mean_absolute_error(y_test,lasso_model.predict(X_test))\n",
    "lasso_mae"
   ]
  },
  {
   "cell_type": "markdown",
   "metadata": {},
   "source": [
    "Evaluating Feature Permutation Importance"
   ]
  },
  {
   "cell_type": "code",
   "execution_count": 251,
   "metadata": {},
   "outputs": [],
   "source": [
    "lasso_fpi = permutation_importance(lasso_model, X_train, y_train, n_repeats=25, random_state=42)"
   ]
  },
  {
   "cell_type": "code",
   "execution_count": 319,
   "metadata": {},
   "outputs": [
    {
     "data": {
      "text/html": [
       "<div>\n",
       "<style scoped>\n",
       "    .dataframe tbody tr th:only-of-type {\n",
       "        vertical-align: middle;\n",
       "    }\n",
       "\n",
       "    .dataframe tbody tr th {\n",
       "        vertical-align: top;\n",
       "    }\n",
       "\n",
       "    .dataframe thead th {\n",
       "        text-align: right;\n",
       "    }\n",
       "</style>\n",
       "<table border=\"1\" class=\"dataframe\">\n",
       "  <thead>\n",
       "    <tr style=\"text-align: right;\">\n",
       "      <th></th>\n",
       "      <th>MEAN</th>\n",
       "      <th>STD</th>\n",
       "    </tr>\n",
       "  </thead>\n",
       "  <tbody>\n",
       "    <tr>\n",
       "      <th>age</th>\n",
       "      <td>0.358878</td>\n",
       "      <td>0.001571</td>\n",
       "    </tr>\n",
       "    <tr>\n",
       "      <th>odometer</th>\n",
       "      <td>0.287278</td>\n",
       "      <td>0.001225</td>\n",
       "    </tr>\n",
       "    <tr>\n",
       "      <th>type_sedan</th>\n",
       "      <td>0.060807</td>\n",
       "      <td>0.000574</td>\n",
       "    </tr>\n",
       "    <tr>\n",
       "      <th>type_truck</th>\n",
       "      <td>0.047231</td>\n",
       "      <td>0.000426</td>\n",
       "    </tr>\n",
       "    <tr>\n",
       "      <th>type_pickup</th>\n",
       "      <td>0.026990</td>\n",
       "      <td>0.000367</td>\n",
       "    </tr>\n",
       "    <tr>\n",
       "      <th>type_hatchback</th>\n",
       "      <td>0.025867</td>\n",
       "      <td>0.000252</td>\n",
       "    </tr>\n",
       "    <tr>\n",
       "      <th>condition</th>\n",
       "      <td>0.022310</td>\n",
       "      <td>0.000286</td>\n",
       "    </tr>\n",
       "    <tr>\n",
       "      <th>transmission_other</th>\n",
       "      <td>0.016922</td>\n",
       "      <td>0.000204</td>\n",
       "    </tr>\n",
       "    <tr>\n",
       "      <th>transmission_automatic</th>\n",
       "      <td>0.015854</td>\n",
       "      <td>0.000317</td>\n",
       "    </tr>\n",
       "    <tr>\n",
       "      <th>fuel_diesel</th>\n",
       "      <td>0.015465</td>\n",
       "      <td>0.000199</td>\n",
       "    </tr>\n",
       "    <tr>\n",
       "      <th>fuel_gas</th>\n",
       "      <td>0.012454</td>\n",
       "      <td>0.000286</td>\n",
       "    </tr>\n",
       "    <tr>\n",
       "      <th>brand_eur</th>\n",
       "      <td>0.008184</td>\n",
       "      <td>0.000157</td>\n",
       "    </tr>\n",
       "    <tr>\n",
       "      <th>brand_kor</th>\n",
       "      <td>0.007820</td>\n",
       "      <td>0.000161</td>\n",
       "    </tr>\n",
       "    <tr>\n",
       "      <th>title_clean</th>\n",
       "      <td>0.004876</td>\n",
       "      <td>0.000130</td>\n",
       "    </tr>\n",
       "    <tr>\n",
       "      <th>type_coupe</th>\n",
       "      <td>0.004407</td>\n",
       "      <td>0.000127</td>\n",
       "    </tr>\n",
       "    <tr>\n",
       "      <th>brand_usa</th>\n",
       "      <td>0.003906</td>\n",
       "      <td>0.000103</td>\n",
       "    </tr>\n",
       "    <tr>\n",
       "      <th>type_mini-van</th>\n",
       "      <td>0.002741</td>\n",
       "      <td>0.000076</td>\n",
       "    </tr>\n",
       "    <tr>\n",
       "      <th>type_wagon</th>\n",
       "      <td>0.002629</td>\n",
       "      <td>0.000077</td>\n",
       "    </tr>\n",
       "    <tr>\n",
       "      <th>type_convertible</th>\n",
       "      <td>0.002246</td>\n",
       "      <td>0.000103</td>\n",
       "    </tr>\n",
       "    <tr>\n",
       "      <th>type_other</th>\n",
       "      <td>0.000423</td>\n",
       "      <td>0.000032</td>\n",
       "    </tr>\n",
       "    <tr>\n",
       "      <th>title_salvage</th>\n",
       "      <td>0.000357</td>\n",
       "      <td>0.000017</td>\n",
       "    </tr>\n",
       "    <tr>\n",
       "      <th>brand_jap</th>\n",
       "      <td>0.000100</td>\n",
       "      <td>0.000009</td>\n",
       "    </tr>\n",
       "    <tr>\n",
       "      <th>transmission_manual</th>\n",
       "      <td>0.000050</td>\n",
       "      <td>0.000005</td>\n",
       "    </tr>\n",
       "    <tr>\n",
       "      <th>type_SUV</th>\n",
       "      <td>0.000011</td>\n",
       "      <td>0.000002</td>\n",
       "    </tr>\n",
       "    <tr>\n",
       "      <th>fuel_electric</th>\n",
       "      <td>0.000000</td>\n",
       "      <td>0.000000</td>\n",
       "    </tr>\n",
       "    <tr>\n",
       "      <th>fuel_hybrid</th>\n",
       "      <td>0.000000</td>\n",
       "      <td>0.000000</td>\n",
       "    </tr>\n",
       "    <tr>\n",
       "      <th>type_offroad</th>\n",
       "      <td>0.000000</td>\n",
       "      <td>0.000000</td>\n",
       "    </tr>\n",
       "    <tr>\n",
       "      <th>title_rebuilt</th>\n",
       "      <td>0.000000</td>\n",
       "      <td>0.000000</td>\n",
       "    </tr>\n",
       "    <tr>\n",
       "      <th>title_parts only</th>\n",
       "      <td>0.000000</td>\n",
       "      <td>0.000000</td>\n",
       "    </tr>\n",
       "    <tr>\n",
       "      <th>title_missing</th>\n",
       "      <td>0.000000</td>\n",
       "      <td>0.000000</td>\n",
       "    </tr>\n",
       "    <tr>\n",
       "      <th>type_van</th>\n",
       "      <td>0.000000</td>\n",
       "      <td>0.000000</td>\n",
       "    </tr>\n",
       "    <tr>\n",
       "      <th>title_lien</th>\n",
       "      <td>0.000000</td>\n",
       "      <td>0.000000</td>\n",
       "    </tr>\n",
       "    <tr>\n",
       "      <th>fuel_other</th>\n",
       "      <td>0.000000</td>\n",
       "      <td>0.000000</td>\n",
       "    </tr>\n",
       "    <tr>\n",
       "      <th>type_bus</th>\n",
       "      <td>0.000000</td>\n",
       "      <td>0.000000</td>\n",
       "    </tr>\n",
       "  </tbody>\n",
       "</table>\n",
       "</div>"
      ],
      "text/plain": [
       "                            MEAN       STD\n",
       "age                     0.358878  0.001571\n",
       "odometer                0.287278  0.001225\n",
       "type_sedan              0.060807  0.000574\n",
       "type_truck              0.047231  0.000426\n",
       "type_pickup             0.026990  0.000367\n",
       "type_hatchback          0.025867  0.000252\n",
       "condition               0.022310  0.000286\n",
       "transmission_other      0.016922  0.000204\n",
       "transmission_automatic  0.015854  0.000317\n",
       "fuel_diesel             0.015465  0.000199\n",
       "fuel_gas                0.012454  0.000286\n",
       "brand_eur               0.008184  0.000157\n",
       "brand_kor               0.007820  0.000161\n",
       "title_clean             0.004876  0.000130\n",
       "type_coupe              0.004407  0.000127\n",
       "brand_usa               0.003906  0.000103\n",
       "type_mini-van           0.002741  0.000076\n",
       "type_wagon              0.002629  0.000077\n",
       "type_convertible        0.002246  0.000103\n",
       "type_other              0.000423  0.000032\n",
       "title_salvage           0.000357  0.000017\n",
       "brand_jap               0.000100  0.000009\n",
       "transmission_manual     0.000050  0.000005\n",
       "type_SUV                0.000011  0.000002\n",
       "fuel_electric           0.000000  0.000000\n",
       "fuel_hybrid             0.000000  0.000000\n",
       "type_offroad            0.000000  0.000000\n",
       "title_rebuilt           0.000000  0.000000\n",
       "title_parts only        0.000000  0.000000\n",
       "title_missing           0.000000  0.000000\n",
       "type_van                0.000000  0.000000\n",
       "title_lien              0.000000  0.000000\n",
       "fuel_other              0.000000  0.000000\n",
       "type_bus                0.000000  0.000000"
      ]
     },
     "execution_count": 319,
     "metadata": {},
     "output_type": "execute_result"
    }
   ],
   "source": [
    "lasso_imp = pd.DataFrame({'MEAN':lasso_fpi['importances_mean'],'STD':lasso_fpi['importances_std']},\n",
    "                              index=X_train.columns)\n",
    "lasso_imp.sort_values(by=['MEAN'],ascending=False)"
   ]
  },
  {
   "cell_type": "markdown",
   "metadata": {},
   "source": [
    "## Evaluation\n",
    "\n",
    "After some modeling has been accomplished, the objective is to reflect on what has been identified as a high quality model and what can be learned from this. The business objective should be reviewed and explore how to provide meaningful insight on drivers of used car prices.  The goal now is to distill the findings and determine whether the earlier phases need revisitation and adjustment or if there is enough information of value to bring back to the client."
   ]
  },
  {
   "cell_type": "markdown",
   "metadata": {},
   "source": [
    "### 1. Comparing modeling performance"
   ]
  },
  {
   "cell_type": "code",
   "execution_count": 313,
   "metadata": {},
   "outputs": [
    {
     "data": {
      "text/html": [
       "<div>\n",
       "<style scoped>\n",
       "    .dataframe tbody tr th:only-of-type {\n",
       "        vertical-align: middle;\n",
       "    }\n",
       "\n",
       "    .dataframe tbody tr th {\n",
       "        vertical-align: top;\n",
       "    }\n",
       "\n",
       "    .dataframe thead th {\n",
       "        text-align: right;\n",
       "    }\n",
       "</style>\n",
       "<table border=\"1\" class=\"dataframe\">\n",
       "  <thead>\n",
       "    <tr style=\"text-align: right;\">\n",
       "      <th></th>\n",
       "      <th>RMSE</th>\n",
       "      <th>MAE</th>\n",
       "      <th>R2</th>\n",
       "      <th>Params</th>\n",
       "    </tr>\n",
       "  </thead>\n",
       "  <tbody>\n",
       "    <tr>\n",
       "      <th>Ridge Regression</th>\n",
       "      <td>0.187885</td>\n",
       "      <td>0.129578</td>\n",
       "      <td>0.730030</td>\n",
       "      <td>{'polyfeat__degree': 2, 'ridge__alpha': 10}</td>\n",
       "    </tr>\n",
       "    <tr>\n",
       "      <th>Lasso Regression</th>\n",
       "      <td>0.193002</td>\n",
       "      <td>0.134847</td>\n",
       "      <td>0.715123</td>\n",
       "      <td>{'lasso__alpha': 0.001, 'polyfeat__degree': 2}</td>\n",
       "    </tr>\n",
       "    <tr>\n",
       "      <th>Linear Regression</th>\n",
       "      <td>0.228229</td>\n",
       "      <td>0.167131</td>\n",
       "      <td>0.601640</td>\n",
       "      <td>{'polyfeat__degree': 1}</td>\n",
       "    </tr>\n",
       "  </tbody>\n",
       "</table>\n",
       "</div>"
      ],
      "text/plain": [
       "                       RMSE       MAE        R2  \\\n",
       "Ridge Regression   0.187885  0.129578  0.730030   \n",
       "Lasso Regression   0.193002  0.134847  0.715123   \n",
       "Linear Regression  0.228229  0.167131  0.601640   \n",
       "\n",
       "                                                           Params  \n",
       "Ridge Regression      {'polyfeat__degree': 2, 'ridge__alpha': 10}  \n",
       "Lasso Regression   {'lasso__alpha': 0.001, 'polyfeat__degree': 2}  \n",
       "Linear Regression                         {'polyfeat__degree': 1}  "
      ]
     },
     "execution_count": 313,
     "metadata": {},
     "output_type": "execute_result"
    }
   ],
   "source": [
    "modules_performance = pd.DataFrame({'RMSE':[lnreg_rmse,ridge_rmse,lasso_rmse],\\\n",
    "                                    'MAE':[lnreg_mae,ridge_mae,lasso_mae],\\\n",
    "                                    'R2':[lnreg_r2,ridge_r2,lasso_r2],\\\n",
    "                                    'Params':[lnreg_params,ridge_params,lasso_params]},\\\n",
    "                                    columns=['RMSE','MAE','R2','Params'],\\\n",
    "                                    index=['Linear Regression','Ridge Regression','Lasso Regression'])\n",
    "modules_performance.sort_values(by=['RMSE','MAE','R2'])"
   ]
  },
  {
   "cell_type": "markdown",
   "metadata": {},
   "source": [
    "Based on the above comparison, it seems like the best performance is for **Ridge Regression Model** with **alpha=10** and **Polynomial Features** with **degree=2** therefore any insight and recommendations should be based mainly on the results and observations from that model."
   ]
  },
  {
   "cell_type": "markdown",
   "metadata": {},
   "source": [
    "### 2. Main Observations"
   ]
  },
  {
   "cell_type": "markdown",
   "metadata": {},
   "source": [
    "Looking at the **Feature Permutation Importance** results, the following features seem to affect the price the most: \n",
    "* **Age**\n",
    "* **Odometer**\n",
    "* **Type**\n",
    "* **Condition**\n",
    "\n",
    "The following features seem to also affect the price but with a lesser degree:\n",
    "* **Title**\n",
    "* **Fuel Type**\n",
    "* **Transmission**\n",
    "* **Brand**\n",
    "\n",
    "These observations seem to be consistent with the feature selection processes **RFE** and **SFS** that selected these features for best modeling performance"
   ]
  },
  {
   "cell_type": "markdown",
   "metadata": {},
   "source": [
    "### 3. Considerations"
   ]
  },
  {
   "cell_type": "markdown",
   "metadata": {},
   "source": [
    "It is important to consider that overall the quality of the data was marginal and that the above modeling was done with only **~50%** of the original dataset, mainly due to the following:\n",
    "* Missing data\n",
    "* Potentially duplicated data\n",
    "* Inconsistent values\n",
    "\n",
    "The following table summarizes the data preparation process, highlighting the evaluation and actions taken for each feature:\n",
    "<center>\n",
    "    <img src = images/feature_table.png width = 60%/>\n",
    "</center>\n",
    "The best effort was put into adequating the data for use with the modeling and several assumptions were made based on industry knowledge and online research.\n",
    "It is important to note that an iteration process was performed to identify data processing methods that could further improve modeling performance. As an example, all models were evaluated with regular values for the target variable but after applying logarithmic transformation, the modeling performance improved significantly."
   ]
  },
  {
   "cell_type": "markdown",
   "metadata": {},
   "source": [
    "### 4. Data Analysis Recommendations"
   ]
  },
  {
   "cell_type": "markdown",
   "metadata": {},
   "source": [
    "Given the time constrains and complexity of the modeling process that required significant computing power, it was necessary to limit the analysis to a basic iteration process to quickly determine if the business objective could be achieve. In order to improve the initial findings and provide further insight into the factors that drive the used car prices, these are some basic follow up recommendations:\n",
    "\n",
    "* Perform further analysis on the data to enhance quality\n",
    "* Evaluate other data transformation options to include features that were initially deemed inadequate or insufficient\n",
    "* Perform a Multiple Imputation process for critical features with significant ammount of missing data"
   ]
  },
  {
   "cell_type": "markdown",
   "metadata": {},
   "source": [
    "## Deployment\n",
    "\n",
    "Now that the best model has been identified and the results have been analyzed, the information has to be delivered to the client. A basic report that details the primary findings should be provided with the consideration that the audience is a group of used car dealers interested in fine tuning their inventory."
   ]
  },
  {
   "cell_type": "markdown",
   "metadata": {},
   "source": [
    "### 1. Final Customer Report"
   ]
  },
  {
   "cell_type": "markdown",
   "metadata": {},
   "source": [
    "**Overview**\n",
    "\n",
    "The intent of this project is to analyze data from past sales of used cars in order to identify the different characteristics in a vehicle that influence the sale price so available and future inventory can be managed to improve sales and consequently increase revenue\n",
    "\n",
    "**Description**\n",
    "\n",
    "The sales data was procured from a well-known internet source (Kaggle) and it contains a large amount of historical transaction records with vehicle information like:\n",
    "\n",
    "* Sale Price\n",
    "* Model Year\n",
    "* Make and Model\n",
    "* Condition\n",
    "* Engine size and Fuel Type\n",
    "* Odometer\n",
    "* Status of the Title\n",
    "* Transmission\n",
    "* VIN\n",
    "* Drivetrain\n",
    "* Size\n",
    "* Type of Vehicle\n",
    "* Color\n",
    "* Registration State\n",
    "\n",
    "The available data was evaluated and processed to ensure accuracy and then analyzed through different Artificial Intelligence models that can identify the factors that influence the most the sale price.\n",
    "\n",
    "**Conclusions**\n",
    "\n",
    "After thorough simulation and careful evaluation of the modeling process, the following characteristics were deemed critical in driving the sale price:\n",
    "\n",
    "* Age\n",
    "* Odometer\n",
    "* Type\n",
    "* Condition\n",
    "\n",
    "As these findings may be expected, it is important to note that historical data analysis seems to reinforce those notions. Additionally, the following characteristics also have considerable influence, to a lesser degree:\n",
    "\n",
    "* Title\n",
    "* Fuel Type\n",
    "* Transmission\n",
    "* Brand\n",
    "\n",
    "**Recommendations**\n",
    "\n",
    "Based on these findings, the following recommendations may help improve inventory management:\n",
    "\n",
    "* Maintain an updated fleet. Although the occasional vintage or restored vehicle may generate a high revenue transaction, most higher price sales should be driven by newer vehicles\n",
    "* Low milage seems to be preferred and pay for by customers. Lease returns with limited milage by contract and second cars should be great options\n",
    "* Pickups, trucks, and sedans appear to have higher sale prices\n",
    "* As always, a vehicle in mint condition should apprise at a much higher price. Single owner or owners with no family or pets are desirable options to source these type of cars for resale\n",
    "* Additionally, characteristics like a clean Title, European brands, and Automatic transmission seem to sale at a higher price\n",
    "* Ultimately, this AI modeling process can be used to more accurately set pricing to existing car inventory based on market conditions and desired features\n",
    "\n",
    "**Considerations**\n",
    "\n",
    "Despite the best effort to prepare and analyze the data within project's time frame, further work should be done to improve this process in order to gain further insight and more detailed recommendations on how to best manage vehicle inventory."
   ]
  }
 ],
 "metadata": {
  "kernelspec": {
   "display_name": "Python 3 (ipykernel)",
   "language": "python",
   "name": "python3"
  },
  "language_info": {
   "codemirror_mode": {
    "name": "ipython",
    "version": 3
   },
   "file_extension": ".py",
   "mimetype": "text/x-python",
   "name": "python",
   "nbconvert_exporter": "python",
   "pygments_lexer": "ipython3",
   "version": "3.11.7"
  },
  "widgets": {
   "application/vnd.jupyter.widget-state+json": {
    "state": {},
    "version_major": 2,
    "version_minor": 0
   }
  }
 },
 "nbformat": 4,
 "nbformat_minor": 4
}
